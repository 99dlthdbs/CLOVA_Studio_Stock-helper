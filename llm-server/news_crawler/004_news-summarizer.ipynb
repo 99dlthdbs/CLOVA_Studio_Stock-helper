{
 "cells": [
  {
   "cell_type": "code",
   "execution_count": 7,
   "metadata": {},
   "outputs": [
    {
     "name": "stdout",
     "output_type": "stream",
     "text": [
      "{'summary': \"아래 텍스트는 실제 방송 내용과 차이가 있을 수 있으니 보다 정확한 내용은 방송으로 확인하시기 바람.\\n주 중반 삼성전자 노조 파업과 S&P글로벌이 전기차 배터리 수요 둔화에 관련 업종들의 신용 등급 전망을 '안정적'에서 '부정적'으로 하향 조정한 이슈에 매물 출회되며 시장 하락함.\\n주 후반 외국인의 현물, 선물 매도는 과도했다는 인식과 물가 둔화 전망에 투자 심리가 일부 회복되는 모습.\"}\n"
     ]
    }
   ],
   "source": [
    "# -*- coding: utf-8 -*-\n",
    "\n",
    "import base64\n",
    "import json\n",
    "import requests\n",
    "\n",
    "\n",
    "class TextSummarizer:\n",
    "    def __init__(self, api_key, api_key_primary_val):\n",
    "        self._api_key = api_key\n",
    "        self._api_key_primary_val = api_key_primary_val\n",
    "\n",
    "    def _send_request(self, completion_request):\n",
    "        headers = {\n",
    "            'X-NCP-APIGW-API-KEY-ID': self._api_key,\n",
    "            'X-NCP-APIGW-API-KEY': self._api_key_primary_val,\n",
    "            'Content-Type': 'application/json;UTF-8'\n",
    "        }\n",
    "        response = requests.post(url='https://naveropenapi.apigw.ntruss.com/text-summary/v1/summarize', data=json.dumps(completion_request), headers=headers)\n",
    "        result = json.loads(response.text)\n",
    "        return result\n",
    "\n",
    "    def execute(self, completion_request):\n",
    "        res = self._send_request(completion_request)\n",
    "        return res\n",
    "\n",
    "\n",
    "if __name__ == '__main__':\n",
    "    completion_executor = TextSummarizer(\n",
    "        api_key='30bbgk55ln',\n",
    "        api_key_primary_val = 'Uvu5xmCqC0WE6gjonbz67WCRJqpMFoyr6XrkzKz7'\n",
    "    )\n",
    "\n",
    "    input_title = '비스포크 AI 에어컨 신제품, 고급 빌라 등 공급'\n",
    "\n",
    "    input_txt = \"\"\"[다음은 DB금융투자 광주지점 조명은 PB 인터뷰 전문]\n",
    " \n",
    "* 아래 텍스트는 실제 방송 내용과 차이가 있을 수 있으니 보다 정확한 내용은 방송으로 확인하시기 바랍니다.\n",
    " \n",
    "◇진행자> 이번 순서는 '주식이 알고싶다'입니다. 여러분이 알면 도움이 될 주식시장의 흐름과 이슈를 분석해 보는 시간인데요. DB금융투자 광주지점 조명은 PB와 함께합니다. 안녕하십니까?\n",
    " \n",
    "◆조명은> 네, 안녕하세요. DB금융투자 광주지점 조명은 PB입니다. \n",
    " \n",
    "◇진행자> 먼저 지난주 시황은 어땠습니까?\n",
    " \n",
    "◆조명은> 지난주 초반 국내 증시는 AI 반도체 HBM과 원전 관련주들 급등세를 보였습니다. 최근 낙폭 과대를 보인 삼성전자 비롯 에코프로비엠 등 기관의 매수세가 유입되며 강세 출발하였습니다. 그러나 이후 금리 방향성에 대한 경계심리에 미 국채 금리 상승하며 외국인들의 현물 선물 매도세에 급락하였습니다. 주 중반 삼성전자 노조 파업과 S&P글로벌이 전기차 배터리 수요 둔화에 관련 업종들의 신용 등급 전망을 '안정적'에서 '부정적'으로 하향 조정한 이슈에 매물 출회되며 시장 하락했습니다. 주 후반 외국인의 현물, 선물 매도는 과도했다는 인식과 물가 둔화 전망에 투자 심리가 일부 회복되는 모습이었습니다. 전주 대비 코스피는 0.04% 포인트 하락한 2636.52포인트, 코스닥은 0.96% 포인트 상승한 839.98 포인트로 마감하였습니다.\n",
    " \n",
    "◇진행자> 미국의 4월 개인소비지출(PCE) 물가지수가 시장 예상대로 전 달과 동일한 상승률을 보였습니다. PCE는 미 연준이 가장 중요하게 생각하는 물가지표라고 하던데요. 시장 분위기 어떻습니까?\n",
    " \n",
    "◆조명은> PCE 물가가 둔화 속도는 느리지만 예상대로 나오면서 미국 주식 시장은 상승했고 미 국채 금리도 하락하는 등 시장은 긍정적으로 반응했습니다. 기대치에 부합하는 결과에 시장은 인플레이션 둔화로 해석하며 안도하는 분위기입니다. 6월 FOMC를 앞두고 1일부터 FOMC 기간까지 블랙아웃 기간에 돌입했습니다. 발표되는 주요 경제지표 결과와 이번 주 ECB 통화정책회의가 예정되어 있어 관망세 속 금리 이슈에 민감도가 높을 것으로 전망됩니다. \n",
    " \n",
    "◇진행자> 지난 4월 중동 이슈와 고환율, 고유가 여파에 우리 시장 조정을 받았습니다. 5월에 조금은 회복하지 않을까 기대했는데요. 결국 마이너스로 마감했습니다. 미국, 대만, 일본, 독일 등 주요국 증시들은 상승률을 기록 중인데 국내 증시만 소외받는 것 같아요. 역사적으로 5월은 시장이 좋지 않다 이런 이야기도 있던데 어떤가요?\n",
    " \n",
    "◆조명은> 5월 마감하면서 개별 종목으로도 신저가를 찍은 종목들이 많았습니다. 주식시장에서 5~10월 보다 11~4월 상승률이 높아 5월에는 주식을 팔아야 한다는 격언이 있기는 합니다. 결과론적인 이야기이긴 하지만, 하락 이유와 이 시기 선방하는 종목들을 체크해 보시는 것은 주식 공부에 도움이 됩니다. 하락한 이유는 미국 금리 불확실성에 갑작스러운 외국인 매도세, 2차전지 업황에 대한 부정적 전망이 신저가 종목 속출로 이어졌다고 보고 있습니다. 상승한 SK하이스의 경우 엔비디아 이슈와 고대역폭메모리(HBM) 수혜를 이유로 볼 수 있겠습니다. 현대차와 KB금융의 경우 '밸류업 관련주'로 꼽히며 주가가 선방했다는 분석입니다. 지수 하락세에도 연초 대비 외국인들의 지분율이 증가한 업종도 있습니다. 증권가에서는 6월 FOMC 회의까지는 불확실성이 지속될 수 있지만 금리 방향이 명확해진다면 증시가 반등할 수 있다고 예상하고 있습니다. \n",
    " \n",
    "◇진행자> 대외 불확실성에 최근 외국인 투자 자금이 상당히 국내 시장을 이탈했습니다. 그 와중에 연초보다도 외국인 지분율이 높아진 종목이 있다고 하셨는데 어떤 섹터인지 궁금합니다.\n",
    " \n",
    "\"\"\"\n",
    "\n",
    "    input_dict = {\n",
    "        \"document\": {\n",
    "            \"title\": f\"{input_title}\",\n",
    "            \"content\": f\"{input_txt}\"\n",
    "        },\n",
    "        \"option\": {\n",
    "            \"language\": \"ko\",\n",
    "            \"model\": \"news\",\n",
    "            \"tone\": 3,\n",
    "            \"summaryCount\": 3\n",
    "        }\n",
    "    }\n",
    "    # request_data = json.dumps(input_dict, ensure_ascii=False)\n",
    "\n",
    "    response_text = completion_executor.execute(input_dict)\n",
    "    # print(request_data)\n",
    "    print(response_text)\n"
   ]
  },
  {
   "cell_type": "code",
   "execution_count": 3,
   "metadata": {},
   "outputs": [
    {
     "ename": "NameError",
     "evalue": "name 'request_data' is not defined",
     "output_type": "error",
     "traceback": [
      "\u001b[0;31m---------------------------------------------------------------------------\u001b[0m",
      "\u001b[0;31mNameError\u001b[0m                                 Traceback (most recent call last)",
      "Cell \u001b[0;32mIn[3], line 1\u001b[0m\n\u001b[0;32m----> 1\u001b[0m completion_executor\u001b[38;5;241m.\u001b[39mexecute(\u001b[43mrequest_data\u001b[49m)\n",
      "\u001b[0;31mNameError\u001b[0m: name 'request_data' is not defined"
     ]
    }
   ],
   "source": [
    "completion_executor.execute(request_data)"
   ]
  },
  {
   "cell_type": "code",
   "execution_count": 1,
   "metadata": {},
   "outputs": [
    {
     "data": {
      "text/plain": [
       "423"
      ]
     },
     "execution_count": 1,
     "metadata": {},
     "output_type": "execute_result"
    }
   ],
   "source": [
    "a = '삼성전자가 6세대 갤럭시 폴더블폰 출시일을 한 달가량 앞당길 예정.\\n최원준 삼성전자 모바일경험(MX) 사업부 개발실장 부사장은 지난 7일 삼성전자 뉴스룸 사이트에 글을 띄워 \"다음 달부터 갤럭시 AI 실시간 통역 기능을 삼성전자 앱뿐 아니라 음성 전화 기능을 지원하는 다양한 제3자 메시지 앱으로 확대 적용한다\"고 밝힘.\\n최 부사장은 이어 \"새로운 폴더블 제품에는 폴더블에 최적화된 갤럭시 AI를 선보일 예정\"이라며 \"갤럭시 제품 중 가장 다재다능하고 유연한 폼팩터인 폴더블폰이 갤럭시 AI와 결합하면 더욱 새로운 가능성을 열 수 있을 것\"이라고 강조함.\\n이번 글은 삼성전자가 신제품 출시에 앞서 진행되는 마케팅 일환에서 나옴.\\n삼성전자가 제품 출시 한 달 전 마케팅을 시작하는 것을 감안하면 새 폴더블폰 시리즈는 이르면 다음 달 초에 나올 것으로 예상됨.'\n",
    "len(a)"
   ]
  },
  {
   "cell_type": "code",
   "execution_count": null,
   "metadata": {},
   "outputs": [],
   "source": []
  }
 ],
 "metadata": {
  "kernelspec": {
   "display_name": "ais",
   "language": "python",
   "name": "python3"
  },
  "language_info": {
   "codemirror_mode": {
    "name": "ipython",
    "version": 3
   },
   "file_extension": ".py",
   "mimetype": "text/x-python",
   "name": "python",
   "nbconvert_exporter": "python",
   "pygments_lexer": "ipython3",
   "version": "3.10.12"
  }
 },
 "nbformat": 4,
 "nbformat_minor": 2
}
