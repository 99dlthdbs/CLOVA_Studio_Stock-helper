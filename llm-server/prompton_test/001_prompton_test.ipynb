{
 "cells": [
  {
   "cell_type": "code",
   "execution_count": 2,
   "metadata": {},
   "outputs": [],
   "source": [
    "import requests"
   ]
  },
  {
   "cell_type": "code",
   "execution_count": 45,
   "metadata": {},
   "outputs": [],
   "source": [
    "import os\n",
    "response = requests.post(\n",
    "    'https://api-laas.wanted.co.kr/api/preset/chat/completions',\n",
    "    headers = {\n",
    "        \"project\": \"PROMPTHON_PRJ_426\", \n",
    "        \"apiKey\": \"2058130d1ba22d9614c78c9d2947afd5e01f59c016c56eda096b937d6a478d3f\" \n",
    "    },\n",
    "    json = {\n",
    "        \"hash\": \"960493efa4fa9695a2f0b62acaa806351fdd1921d8712949fb69868491bcf2cd\", \n",
    "        \"params\": {\n",
    "            \"company\": \"BGF리테일\",\n",
    "            \"date_today\":\"2024년 7월 12일\"\n",
    "        } \n",
    "    }\n",
    ")"
   ]
  },
  {
   "cell_type": "code",
   "execution_count": 46,
   "metadata": {},
   "outputs": [
    {
     "data": {
      "text/plain": [
       "{'id': 'ncp-chatcmpl-F9LkY932nL40lxNtM9ebnVeXm',\n",
       " 'object': 'chat.completion',\n",
       " 'created': 1720773159966,\n",
       " 'model': 'HCX-003',\n",
       " 'choices': [{'finish_reason': 'stop_before',\n",
       "   'index': 0,\n",
       "   'message': {'role': 'user',\n",
       "    'content': \"BGF리테일 관련 최근 뉴스로는 다음과 같은 것들이 있습니다.\\n\\n- 7월 10일 아시아경제 기사에 따르면, 편의점 CU를 운영하는 BGF리테일은 폭우 피해를 입은 경북 안동 지역에 긴급 구호물품을 지원했다고 밝혔습니다. 기상청 등에 따르면 경북 안동 지역에는 지난 7일 밤부터 시간당 50mm가 넘는 집중호우가 내려 많은 피해가 발생했으며, BGF리테일은 이날 지원 요청을 받자마자 행정안전부, 전국재해구호협회와 구축하고 있는 재난 긴급 구호활동인 'BGF브릿지'를 가동, 피해 현장으로 구호물품을 긴급 배송한 것으로 알려졌습니다.\\n\\n이러한 사회 공헌 활동은 BGF리테일의 이미지 개선 및 주가 상승에 긍정적인 영향을 미칠 가능성이 있습니다.\"}}],\n",
       " 'usage': {'prompt_tokens': 1502,\n",
       "  'completion_tokens': 163,\n",
       "  'total_tokens': 1665}}"
      ]
     },
     "execution_count": 46,
     "metadata": {},
     "output_type": "execute_result"
    }
   ],
   "source": [
    "response.json()"
   ]
  },
  {
   "cell_type": "code",
   "execution_count": 10,
   "metadata": {},
   "outputs": [],
   "source": [
    "response = requests.post(\n",
    "    'https://api-laas.wanted.co.kr/api/preset/chat/completions',\n",
    "    headers = {\n",
    "        \"project\": \"PROMPTHON_PRJ_426\", \n",
    "        \"apiKey\": \"2058130d1ba22d9614c78c9d2947afd5e01f59c016c56eda096b937d6a478d3f\" \n",
    "    },\n",
    "    json = {\n",
    "        \"hash\": \"52c28181b5961fb65ac2f00e55552e769ce90864a0bde74c7e2fdf8f8f1fa6fb\", \n",
    "        \"params\": {\n",
    "            \"tools\":\"\",\n",
    "            \"tool_list\":\"\",\n",
    "            \"context\":\"\",\n",
    "            \"chat_history\":\"\",\n",
    "            \"user_input\":\"\"\n",
    "        } \n",
    "    }\n",
    ")"
   ]
  },
  {
   "cell_type": "code",
   "execution_count": 11,
   "metadata": {},
   "outputs": [
    {
     "data": {
      "text/plain": [
       "{'id': 'ncp-chatcmpl-8LyQH6KL1MmKwVwtbAqVxvFoG',\n",
       " 'object': 'chat.completion',\n",
       " 'created': 1720775517975,\n",
       " 'model': 'HCX-DASH-001',\n",
       " 'choices': [{'finish_reason': 'stop_before',\n",
       "   'index': 0,\n",
       "   'message': {'role': 'assistant',\n",
       "    'content': '생각:사용자의 목표는 삼성전자 주식 정보를 얻는 것이다.\\n액션이름 :삼성전자 관련 주식 정보 조회\\n액션입력 :{ \"ticker\": \"005930\", \"source\": \"네이버 증권\" }\\n액션종료\\n관찰 :주식 정보가 네이버 증권에서 제공된다.'}}],\n",
       " 'usage': {'prompt_tokens': 242, 'completion_tokens': 64, 'total_tokens': 306}}"
      ]
     },
     "execution_count": 11,
     "metadata": {},
     "output_type": "execute_result"
    }
   ],
   "source": [
    "response.json()"
   ]
  },
  {
   "cell_type": "code",
   "execution_count": null,
   "metadata": {},
   "outputs": [],
   "source": []
  }
 ],
 "metadata": {
  "kernelspec": {
   "display_name": "llm",
   "language": "python",
   "name": "python3"
  },
  "language_info": {
   "codemirror_mode": {
    "name": "ipython",
    "version": 3
   },
   "file_extension": ".py",
   "mimetype": "text/x-python",
   "name": "python",
   "nbconvert_exporter": "python",
   "pygments_lexer": "ipython3",
   "version": "3.10.14"
  }
 },
 "nbformat": 4,
 "nbformat_minor": 2
}
