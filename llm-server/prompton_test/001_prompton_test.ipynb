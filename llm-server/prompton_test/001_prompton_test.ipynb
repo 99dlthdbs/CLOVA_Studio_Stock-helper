{
 "cells": [
  {
   "cell_type": "code",
   "execution_count": 1,
   "metadata": {},
   "outputs": [],
   "source": [
    "import requests"
   ]
  },
  {
   "cell_type": "code",
   "execution_count": 2,
   "metadata": {},
   "outputs": [],
   "source": [
    "import os\n",
    "response = requests.post(\n",
    "    'https://api-laas.wanted.co.kr/api/preset/chat/completions',\n",
    "    headers = {\n",
    "        \"project\": \"PROMPTHON_PRJ_426\", \n",
    "        \"apiKey\": \"2058130d1ba22d9614c78c9d2947afd5e01f59c016c56eda096b937d6a478d3f\" \n",
    "    },\n",
    "    json = {\n",
    "        \"hash\": \"960493efa4fa9695a2f0b62acaa806351fdd1921d8712949fb69868491bcf2cd\", \n",
    "        \"params\": {\n",
    "            \"company\": \"BGF리테일\",\n",
    "            \"date_today\":\"2024년 7월 13일\"\n",
    "        } \n",
    "    }\n",
    ")"
   ]
  },
  {
   "cell_type": "code",
   "execution_count": 3,
   "metadata": {},
   "outputs": [
    {
     "data": {
      "text/plain": [
       "{'id': 'ncp-chatcmpl-knwEr3AVr51j3Z6FDKT3yTgMv',\n",
       " 'object': 'chat.completion',\n",
       " 'created': 1720850120849,\n",
       " 'model': 'HCX-003',\n",
       " 'choices': [{'finish_reason': 'stop_before',\n",
       "   'index': 0,\n",
       "   'message': {'role': 'user',\n",
       "    'content': 'BGF리테일 관련 최근 뉴스로는 다음과 같은 것들이 있습니다.\\n\\n- \"[기업] BGF리테일, 폭우 피해 입은 안동 지역에 긴급 구호물품 지원\" (YTN, 2024-07-10)\\n\\nBGF리테일은 자사 편의점 CU를 통해 폭우와 홍수 피해를 입은 안동지역에 긴급 구호물품을 전달했습니다. 구체적으로는 1000명이 먹을 수 있는 양의 생수, 라면, 초코바를 비롯해 총 1000명 분의 식음료를 지원했으며 이 외에도 충북 영동군에 300인분의 구호 물품을 지원하고 다른 피해 지역 지원도 검토 중이라고 밝혔습니다. \\n\\n이러한 사회 공헌 활동은 기업 이미지 개선에 큰 도움을 줄 수 있으며 소비자들의 신뢰도를 높일 수 있다는 점에서 긍정적인 효과를 기대할 수 있습니다. 다만 이것이 직접적인 매출 증가나 주가 상승으로 이어진다고 보기는 어려우므로 투자 전에는 다양한 요인들을 고려해야 합니다.'}}],\n",
       " 'usage': {'prompt_tokens': 1502,\n",
       "  'completion_tokens': 196,\n",
       "  'total_tokens': 1698}}"
      ]
     },
     "execution_count": 3,
     "metadata": {},
     "output_type": "execute_result"
    }
   ],
   "source": [
    "response.json()"
   ]
  },
  {
   "cell_type": "code",
   "execution_count": 10,
   "metadata": {},
   "outputs": [],
   "source": [
    "response = requests.post(\n",
    "    'https://api-laas.wanted.co.kr/api/preset/chat/completions',\n",
    "    headers = {\n",
    "        \"project\": \"PROMPTHON_PRJ_426\", \n",
    "        \"apiKey\": \"2058130d1ba22d9614c78c9d2947afd5e01f59c016c56eda096b937d6a478d3f\" \n",
    "    },\n",
    "    json = {\n",
    "        \"hash\": \"52c28181b5961fb65ac2f00e55552e769ce90864a0bde74c7e2fdf8f8f1fa6fb\", \n",
    "        \"params\": {\n",
    "            \"tools\":\"\",\n",
    "            \"tool_list\":\"\",\n",
    "            \"context\":\"\",\n",
    "            \"chat_history\":\"\",\n",
    "            \"user_input\":\"\"\n",
    "        } \n",
    "    }\n",
    ")"
   ]
  },
  {
   "cell_type": "code",
   "execution_count": 11,
   "metadata": {},
   "outputs": [
    {
     "data": {
      "text/plain": [
       "{'id': 'ncp-chatcmpl-8LyQH6KL1MmKwVwtbAqVxvFoG',\n",
       " 'object': 'chat.completion',\n",
       " 'created': 1720775517975,\n",
       " 'model': 'HCX-DASH-001',\n",
       " 'choices': [{'finish_reason': 'stop_before',\n",
       "   'index': 0,\n",
       "   'message': {'role': 'assistant',\n",
       "    'content': '생각:사용자의 목표는 삼성전자 주식 정보를 얻는 것이다.\\n액션이름 :삼성전자 관련 주식 정보 조회\\n액션입력 :{ \"ticker\": \"005930\", \"source\": \"네이버 증권\" }\\n액션종료\\n관찰 :주식 정보가 네이버 증권에서 제공된다.'}}],\n",
       " 'usage': {'prompt_tokens': 242, 'completion_tokens': 64, 'total_tokens': 306}}"
      ]
     },
     "execution_count": 11,
     "metadata": {},
     "output_type": "execute_result"
    }
   ],
   "source": [
    "response.json()"
   ]
  },
  {
   "cell_type": "code",
   "execution_count": null,
   "metadata": {},
   "outputs": [],
   "source": []
  }
 ],
 "metadata": {
  "kernelspec": {
   "display_name": "llm",
   "language": "python",
   "name": "python3"
  },
  "language_info": {
   "codemirror_mode": {
    "name": "ipython",
    "version": 3
   },
   "file_extension": ".py",
   "mimetype": "text/x-python",
   "name": "python",
   "nbconvert_exporter": "python",
   "pygments_lexer": "ipython3",
   "version": "3.10.14"
  }
 },
 "nbformat": 4,
 "nbformat_minor": 2
}
