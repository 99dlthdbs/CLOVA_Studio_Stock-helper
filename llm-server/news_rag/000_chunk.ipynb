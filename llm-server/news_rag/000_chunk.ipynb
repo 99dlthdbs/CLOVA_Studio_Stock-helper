{
 "cells": [
  {
   "cell_type": "code",
   "execution_count": 2,
   "id": "f8ba6cf8-b9d8-4fff-aba2-b996b6bf701d",
   "metadata": {},
   "outputs": [
    {
     "name": "stderr",
     "output_type": "stream",
     "text": [
      "/usr/local/lib/python3.10/dist-packages/tqdm/auto.py:21: TqdmWarning: IProgress not found. Please update jupyter and ipywidgets. See https://ipywidgets.readthedocs.io/en/stable/user_install.html\n",
      "  from .autonotebook import tqdm as notebook_tqdm\n"
     ]
    }
   ],
   "source": [
    "import os\n",
    "# import dsutils\n",
    "import numpy as np\n",
    "import pandas as pd\n",
    "from glob import glob\n",
    "from tqdm import tqdm\n",
    "from docarray.typing import NdArray\n",
    "from docarray import BaseDoc, DocList\n",
    "from FlagEmbedding import BGEM3FlagModel\n",
    "from pymongo import MongoClient\n",
    "from bson import ObjectId\n",
    "from typing import Optional, Dict, List\n",
    "from langchain_text_splitters import RecursiveCharacterTextSplitter"
   ]
  },
  {
   "cell_type": "code",
   "execution_count": 3,
   "id": "d75daf07-567b-4089-961a-fad50716aa2e",
   "metadata": {},
   "outputs": [
    {
     "name": "stderr",
     "output_type": "stream",
     "text": [
      "/usr/local/lib/python3.10/dist-packages/pydantic/_internal/_fields.py:200: UserWarning: Field name \"summary\" in \"Document\" shadows an attribute in parent \"BaseDoc\"\n",
      "  warnings.warn(\n"
     ]
    }
   ],
   "source": [
    "class Document(BaseDoc):\n",
    "    content: str\n",
    "    docid: int\n",
    "    title: str\n",
    "    query: str\n",
    "    summary: str\n",
    "    url: str\n",
    "    origin: str\n",
    "    timestamp: dict\n",
    "    page: int\n",
    "    embedding: NdArray\n",
    "\n",
    "\n",
    "def read_file(file_path):\n",
    "    with open(file_path, 'r') as f:\n",
    "        data = f.read()\n",
    "    return data"
   ]
  },
  {
   "cell_type": "code",
   "execution_count": 4,
   "id": "294b846b-9dd3-40be-af46-8ee7085884cd",
   "metadata": {},
   "outputs": [],
   "source": [
    "client = MongoClient()\n",
    "hostname = 'mongo.stockhelper-mongodb.store'\n",
    "username = 'root'\n",
    "password = 'financial'\n",
    "client = MongoClient(hostname, username=username, password=password)\n",
    "db = client['financial']\n",
    "news = db.news.find({})"
   ]
  },
  {
   "cell_type": "code",
   "execution_count": 5,
   "id": "13d21e86-1972-4564-af37-319ad42361b2",
   "metadata": {},
   "outputs": [
    {
     "data": {
      "text/html": [
       "<div>\n",
       "<style scoped>\n",
       "    .dataframe tbody tr th:only-of-type {\n",
       "        vertical-align: middle;\n",
       "    }\n",
       "\n",
       "    .dataframe tbody tr th {\n",
       "        vertical-align: top;\n",
       "    }\n",
       "\n",
       "    .dataframe thead th {\n",
       "        text-align: right;\n",
       "    }\n",
       "</style>\n",
       "<table border=\"1\" class=\"dataframe\">\n",
       "  <thead>\n",
       "    <tr style=\"text-align: right;\">\n",
       "      <th></th>\n",
       "      <th>_id</th>\n",
       "      <th>timestamp</th>\n",
       "      <th>query</th>\n",
       "      <th>title</th>\n",
       "      <th>press</th>\n",
       "      <th>summary</th>\n",
       "      <th>content</th>\n",
       "      <th>url</th>\n",
       "      <th>origin</th>\n",
       "    </tr>\n",
       "  </thead>\n",
       "  <tbody>\n",
       "    <tr>\n",
       "      <th>0</th>\n",
       "      <td>665eb4f4098aeb5dfb7f255d</td>\n",
       "      <td>2024-05-28 23:30:10</td>\n",
       "      <td>KB금융</td>\n",
       "      <td>키움증권, 상장사 첫 밸류업 공시…KB금융 예고공시</td>\n",
       "      <td>연합뉴스TV</td>\n",
       "      <td>None</td>\n",
       "      <td>키움증권이 상장사 가운데 처음으로 밸류업 계획을 공시했습니다.키움증권은 오늘(28일...</td>\n",
       "      <td>https://n.news.naver.com/mnews/article/422/000...</td>\n",
       "      <td>http://www.yonhapnewstv.co.kr/MYH2024052802280...</td>\n",
       "    </tr>\n",
       "    <tr>\n",
       "      <th>1</th>\n",
       "      <td>665eb504098aeb5dfb7f255e</td>\n",
       "      <td>2024-05-28 17:48:39</td>\n",
       "      <td>KB금융</td>\n",
       "      <td>밸류업 대장주 KB금융…'밸류업 1호' 타이틀보다 중요한 것은</td>\n",
       "      <td>머니투데이</td>\n",
       "      <td>None</td>\n",
       "      <td>기업가치 제고계획 공시 가이드라인 확정 이후 밸류업 관련 1호 공시는 KB금융의 차...</td>\n",
       "      <td>https://n.news.naver.com/mnews/article/008/000...</td>\n",
       "      <td>http://news.mt.co.kr/mtview.php?no=20240528154...</td>\n",
       "    </tr>\n",
       "    <tr>\n",
       "      <th>2</th>\n",
       "      <td>665eb515098aeb5dfb7f255f</td>\n",
       "      <td>2024-05-28 17:04:19</td>\n",
       "      <td>KB금융</td>\n",
       "      <td>KB금융, 역삼동에 ‘복합 자산관리센터’ 열어</td>\n",
       "      <td>이코노미스트</td>\n",
       "      <td>은행·증권·생명보험 업무 한 번에양종희 회장 “종합 금융의 메카 될 것”</td>\n",
       "      <td>[이코노미스트 김윤주 기자] KB금융그룹은 지난 27일 서울 강남구 역삼동 KB라이...</td>\n",
       "      <td>https://n.news.naver.com/mnews/article/243/000...</td>\n",
       "      <td>https://economist.co.kr/article/view/ecn202405...</td>\n",
       "    </tr>\n",
       "    <tr>\n",
       "      <th>3</th>\n",
       "      <td>665eb533098aeb5dfb7f2560</td>\n",
       "      <td>2024-05-28 15:46:07</td>\n",
       "      <td>KB금융</td>\n",
       "      <td>양종희 KB금융 회장 “역삼 PB센터·WM 라운지, 종합 금융 메카될 것”</td>\n",
       "      <td>마이데일리</td>\n",
       "      <td>None</td>\n",
       "      <td>[마이데일리 = 구현주 기자] “KB 골드&amp;와이즈 역삼 PB센터와 KB 스타 WM ...</td>\n",
       "      <td>https://n.news.naver.com/mnews/article/117/000...</td>\n",
       "      <td>https://mydaily.co.kr/page/view/20240528154345...</td>\n",
       "    </tr>\n",
       "    <tr>\n",
       "      <th>4</th>\n",
       "      <td>665eb539098aeb5dfb7f2561</td>\n",
       "      <td>2024-05-28 15:01:15</td>\n",
       "      <td>KB금융</td>\n",
       "      <td>KB금융, 신개념 복합 자문 모델 선보인다…양종희 \"종합 금융의 메카 될 것\"</td>\n",
       "      <td>더팩트</td>\n",
       "      <td>개인 및 법인고객 등 다양한 고객층에 차별화된 고객 경험 제공</td>\n",
       "      <td>KB금융그룹이 신개념 복합 자문 모델을 선보인다.KB금융그룹은 27일 KB금융그룹 ...</td>\n",
       "      <td>https://n.news.naver.com/mnews/article/629/000...</td>\n",
       "      <td>http://news.tf.co.kr/read/economy/2102111.htm</td>\n",
       "    </tr>\n",
       "  </tbody>\n",
       "</table>\n",
       "</div>"
      ],
      "text/plain": [
       "                        _id           timestamp query  \\\n",
       "0  665eb4f4098aeb5dfb7f255d 2024-05-28 23:30:10  KB금융   \n",
       "1  665eb504098aeb5dfb7f255e 2024-05-28 17:48:39  KB금융   \n",
       "2  665eb515098aeb5dfb7f255f 2024-05-28 17:04:19  KB금융   \n",
       "3  665eb533098aeb5dfb7f2560 2024-05-28 15:46:07  KB금융   \n",
       "4  665eb539098aeb5dfb7f2561 2024-05-28 15:01:15  KB금융   \n",
       "\n",
       "                                         title   press  \\\n",
       "0                 키움증권, 상장사 첫 밸류업 공시…KB금융 예고공시  연합뉴스TV   \n",
       "1           밸류업 대장주 KB금융…'밸류업 1호' 타이틀보다 중요한 것은   머니투데이   \n",
       "2                    KB금융, 역삼동에 ‘복합 자산관리센터’ 열어  이코노미스트   \n",
       "3    양종희 KB금융 회장 “역삼 PB센터·WM 라운지, 종합 금융 메카될 것”   마이데일리   \n",
       "4  KB금융, 신개념 복합 자문 모델 선보인다…양종희 \"종합 금융의 메카 될 것\"     더팩트   \n",
       "\n",
       "                                    summary  \\\n",
       "0                                      None   \n",
       "1                                      None   \n",
       "2  은행·증권·생명보험 업무 한 번에양종희 회장 “종합 금융의 메카 될 것”   \n",
       "3                                      None   \n",
       "4        개인 및 법인고객 등 다양한 고객층에 차별화된 고객 경험 제공   \n",
       "\n",
       "                                             content  \\\n",
       "0  키움증권이 상장사 가운데 처음으로 밸류업 계획을 공시했습니다.키움증권은 오늘(28일...   \n",
       "1  기업가치 제고계획 공시 가이드라인 확정 이후 밸류업 관련 1호 공시는 KB금융의 차...   \n",
       "2  [이코노미스트 김윤주 기자] KB금융그룹은 지난 27일 서울 강남구 역삼동 KB라이...   \n",
       "3  [마이데일리 = 구현주 기자] “KB 골드&와이즈 역삼 PB센터와 KB 스타 WM ...   \n",
       "4  KB금융그룹이 신개념 복합 자문 모델을 선보인다.KB금융그룹은 27일 KB금융그룹 ...   \n",
       "\n",
       "                                                 url  \\\n",
       "0  https://n.news.naver.com/mnews/article/422/000...   \n",
       "1  https://n.news.naver.com/mnews/article/008/000...   \n",
       "2  https://n.news.naver.com/mnews/article/243/000...   \n",
       "3  https://n.news.naver.com/mnews/article/117/000...   \n",
       "4  https://n.news.naver.com/mnews/article/629/000...   \n",
       "\n",
       "                                              origin  \n",
       "0  http://www.yonhapnewstv.co.kr/MYH2024052802280...  \n",
       "1  http://news.mt.co.kr/mtview.php?no=20240528154...  \n",
       "2  https://economist.co.kr/article/view/ecn202405...  \n",
       "3  https://mydaily.co.kr/page/view/20240528154345...  \n",
       "4      http://news.tf.co.kr/read/economy/2102111.htm  "
      ]
     },
     "execution_count": 5,
     "metadata": {},
     "output_type": "execute_result"
    }
   ],
   "source": [
    "metadata = pd.DataFrame(news)\n",
    "metadata = metadata.rename({'id': 'docid'}, axis=1)\n",
    "# metadata['date'] = pd.to_datetime(metadata['date']).dt.strftime('%Y%m%d')\n",
    "metadata.head()"
   ]
  },
  {
   "cell_type": "code",
   "execution_count": 7,
   "id": "a9ef7070-6f5f-4781-930d-e4143b0233db",
   "metadata": {},
   "outputs": [],
   "source": [
    "text_splitter = RecursiveCharacterTextSplitter(\n",
    "    chunk_size=512, \n",
    "    chunk_overlap=128,\n",
    ")"
   ]
  },
  {
   "cell_type": "code",
   "execution_count": 6,
   "id": "5122fb9a-e14f-4392-aa7d-2d073c4b6e6d",
   "metadata": {},
   "outputs": [
    {
     "name": "stderr",
     "output_type": "stream",
     "text": [
      "Fetching 30 files: 100%|██████████| 30/30 [00:45<00:00,  1.51s/it]\n",
      "/usr/local/lib/python3.10/dist-packages/torch/_utils.py:831: UserWarning: TypedStorage is deprecated. It will be removed in the future and UntypedStorage will be the only storage class. This should only matter to you if you are using storages directly.  To access UntypedStorage directly, use tensor.untyped_storage() instead of tensor.storage()\n",
      "  return self.fget.__get__(instance, owner)()\n"
     ]
    }
   ],
   "source": [
    "embedding_function = BGEM3FlagModel('BAAI/bge-m3', use_fp16=False, device='cuda')"
   ]
  },
  {
   "cell_type": "code",
   "execution_count": null,
   "id": "e33cf388",
   "metadata": {},
   "outputs": [],
   "source": [
    "for doc in metadata:\n",
    "    "
   ]
  },
  {
   "cell_type": "code",
   "execution_count": 10,
   "id": "9931d573-a841-476e-ace6-1d7c5067eb6c",
   "metadata": {},
   "outputs": [
    {
     "name": "stderr",
     "output_type": "stream",
     "text": [
      "100%|██████████| 64930/64930 [00:38<00:00, 1704.54it/s]\n"
     ]
    }
   ],
   "source": [
    "pagebreak = chr(5716)\n",
    "file_paths = glob('/nas/ysyoon/satchat/documents/txt/*.txt')\n",
    "for file_path in tqdm(file_paths):\n",
    "    docid = int(file_path.split('/')[-1].rstrip('.txt'))\n",
    "    meta = metadata.loc[metadata['docid'] == docid].iloc[0].to_dict()\n",
    "    \n",
    "    save_path = f'{chunk_dir}/{docid}.docs'\n",
    "    if os.path.exists(save_path):\n",
    "        continue\n",
    "\n",
    "    try:\n",
    "        data = read_file(file_path)\n",
    "    except:\n",
    "        continue\n",
    "        \n",
    "    data = data.replace('\\n\\pagebreak\\n', pagebreak)\n",
    "    if len(data) == 0:\n",
    "        continue\n",
    "    \n",
    "    texts = text_splitter.split_text(data)\n",
    "    pages = np.cumsum([pagebreak in text for text in texts]) + 1\n",
    "    texts = [text.replace(pagebreak, '\\n') for text in texts]\n",
    "\n",
    "    docs = []\n",
    "    for text, page in zip(texts, pages):\n",
    "        if len(text) < 128:\n",
    "            continue\n",
    "        docs.append(Document(text=text, page=page, **meta))\n",
    "    docs = DocList[Document](docs)\n",
    "\n",
    "    if len(docs) == 0:\n",
    "        continue\n",
    "\n",
    "    embeddings = embedding_function.encode(docs.text, return_dense=True, return_sparse=False)\n",
    "    docs.embedding = embeddings['dense_vecs']\n",
    "    \n",
    "    docs.push(f'file://{save_path}')"
   ]
  },
  {
   "cell_type": "code",
   "execution_count": 11,
   "id": "bf9adab5-19fe-4cb7-8a92-1fa2c02a1cc7",
   "metadata": {},
   "outputs": [
    {
     "data": {
      "text/plain": [
       "1"
      ]
     },
     "execution_count": 11,
     "metadata": {},
     "output_type": "execute_result"
    }
   ],
   "source": [
    "1"
   ]
  },
  {
   "cell_type": "code",
   "execution_count": null,
   "id": "ead87b1e-2b84-4bd1-98fd-9415a8c98e21",
   "metadata": {},
   "outputs": [],
   "source": []
  }
 ],
 "metadata": {
  "kernelspec": {
   "display_name": "Python 3 (ipykernel)",
   "language": "python",
   "name": "python3"
  },
  "language_info": {
   "codemirror_mode": {
    "name": "ipython",
    "version": 3
   },
   "file_extension": ".py",
   "mimetype": "text/x-python",
   "name": "python",
   "nbconvert_exporter": "python",
   "pygments_lexer": "ipython3",
   "version": "3.10.12"
  }
 },
 "nbformat": 4,
 "nbformat_minor": 5
}
