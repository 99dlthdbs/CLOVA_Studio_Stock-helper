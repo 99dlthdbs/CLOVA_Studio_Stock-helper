{
 "cells": [
  {
   "cell_type": "markdown",
   "metadata": {},
   "source": [
    "# Setup"
   ]
  },
  {
   "cell_type": "code",
   "execution_count": 1,
   "metadata": {},
   "outputs": [
    {
     "name": "stderr",
     "output_type": "stream",
     "text": [
      "/usr/local/lib/python3.10/dist-packages/tqdm/auto.py:21: TqdmWarning: IProgress not found. Please update jupyter and ipywidgets. See https://ipywidgets.readthedocs.io/en/stable/user_install.html\n",
      "  from .autonotebook import tqdm as notebook_tqdm\n",
      "/usr/local/lib/python3.10/dist-packages/pydantic/_migration.py:283: UserWarning: `pydantic.error_wrappers:ValidationError` has been moved to `pydantic:ValidationError`.\n",
      "  warnings.warn(f'`{import_path}` has been moved to `{new_location}`.')\n"
     ]
    }
   ],
   "source": [
    "import os\n",
    "import json\n",
    "import lancedb\n",
    "# import dsutils\n",
    "import numpy as np\n",
    "import pyarrow as pa\n",
    "from glob import glob\n",
    "from tqdm import tqdm\n",
    "from docarray.typing import NdArray\n",
    "from typing import Optional\n",
    "from docarray import BaseDoc, DocList\n",
    "from FlagEmbedding import BGEM3FlagModel\n",
    "from docarray.index import HnswDocumentIndex\n",
    "from pymongo import MongoClient\n",
    "from bson import ObjectId\n",
    "from datetime import datetime"
   ]
  },
  {
   "cell_type": "code",
   "execution_count": 6,
   "metadata": {},
   "outputs": [],
   "source": [
    "class Document(BaseDoc):\n",
    "    _id: str\n",
    "    text: str\n",
    "    source: str\n",
    "    page: int\n",
    "    total_pages: int\n",
    "    embedding: Optional[NdArray] = None"
   ]
  },
  {
   "cell_type": "markdown",
   "metadata": {},
   "source": [
    "## MongoDB"
   ]
  },
  {
   "cell_type": "code",
   "execution_count": 2,
   "metadata": {},
   "outputs": [],
   "source": [
    "client = MongoClient()\n",
    "hostname = 'mongo.stockhelper-mongodb.store'\n",
    "username = 'root'\n",
    "password = 'financial'\n",
    "client = MongoClient(hostname, username=username, password=password)\n",
    "db = client['financial']\n",
    "basic = db.basic.find({})"
   ]
  },
  {
   "cell_type": "code",
   "execution_count": 3,
   "metadata": {},
   "outputs": [],
   "source": [
    "def convert_objectid(doc):\n",
    "    if \"_id\" in doc:\n",
    "        doc[\"_id\"] = str(doc[\"_id\"])\n",
    "    return doc"
   ]
  },
  {
   "cell_type": "code",
   "execution_count": 4,
   "metadata": {},
   "outputs": [],
   "source": [
    "basic = list(basic)\n",
    "basic = [convert_objectid(doc) for doc in basic]"
   ]
  },
  {
   "cell_type": "markdown",
   "metadata": {},
   "source": [
    "## LanceDB"
   ]
  },
  {
   "cell_type": "code",
   "execution_count": 8,
   "metadata": {},
   "outputs": [],
   "source": [
    "uri = \"/workspace/008_PseudoLab/server/vectorstore\"\n",
    "db = lancedb.connect(uri)\n",
    "# async_db = await lancedb.connect_async(uri)"
   ]
  },
  {
   "cell_type": "code",
   "execution_count": 9,
   "metadata": {},
   "outputs": [
    {
     "name": "stderr",
     "output_type": "stream",
     "text": [
      "[2024-06-14T09:36:25Z WARN  lance::dataset] No existing dataset at /workspace/008_PseudoLab/server/vectorstore/basic.lance, it will be created\n"
     ]
    }
   ],
   "source": [
    "schema = pa.schema([\n",
    "    pa.field('id', pa.string()),\n",
    "    pa.field('text', pa.string()),\n",
    "    pa.field('source', pa.string()),\n",
    "    pa.field('page', pa.int64()),\n",
    "    pa.field('total_pages', pa.int64()),\n",
    "    pa.field(\"embedding\", pa.list_(pa.float32(), list_size=1024))\n",
    "])\n",
    "\n",
    "table = db.create_table(\"basic\", schema=schema, mode=\"overwrite\")"
   ]
  },
  {
   "cell_type": "code",
   "execution_count": 10,
   "metadata": {},
   "outputs": [],
   "source": [
    "table = db.open_table('basic')\n",
    "# async_tbl = async_db.open_table('news')"
   ]
  },
  {
   "cell_type": "code",
   "execution_count": 12,
   "metadata": {},
   "outputs": [
    {
     "name": "stderr",
     "output_type": "stream",
     "text": [
      "100%|██████████| 94/94 [00:00<00:00, 31140.08it/s]\n"
     ]
    }
   ],
   "source": [
    "from tqdm.auto import tqdm\n",
    "\n",
    "docs = []\n",
    "\n",
    "for data in tqdm(basic):\n",
    "    docs.append(Document(**data))\n",
    "\n",
    "docs = DocList[Document](docs)\n",
    "docs = [dict(d) for d in docs]\n",
    "table.add(docs)"
   ]
  },
  {
   "cell_type": "code",
   "execution_count": null,
   "metadata": {},
   "outputs": [],
   "source": [
    "# async_db = await lancedb.connect_async(uri)"
   ]
  },
  {
   "cell_type": "markdown",
   "metadata": {},
   "source": [
    "## LanceDB Test"
   ]
  },
  {
   "cell_type": "code",
   "execution_count": null,
   "metadata": {},
   "outputs": [],
   "source": [
    "table = db.open_table('news')\n",
    "table.count_rows()\n",
    "# async_tbl.count_rows()"
   ]
  },
  {
   "cell_type": "code",
   "execution_count": null,
   "metadata": {},
   "outputs": [],
   "source": [
    "# table.search(\"2024-06-10\").limit(10).to_list()\n",
    "table.head()"
   ]
  },
  {
   "cell_type": "code",
   "execution_count": null,
   "metadata": {},
   "outputs": [],
   "source": [
    "embedding_function = BGEM3FlagModel('BAAI/bge-m3', use_fp16=False, device='cpu')"
   ]
  },
  {
   "cell_type": "code",
   "execution_count": null,
   "metadata": {},
   "outputs": [],
   "source": [
    "from datetime import datetime\n",
    "\n",
    "query = '삼성전자의 주식과 관련된 뉴스를 알려줘'\n",
    "query = embedding_function.encode(query)['dense_vecs']\n",
    "start_time = '2024-06-08'\n",
    "start_stamp = datetime.strptime(start_time, \"%Y-%m-%d\").timestamp()\n",
    "\n",
    "end_time = '2024-06-10'\n",
    "end_stamp = datetime.strptime(end_time, \"%Y-%m-%d\").timestamp()\n",
    "print(end_stamp)\n",
    "end_stamp += 3600\n",
    "print(end_stamp)\n",
    "docs = table.search(query).where(f\"(timestamp >= {int(start_stamp)}) AND (timestamp < {int(end_stamp)})\", prefilter=True).limit(5).to_list()\n",
    "# docs = table.search(query).limit(5).to_list()\n",
    "# docs = async_tbl.search(query).limit(8).to_list()"
   ]
  },
  {
   "cell_type": "code",
   "execution_count": null,
   "metadata": {},
   "outputs": [],
   "source": [
    "end_time = '2024-06-11'\n",
    "end_stamp = datetime.strptime(end_time, \"%Y-%m-%d\").timestamp()\n",
    "print(end_stamp)"
   ]
  },
  {
   "cell_type": "code",
   "execution_count": null,
   "metadata": {},
   "outputs": [],
   "source": [
    "[(str(datetime.fromtimestamp(doc['timestamp'])), doc['title']) for doc in docs]"
   ]
  },
  {
   "cell_type": "code",
   "execution_count": null,
   "metadata": {},
   "outputs": [],
   "source": [
    "sorted([(str(datetime.fromtimestamp(doc['timestamp'])), doc['title']) for doc in docs], key=lambda x : x[0])"
   ]
  },
  {
   "cell_type": "code",
   "execution_count": null,
   "metadata": {},
   "outputs": [],
   "source": [
    "query = '최근 삼성전자의 신제품에 대해 알려줘'\n",
    "query = embedding_function.encode(query)['dense_vecs']\n",
    "docs = table.search(query).limit(5).where(f\"timestamp > {int(date)}\", prefilter=True).to_list()"
   ]
  },
  {
   "cell_type": "code",
   "execution_count": null,
   "metadata": {},
   "outputs": [],
   "source": [
    "sorted([(str(datetime.fromtimestamp(doc['timestamp'])), doc['title']) for doc in docs], key=lambda x : x[0])"
   ]
  },
  {
   "cell_type": "code",
   "execution_count": null,
   "metadata": {},
   "outputs": [],
   "source": [
    "a = \"asidhfioas\"\n",
    "\n",
    "a[:12034]"
   ]
  },
  {
   "cell_type": "code",
   "execution_count": null,
   "metadata": {},
   "outputs": [],
   "source": []
  }
 ],
 "metadata": {
  "kernelspec": {
   "display_name": "llm",
   "language": "python",
   "name": "python3"
  },
  "language_info": {
   "codemirror_mode": {
    "name": "ipython",
    "version": 3
   },
   "file_extension": ".py",
   "mimetype": "text/x-python",
   "name": "python",
   "nbconvert_exporter": "python",
   "pygments_lexer": "ipython3",
   "version": "3.10.12"
  }
 },
 "nbformat": 4,
 "nbformat_minor": 2
}
