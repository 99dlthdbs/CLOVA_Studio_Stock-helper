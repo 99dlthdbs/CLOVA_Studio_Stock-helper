{
 "cells": [
  {
   "cell_type": "markdown",
   "metadata": {},
   "source": [
    "# Setup"
   ]
  },
  {
   "cell_type": "code",
   "execution_count": 4,
   "metadata": {},
   "outputs": [],
   "source": [
    "import os\n",
    "import json\n",
    "import lancedb\n",
    "# import dsutils\n",
    "import numpy as np\n",
    "import pyarrow as pa\n",
    "from glob import glob\n",
    "from tqdm import tqdm\n",
    "from docarray.typing import NdArray\n",
    "from typing import Optional\n",
    "from docarray import BaseDoc, DocList\n",
    "from FlagEmbedding import BGEM3FlagModel\n",
    "from docarray.index import HnswDocumentIndex\n",
    "from pymongo import MongoClient\n",
    "from bson import ObjectId\n",
    "from datetime import datetime"
   ]
  },
  {
   "cell_type": "code",
   "execution_count": 5,
   "metadata": {},
   "outputs": [
    {
     "name": "stderr",
     "output_type": "stream",
     "text": [
      "/home/jys/anaconda3/envs/llm/lib/python3.10/site-packages/pydantic/_internal/_fields.py:200: UserWarning: Field name \"summary\" in \"Document\" shadows an attribute in parent \"BaseDoc\"\n",
      "  warnings.warn(\n"
     ]
    }
   ],
   "source": [
    "class Document(BaseDoc):\n",
    "    _id: str\n",
    "    timestamp: int\n",
    "    query: str\n",
    "    title: str\n",
    "    press: str\n",
    "    summary: Optional[str] = None\n",
    "    content: str\n",
    "    url: str\n",
    "    origin: str\n",
    "    embedding: Optional[NdArray] = None"
   ]
  },
  {
   "cell_type": "markdown",
   "metadata": {},
   "source": [
    "## MongoDB"
   ]
  },
  {
   "cell_type": "code",
   "execution_count": 6,
   "metadata": {},
   "outputs": [],
   "source": [
    "client = MongoClient()\n",
    "hostname = '10.0.10.211'\n",
    "username = 'root'\n",
    "password = 'Telepix123#!'\n",
    "client = MongoClient(hostname, username=username, password=password)\n",
    "db = client['financial']\n",
    "news = db.news.find({})"
   ]
  },
  {
   "cell_type": "code",
   "execution_count": 7,
   "metadata": {},
   "outputs": [],
   "source": [
    "def convert_objectid(doc):\n",
    "    if \"_id\" in doc:\n",
    "        doc[\"_id\"] = str(doc[\"_id\"])\n",
    "        \n",
    "    if 'timestamp' in doc:\n",
    "        doc['timestamp'] = int(doc['timestamp'].timestamp())\n",
    "\n",
    "    return doc"
   ]
  },
  {
   "cell_type": "code",
   "execution_count": 8,
   "metadata": {},
   "outputs": [],
   "source": [
    "news = list(news)\n",
    "news = [convert_objectid(doc) for doc in news]"
   ]
  },
  {
   "cell_type": "code",
   "execution_count": 9,
   "metadata": {},
   "outputs": [
    {
     "name": "stdout",
     "output_type": "stream",
     "text": [
      "{'_id': '66f27acf577e4ba3072ec717', 'timestamp': 1727165590, 'query': 'BYC', 'title': 'BYC, ‘올데이롱 2024 가을·겨울’ 출시', 'press': '스포츠동아', 'summary': None, 'content': 'BYC가 2030세대를 겨냥한 ‘올데이롱 2024 가을·겨울’(사진)을 내놓았다.눈 내리는 겨울, 따뜻한 오두막에서 느낄 수 있는 아늑함과 편안함을 선사한다. 일상 및 여행 중 가벼운 착용감과 따뜻함을 동시에 느낄 수 있는 실용적이고 편안한 디자인을 추구한다. 캐주얼하게 입을 수 있는 상하 라운지 세트, 겹쳐입기가 가능한 가벼운 이너웨어, 기능성 소재를 활용한 보디히트 등으로 구성했다.', 'url': 'https://n.news.naver.com/mnews/article/382/0001152747?sid=004', 'origin': 'https://sports.donga.com/article/all/20240924/130080665/1'}\n",
      "1437\n"
     ]
    }
   ],
   "source": [
    "print(news[0])\n",
    "print(len(news))"
   ]
  },
  {
   "cell_type": "markdown",
   "metadata": {},
   "source": [
    "## LanceDB"
   ]
  },
  {
   "cell_type": "code",
   "execution_count": 10,
   "metadata": {},
   "outputs": [],
   "source": [
    "uri = \"/media/jys/ssd/workspace/008_PseudoLab/001_Stockelper/server/vectorstore\"\n",
    "db = lancedb.connect(uri)\n",
    "# async_db = await lancedb.connect_async(uri)"
   ]
  },
  {
   "cell_type": "code",
   "execution_count": 11,
   "metadata": {},
   "outputs": [],
   "source": [
    "schema = pa.schema([\n",
    "    pa.field('id', pa.string()),\n",
    "    pa.field('timestamp', pa.int64()),\n",
    "    pa.field('query', pa.string()),\n",
    "    pa.field('title', pa.string()),\n",
    "    pa.field('press', pa.string()),\n",
    "    pa.field('summary', pa.string()),\n",
    "    pa.field('content', pa.string()),\n",
    "    pa.field('url', pa.string()),\n",
    "    pa.field('origin', pa.string()),\n",
    "    pa.field(\"embedding\", pa.list_(pa.float32(), list_size=1024))\n",
    "])\n",
    "\n",
    "table = db.create_table(\"news\", schema=schema, mode=\"overwrite\")"
   ]
  },
  {
   "cell_type": "code",
   "execution_count": 12,
   "metadata": {},
   "outputs": [],
   "source": [
    "table = db.open_table('news')\n",
    "# async_tbl = async_db.open_table('news')"
   ]
  },
  {
   "cell_type": "code",
   "execution_count": 13,
   "metadata": {},
   "outputs": [
    {
     "name": "stderr",
     "output_type": "stream",
     "text": [
      "Fetching 30 files: 100%|██████████| 30/30 [00:01<00:00, 28.54it/s]\n"
     ]
    }
   ],
   "source": [
    "embedding_function = BGEM3FlagModel('BAAI/bge-m3', use_fp16=False, device='cuda')"
   ]
  },
  {
   "cell_type": "code",
   "execution_count": 14,
   "metadata": {},
   "outputs": [
    {
     "name": "stderr",
     "output_type": "stream",
     "text": [
      "100%|██████████| 1437/1437 [00:42<00:00, 34.04it/s]\n"
     ]
    }
   ],
   "source": [
    "from tqdm.auto import tqdm\n",
    "\n",
    "docs = []\n",
    "\n",
    "for data in tqdm(news):\n",
    "    tmp = 'timestamp: ' + str(datetime.fromtimestamp(data['timestamp'])) + '\\n' \\\n",
    "        + 'title: ' + data['title'] + '\\n' \\\n",
    "            + 'content: ' + data['content']\n",
    "    embedding = embedding_function.encode(tmp, return_dense=True, return_sparse=False)\n",
    "    data['embedding'] = embedding['dense_vecs']\n",
    "    docs.append(Document(**data))\n",
    "\n",
    "docs = DocList[Document](docs)\n",
    "docs = [dict(d) for d in docs]\n",
    "table.add(docs)"
   ]
  },
  {
   "cell_type": "code",
   "execution_count": null,
   "metadata": {},
   "outputs": [],
   "source": [
    "# async_db = await lancedb.connect_async(uri)"
   ]
  },
  {
   "cell_type": "markdown",
   "metadata": {},
   "source": [
    "## LanceDB Test"
   ]
  },
  {
   "cell_type": "code",
   "execution_count": 15,
   "metadata": {},
   "outputs": [
    {
     "data": {
      "text/plain": [
       "1437"
      ]
     },
     "execution_count": 15,
     "metadata": {},
     "output_type": "execute_result"
    }
   ],
   "source": [
    "table = db.open_table('news')\n",
    "table.count_rows()\n",
    "# async_tbl.count_rows()"
   ]
  },
  {
   "cell_type": "code",
   "execution_count": 16,
   "metadata": {},
   "outputs": [
    {
     "data": {
      "text/plain": [
       "pyarrow.Table\n",
       "id: string\n",
       "timestamp: int64\n",
       "query: string\n",
       "title: string\n",
       "press: string\n",
       "summary: string\n",
       "content: string\n",
       "url: string\n",
       "origin: string\n",
       "embedding: fixed_size_list<item: float>[1024]\n",
       "  child 0, item: float\n",
       "----\n",
       "id: [[\"094281a64037fcf1c8c1b11c660a9974\",\"3a15bd3798b72aac13681bc6bc8a6f49\",\"957d1db41555ffd2305bb7f3d48c2165\",\"25d030521f8e034ff2014e5c212420c0\",\"181e897755b455bf6b9d9f207f1b4b9e\"]]\n",
       "timestamp: [[1727165590,1727166014,1727164028,1727163854,1727164471]]\n",
       "query: [[\"BYC\",\"CJ\",\"CJ\",\"DB\",\"GKL\"]]\n",
       "title: [[\"BYC, ‘올데이롱 2024 가을·겨울’ 출시\",\"CJ 이미경, 亞 여성 기업인 최초 세계시민상 수상\",\"CJ 이미경 부회장, 亞 여성 기업인 최초 세계시민상…“문화 장벽 허물어”\",\"[오픈테크넷2024] AI 시대 최적화된 DB는?...후지쯔 “포스트그레스가 핵심”\",\"GKL, 관광 종사자 역량 강화 아카데미 성료\"]]\n",
       "press: [[\"스포츠동아\",\"파이낸셜뉴스\",\"국민일보\",\"디지털데일리\",\"일간스포츠\"]]\n",
       "summary: [[null,null,null,null,null]]\n",
       "content: [[\"BYC가 2030세대를 겨냥한 ‘올데이롱 2024 가을·겨울’(사진)을 내놓았다.눈 내리는 겨울, 따뜻한 오두막에서 느낄 수 있는 아늑함과 편안함을 선사한다. 일상 및 여행 중 가벼운 착용감과 따뜻함을 동시에 느낄 수 있는 실용적이고 편안한 디자인을 추구한다. 캐주얼하게 입을 수 있는 상하 라운지 세트, 겹쳐입기가 가능한 가벼운 이너웨어, 기능성 소재를 활용한 보디히트 등으로 구성했다.\",\"[파이낸셜뉴스] CJ그룹은 이미경 부회장이 23일(현지시간) 미국 뉴욕에서 세계시민상을 수상했다고 24일 밝혔다.세계시민상은 글로벌 과제를 해결하고 자유·평화·번영의 가치에 기여해 세계 시민의식을 구현한 리더십에게 미국 유력 싱크탱크 애틀란틱 카운슬이 수여하는 상이다. 아시아 여성 기업인이자 문화인으로는 최초 수상이다.이날 시상식에는 일론 머스크 테슬라 최고경영자(CEO), 람 슈리람 구글 설립 이사회 멤버, 김용 전 세계은행 총재, '파친코' 이민진 작가 등 글로벌 정치, 경제, 문화, 산업계를 대표하는 인사들이 대거 참석했다.이 부회장은 시상식에서 문화적 연대의 중요성과 미래 세대를 위한 글로벌 문화 생태계 구축 의지를 강조했다.이 부회장은 “문화는 비록 전쟁을 끝낼 수 있는 힘은 아닐지라도, 인류에 대한 배려와 희망, 공감의 다리를 건설할 힘이 있다”며 “우리가 만든 것은 단순히 콘텐츠가 아니라, 많은 이들과 함께 하는 연결\"이라고 밝혔다.이 부회장은 미래세대에 대한 관심과 동행도 강조했다. 그는 “문화사업에서 핵심은 젊은 세대가 무엇을 하고, 무엇을 원하고, 세상을 어떻게 바라보는지 파악하는 일”이라며 “그들이 창작하고, 협업하고, 스스로를 표현하고 꿈을 채워갈 수 있도록 플랫폼을 제공하고 그들의 문화를 포용해야 한다”고 주문했다.이어 “디지털 미디어 시대에는 세대를 초월해 전 세계적인 협업이 가능한 강력한 생태계가 존재한다”면서 “배려, 규율, 겸허를 공유할 수 있는 더 많은 길을 만들어 다양한 언어, 배경의 사람들이 더 나은, 더 따뜻한 미래로 함께 나아갈 수 있도록 해야 한다”고 부연했다.샤리 레드스톤 파라마운트 회장은 지난 30년간 이 부회장이 글로벌 문화 산업에 미친 영향력을 호평했다. 그는 “그녀가 어떻게 크리에이터와 아티스트들을 지원하고 연결하며 문화로 세상을 하나로 만들고 있는지를 곁에서 지켜본 사람으로써 깊은 존경을 표한다”고 말했다.프레드릭 켐페 애틀란틱 카운슬 회장은 “한국 문화의 세계화에 오랫동안 기여한 이 부회장의 헌신과, 영화 '기생충'을 비롯한 다양한 작품에 총괄 프로듀서로 참여하며 예술적 스토리텔링의 글로벌 확산에 기여한 점을 높이 평가한다\"며 \"문화적 다양성과 공존의 가치를 확산한 글로벌 리더로서 이 부회장의 창의성에 경의를 표한다”고 전했다.하버드대 재학 시절 이 부회장에게 한국어를 배운 것으로 알려진 김 전 총재는 “1980년대 중반, 나는 한국의 문화를 세계에 알리겠다는 그녀의 비전을 이해할 수 없었다. 그러나 이제는 모든 사람들이 그녀가 K팝과 K드라마를 비롯 전세계인이 열광하는 K콘텐츠의 바닥을 다지고 길을 열었다는 것을 알게 됐다\"고 했다.이 작가도 “이 부회장은 예술, 음악, 이야기를 통해 인간의 존엄성을 꽃피울 수 있게 하는 희망찬 세상을 상상하고 창조하는 놀라운 거인”이라며 “현재와 미래 세대를 위한 그녀의 지속적인 공헌과 희생적인 노력은 찬사를 받아 마땅하다”고 말했다.\",\"CJ그룹 이미경 부회장이 문화 콘텐츠를 통해 세계 시장을 하나로 연결한 공을 인정 받아 세계시민상을 수상했다. 아시아의 여성 기업인이자 문화인으로는 첫 수상이다.이 부회장은 23일(현지시간) 미국 뉴욕에서 열린 시상식에서 “문화는 인류에 대한 배려와 희망, 공감의 다리를 건설할 힘이 있다. ‘기생충’ 같은 영화는 한국은 물론 전세계에서 불평등이라는 중요한 주제에 대한 대화를 이끌어냈다”며 “K팝에서 K드라마에 이르기까지 한국 문화는 세계 곳곳에서 문화적 장벽을 허물고 기쁨, 웃음, 사랑은 보편적이라는 점을 보여주고 있다”고 강조했다.이어 “우리가 만든 것은 단순히 콘텐츠가 아니다. 문화는 다양한 배경의 사람들을 한자리에 모으고, 아름다운 것을 함께 누릴 수 있는 공간을 제공한다”고 덧붙였다.세계시민상은 글로벌 과제를 해결하고 자유·평화·번영의 가치에 기여해 세계 시민의식을 구현한 인물에게 미국 싱크탱크 애틀란틱 카운슬(AC)이 수여하는 상이다.프레드릭 켐페 AC 회장은 “한국 문화의 세계화에 오랫동안 기여한 이 부회장의 헌신, 다양한 작품에 총괄 프로듀서로 참여하며 예술적 스토리텔링의 글로벌 확산에 기여한 점을 높이 평가한다”며 “문화적 다양성과 공존의 가치를 확산한 글로벌 리더로서 이 부회장의 창의성에 경의를 표한다”고 밝혔다.\",\"[디지털데일리 오병훈기자] “각종 동물이 어떻게 우는지 구분하기 위해 울음소리를 표현한 단어를 임베딩 과정을 거쳐서 백터를 생성한 다음, 유사도 표를 살펴보면 각 동물 울음소리 간 연관성에 따라 구분할 수 있다. 동물소리와 사람 목소리는 벡터 상 멀찌감치 떨어져있는 것을 볼 수가 있는데, (후지쯔는) 이 같은 백터 관련 기능을 완성도 있게 운영하고 있다”이관복 한국 후지쯔 FEP 스페셜리스트는 24일 <디지털데일리>와 과학기술정보통신부, 정보통신산업진흥원이 함께 주최·주관한 ‘오픈 테크넷 서밋 2024’에서 ‘오픈소스 DBMS의 발전 발전과 FEP의 미래’를 주제로 발표하며 위와 같이 강조했다.‘임베딩’은 인공지능(AI) 데이터 학습에 있어서 가장 중요한 과정 중 하나다. 임베딩은 텍스트 데이터를 단순한 벡터로 전환한 뒤 분석해 각 데이터값의 유사성을 추출해 내는 과정이다. 후지쯔에서는 오픈소스데이터베이스를 통한 임베딩 과정으로 이같은 결과를 낼 수 있었는데, 이때 후지쯔가 강조하고 나선 것은 유연한 데이터관리시스템(DBMS) 포스트그레스(포스트그레스SQL)다.포스트그레스는 높은 안정성, 유연성, 개방형 등을 특징으로 하는 오픈소스 DBMS다. 다른 RDBMS(관계형 데이터베이스 관리 시스템)와 달리 비관계형 및 관계형 데이터 유형을 모두 지원한다는 장점이 있다.데이터 유형이 다양해지고 오픈소스 소프트웨어 시장이 커지면서 포스트그레스에 대한 주목도도 점차 커졌다는 것이 이 스페셜리스트 설명이다. 글로벌 시장에서 애플리케이션 컨테이너 및 오픈소스, 특히 포스트그레스 채택률은 모든 지역 및 산업에서 일관된 성장을 보여주고 있다는 분석이다.그는 “지난 2022년도 상위 6개 DBMS 제품 채택률 분석 자료를 살펴보면 상위에 속하는 DBMS들이 대체로 오픈소스 DBMS인 것을 알 수 있다”며 “글로벌 서비스형 비즈니스 프로세스 전망에 의해 시장이 확대되는 것처럼 오픈소스 DBMS 인기와 성장도 지속될 것으로 보고 있다”고 강조했다.이에 이관복 스페셜리스트는 후지쯔에서 제공하는 기업전용 포괄적 데이터 솔루션 ‘후지쯔 엔터프라이즈 포스트그레스(Fujitsu Eteprise Postgres, 이하 FEP)’에 대해 소개했다. FEP는 오픈소스에 특화된 DBMS 포스트그레스를 핵심으로 하는 만큼, 보안부터 하이브리드 멀티클라우드, 아키텍처 등 다양한 데이터베이스 관리에 필요한 모든 요소를 한번에 제공한다는 방침이다.또, 후지쯔 FEP에서는 ▲기술 자문 서비스 ▲전문가 조직(CoE) ▲전담 커뮤니티 기여자 ▲전담 제품 개발팀을 운영하며 다양한 문제 상황에 대한 빠른 대처에 집중하고 있다. 이중 전문가 조직(CoE)은 심층적인 전문 지식과 수년 간 경험을 갖춘 오픈소스 특화 전문가 팀이며, 마이그레이션 구현 상태 검사 및 최적화를 포함한 복잡한 데이터 관리 솔루션을 담당한다.그는 “후지쯔는 지난 30년 동안 기업의 데이터베이스를 구현하는 노하우를 가지고 있으며, 그리고 포스트그레스SQL에 20년 이상 사업을 이어오고 있다”며 “다른 DBMS를 사용하다가 포스트그레스를 사용을 하는 기업은 여러 당황스러운 상황을 마주할 수 있는데, 후지쯔는 전담팀을 배치, 빠른 지원으로서 도와줄 수 있다”고 말했다.\",\"외국인 전용 카지노 '세븐럭'을 운영하는 그랜드코리아레저(GKL)는 지난 20일과 23일 서울 강남구 삼성동 GKL 인재개발원에서 서울 소재 관광 산업 종사자 70여 명을 대상으로 한 '관광 종사자 역량 강화 아카데미'가 성료했다고 24일 밝혔다.이 아카데미는 지난 2019년 시작됐다. 한국의 역사 및 전통 문화, 외국인 응대법 등 기본 소양 교육, 카지노 정책 및 산업에 관한 교육, 카지노 현장 답사 등 다양한 프로그램으로 구성됐다.한국관광통역사협회와 공동으로 개최한 이번 강좌는 '카지노 산업의 이해'를 주제로 20년간 카지노 산업에 종사한 조은선 GKL 부장이 해외 카지노와 국내 카지노의 현재와 미래에 대해 강연을 했다.김영산 GKL 사장은 \"앞으로도 관광 공기업으로서 관광 산업 발전을 위한 사명을 충실히 이행하며 사회적 가치 실현을 위해 최선을 다하겠다\"고 말했다.정길준 기자 kjkj@edaily.co.kr\"]]\n",
       "url: [[\"https://n.news.naver.com/mnews/article/382/0001152747?sid=004\",\"https://n.news.naver.com/mnews/article/014/0005244736?sid=103\",\"https://n.news.naver.com/mnews/article/005/0001726797?sid=101\",\"https://n.news.naver.com/mnews/article/138/0002182971?sid=105\",\"https://n.news.naver.com/mnews/article/241/0003381677?sid=103\"]]\n",
       "origin: [[\"https://sports.donga.com/article/all/20240924/130080665/1\",\"http://www.fnnews.com/news/202409241710124745\",\"https://www.kmib.co.kr/article/view.asp?arcid=0020555963&code=61141111&cp=nv\",\"https://www.ddaily.co.kr/page/view/2024092416331254132\",\"https://isplus.com/article/view/isp202409240198\"]]\n",
       "embedding: [[[-0.06572246,0.008777127,-0.068297885,-0.0010359916,0.0012919394,...,-0.035001207,0.031761196,0.005825897,-0.026000498,-0.0034065712],[-0.042805098,-0.014003083,-0.017230809,0.007292919,0.006426188,...,-0.010185269,-0.03199583,0.0065206136,-0.064618945,-0.015253937],[-0.049283057,-0.013180934,-0.016833493,0.017280653,-0.0019642683,...,-0.009968959,-0.024453165,-0.0061008604,-0.054332826,-0.017221417],[-0.02120861,-0.032130916,-0.02858908,0.015623576,-0.027005084,...,-0.011333231,0.08329563,0.04315068,-0.01934677,-0.032381617],[-0.053925738,0.0025925383,0.00041519466,-0.05274412,0.0028861838,...,0.008190738,0.057535984,-0.013233752,-0.006321459,-0.02120699]]]"
      ]
     },
     "execution_count": 16,
     "metadata": {},
     "output_type": "execute_result"
    }
   ],
   "source": [
    "# table.search(\"2024-06-10\").limit(10).to_list()\n",
    "table.head()"
   ]
  },
  {
   "cell_type": "code",
   "execution_count": 17,
   "metadata": {},
   "outputs": [
    {
     "name": "stderr",
     "output_type": "stream",
     "text": [
      "Fetching 30 files: 100%|██████████| 30/30 [00:00<00:00, 377865.23it/s]\n"
     ]
    }
   ],
   "source": [
    "embedding_function = BGEM3FlagModel('BAAI/bge-m3', use_fp16=False, device='cpu')"
   ]
  },
  {
   "cell_type": "code",
   "execution_count": 18,
   "metadata": {},
   "outputs": [],
   "source": [
    "from datetime import datetime\n",
    "\n",
    "query = 'BYC 주식과 관련된 뉴스를 알려줘'\n",
    "query = embedding_function.encode(query)['dense_vecs']\n",
    "start_time = '2024-09-23'\n",
    "start_stamp = datetime.strptime(start_time, \"%Y-%m-%d\").timestamp()\n",
    "\n",
    "end_time = '2024-09-25'\n",
    "end_stamp = datetime.strptime(end_time, \"%Y-%m-%d\").timestamp()\n",
    "docs = table.search(query).where(f\"(timestamp >= {int(start_stamp)}) AND (timestamp <= {int(end_stamp)})\", prefilter=True).limit(5).to_list()\n",
    "# docs = table.search(query).limit(5).to_list()\n",
    "# docs = async_tbl.search(query).limit(8).to_list()"
   ]
  },
  {
   "cell_type": "code",
   "execution_count": 19,
   "metadata": {},
   "outputs": [
    {
     "data": {
      "text/plain": [
       "datetime.datetime(2024, 9, 24, 17, 13, 10)"
      ]
     },
     "execution_count": 19,
     "metadata": {},
     "output_type": "execute_result"
    }
   ],
   "source": [
    "datetime.fromtimestamp(docs[0]['timestamp'])"
   ]
  },
  {
   "cell_type": "code",
   "execution_count": null,
   "metadata": {},
   "outputs": [],
   "source": [
    "end_time = '2024-06-11'\n",
    "end_stamp = datetime.strptime(end_time, \"%Y-%m-%d\").timestamp()\n",
    "print(end_stamp)"
   ]
  },
  {
   "cell_type": "code",
   "execution_count": 20,
   "metadata": {},
   "outputs": [
    {
     "data": {
      "text/plain": [
       "[('2024-09-24 17:13:10', 'BYC, ‘올데이롱 2024 가을·겨울’ 출시'),\n",
       " ('2024-09-24 18:05:21', '[유가증권시장 공시] JB금융지주 / DN오토모티브'),\n",
       " ('2024-09-24 18:05:21', '[유가증권시장 공시] JB금융지주 / DN오토모티브'),\n",
       " ('2024-09-24 14:08:09', '[특징주] JB금융지주, ‘주주환원율 50%’ 밸류업 계획에 4%대 오름세'),\n",
       " ('2024-09-24 12:30:15', \"[직설] 모건스탠리 'K-반도체 겨울' 보고서 내기 직전 SK하이닉스 대량매도\")]"
      ]
     },
     "execution_count": 20,
     "metadata": {},
     "output_type": "execute_result"
    }
   ],
   "source": [
    "[(str(datetime.fromtimestamp(doc['timestamp'])), doc['title']) for doc in docs]"
   ]
  },
  {
   "cell_type": "code",
   "execution_count": 21,
   "metadata": {},
   "outputs": [
    {
     "data": {
      "text/plain": [
       "[('2024-09-24 12:30:15', \"[직설] 모건스탠리 'K-반도체 겨울' 보고서 내기 직전 SK하이닉스 대량매도\"),\n",
       " ('2024-09-24 14:08:09', '[특징주] JB금융지주, ‘주주환원율 50%’ 밸류업 계획에 4%대 오름세'),\n",
       " ('2024-09-24 17:13:10', 'BYC, ‘올데이롱 2024 가을·겨울’ 출시'),\n",
       " ('2024-09-24 18:05:21', '[유가증권시장 공시] JB금융지주 / DN오토모티브'),\n",
       " ('2024-09-24 18:05:21', '[유가증권시장 공시] JB금융지주 / DN오토모티브')]"
      ]
     },
     "execution_count": 21,
     "metadata": {},
     "output_type": "execute_result"
    }
   ],
   "source": [
    "sorted([(str(datetime.fromtimestamp(doc['timestamp'])), doc['title']) for doc in docs], key=lambda x : x[0])"
   ]
  },
  {
   "cell_type": "code",
   "execution_count": null,
   "metadata": {},
   "outputs": [],
   "source": [
    "query = '최근 삼성전자의 신제품에 대해 알려줘'\n",
    "query = embedding_function.encode(query)['dense_vecs']\n",
    "docs = table.search(query).limit(5).where(f\"timestamp > {int(date)}\", prefilter=True).to_list()"
   ]
  },
  {
   "cell_type": "code",
   "execution_count": null,
   "metadata": {},
   "outputs": [],
   "source": [
    "sorted([(str(datetime.fromtimestamp(doc['timestamp'])), doc['title']) for doc in docs], key=lambda x : x[0])"
   ]
  },
  {
   "cell_type": "code",
   "execution_count": null,
   "metadata": {},
   "outputs": [],
   "source": [
    "a = \"asidhfioas\"\n",
    "\n",
    "a[:12034]"
   ]
  },
  {
   "cell_type": "code",
   "execution_count": null,
   "metadata": {},
   "outputs": [],
   "source": []
  }
 ],
 "metadata": {
  "kernelspec": {
   "display_name": "llm",
   "language": "python",
   "name": "python3"
  },
  "language_info": {
   "codemirror_mode": {
    "name": "ipython",
    "version": 3
   },
   "file_extension": ".py",
   "mimetype": "text/x-python",
   "name": "python",
   "nbconvert_exporter": "python",
   "pygments_lexer": "ipython3",
   "version": "3.10.14"
  }
 },
 "nbformat": 4,
 "nbformat_minor": 2
}
