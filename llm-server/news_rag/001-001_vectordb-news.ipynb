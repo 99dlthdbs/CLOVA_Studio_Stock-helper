{
 "cells": [
  {
   "cell_type": "markdown",
   "metadata": {},
   "source": [
    "# Setup"
   ]
  },
  {
   "cell_type": "code",
   "execution_count": 1,
   "metadata": {},
   "outputs": [
    {
     "name": "stderr",
     "output_type": "stream",
     "text": [
      "/usr/local/lib/python3.10/dist-packages/tqdm/auto.py:21: TqdmWarning: IProgress not found. Please update jupyter and ipywidgets. See https://ipywidgets.readthedocs.io/en/stable/user_install.html\n",
      "  from .autonotebook import tqdm as notebook_tqdm\n",
      "/usr/local/lib/python3.10/dist-packages/pydantic/_migration.py:283: UserWarning: `pydantic.error_wrappers:ValidationError` has been moved to `pydantic:ValidationError`.\n",
      "  warnings.warn(f'`{import_path}` has been moved to `{new_location}`.')\n"
     ]
    }
   ],
   "source": [
    "import os\n",
    "import json\n",
    "import lancedb\n",
    "# import dsutils\n",
    "import numpy as np\n",
    "import pyarrow as pa\n",
    "from glob import glob\n",
    "from tqdm import tqdm\n",
    "from docarray.typing import NdArray\n",
    "from typing import Optional\n",
    "from docarray import BaseDoc, DocList\n",
    "from FlagEmbedding import BGEM3FlagModel\n",
    "from docarray.index import HnswDocumentIndex\n",
    "from pymongo import MongoClient\n",
    "from bson import ObjectId\n",
    "from datetime import datetime"
   ]
  },
  {
   "cell_type": "code",
   "execution_count": 2,
   "metadata": {},
   "outputs": [
    {
     "name": "stderr",
     "output_type": "stream",
     "text": [
      "/usr/local/lib/python3.10/dist-packages/pydantic/_internal/_fields.py:200: UserWarning: Field name \"summary\" in \"Document\" shadows an attribute in parent \"BaseDoc\"\n",
      "  warnings.warn(\n"
     ]
    }
   ],
   "source": [
    "class Document(BaseDoc):\n",
    "    _id: str\n",
    "    timestamp: int\n",
    "    query: str\n",
    "    title: str\n",
    "    press: str\n",
    "    summary: Optional[str] = None\n",
    "    content: str\n",
    "    url: str\n",
    "    origin: str\n",
    "    embedding: Optional[NdArray] = None"
   ]
  },
  {
   "cell_type": "markdown",
   "metadata": {},
   "source": [
    "## MongoDB"
   ]
  },
  {
   "cell_type": "code",
   "execution_count": 3,
   "metadata": {},
   "outputs": [],
   "source": [
    "client = MongoClient()\n",
    "hostname = 'mongo.stockhelper-mongodb.store'\n",
    "username = 'root'\n",
    "password = 'financial'\n",
    "client = MongoClient(hostname, username=username, password=password)\n",
    "db = client['financial']\n",
    "news = db.news.find({})"
   ]
  },
  {
   "cell_type": "code",
   "execution_count": 4,
   "metadata": {},
   "outputs": [],
   "source": [
    "def convert_objectid(doc):\n",
    "    if \"_id\" in doc:\n",
    "        doc[\"_id\"] = str(doc[\"_id\"])\n",
    "        \n",
    "    if 'timestamp' in doc:\n",
    "        doc['timestamp'] = int(doc['timestamp'].timestamp())\n",
    "\n",
    "    return doc"
   ]
  },
  {
   "cell_type": "code",
   "execution_count": 5,
   "metadata": {},
   "outputs": [],
   "source": [
    "news = list(news)\n",
    "news = [convert_objectid(doc) for doc in news]"
   ]
  },
  {
   "cell_type": "code",
   "execution_count": 6,
   "metadata": {},
   "outputs": [
    {
     "name": "stdout",
     "output_type": "stream",
     "text": [
      "{'_id': '66668bfa598cbc832134cd28', 'timestamp': 1718027415, 'query': '삼성전자', 'title': 'SK하이닉스 목표주가 벽 2번 부쉈는데… 삼성전자는 뒷걸음질만', 'press': '조선비즈', 'summary': None, 'content': '삼성전자 주가가 오를만하면 다시 뒷걸음질 치면서 증권사가 제시하는 목표주가와 차이를 좁히지 못하고 있다. 인공지능(AI) 열풍에 힘입어 SK하이닉스가 올해 들어 두 차례 목표주가를 돌파한 것과 대조적이다.삼성전자 주식은 10일 오후 1시 30분 유가증권시장에서 7만5800원에 거래됐다. 전 거래일보다 주가가 1.94%(1500원) 하락했다. 같은 시각 SK하이닉스 주가는 전 거래일보다 0.24%(500원) 올랐다. 이날 국내 주식시장은 미국 5월 고용지표가 시장 예상을 웃돌면서 전반적으로 부진한데, 기업별로 어느 정도 온도 차가 있는 상황이다.이날 만의 일이 아니다. 삼성전자와 SK하이닉스 주가 흐름은 올해 들어 엇갈려 왔다. AI 핵심 반도체인 고대역폭메모리(HBM)가 희비를 갈랐다. SK하이닉스는 AI 반도체 시장의 90% 이상을 점유하고 있는 미국 엔비디아에 4세대 HBM(HBM3)에 이어 5세대 HBM(HBM3E)을 납품하면서 주가가 탄력을 받았다. 삼성전자는 엔비디아에 제품 공급을 위해 HBM3E ‘퀄 테스트(최종 신뢰성 평가)’를 진행 중이지만, 아직 최종 승인이 나오지 않았다.SK하이닉스 주가는 올해 초 13만9700원에서 이날까지 48.9%(6만8300원) 오르며 증권사 기대치를 경신했다. 연초 목표주가 평균 16만4000원을 지난 3월 넘어섰고, 5월 초 목표주가 평균 18만2000원도 같은 달 13일부터 웃돌았다. SK하이닉스에 대한 목표주가를 제시한 국내외 증권사·투자은행(IB)은 현재 SK하이닉스의 목표주가로 평균 23만3800원을 제시하고 있다. 시티그룹은 SK하이닉스의 목표주가를 최고치인 31만원까지 올려놓은 상태다.삼성전자는 반대로 올해 들어 주가가 3.1%(2400원) 내렸다. 지난달 9일 8만원 선이 깨진 뒤로 한달째 7만원 대에 머물고 있다. 증권사·IB의 삼성전자 목표주가가 연초 9만2000원에서 현재 10만3900원까지 상향 조정됐으나, 주가가 이를 쫓지 못하면서 괴리율만 15.6%에서 37.1%로 벌어졌다. 이 정도 수준의 괴리율은 삼성전자가 반도체 업황 부진으로 주가가 5만원대까지 밀렸던 2022년 9~10월 수준이다.증권사들은 삼성전자도 엔비디아에 HBM3E를 납품할 것으로 본다. 엔비디아 입장에서 SK하이닉스에 의존하는 단일 공급처(Sole Vendor) 부담이 큰 점을 주된 이유로 꼽는다. 젠슨 황 엔비디아 최고경영자(CEO)도 최근 삼성전자와 마이크론의 HBM 모두 퀄 테스트를 진행 중이라고 재확인했다.HBM 수요 대비 공급이 제한돼 있기도 하다. 2025년 HBM 수요량 추정치는 22억3000만GB인데, 같은 해 SK하이닉스와 미국 마이크론 테크놀로지(마이크론)의 출하량은 12억5000만GB에 그칠 것으로 예상되고 있다. 부족한 만큼 삼성전자에서 채워줘야 한다는 의미다.문제는 후발주자로 여겨지던 마이크론이 6세대 고대역폭메모리(HBM4) 샘플을 2025년 상반기까지 공개하겠다고 발표하는 등 갈수록 경쟁이 치열해지고 있다는 점이다. 삼성전자가 파운드리(반도체 수탁생산) 사업 등에서 추가 성과를 내야 주가도 다시 상승 동력을 얻을 것이라는 게 중론이다.증권사들은 당분간 SK하이닉스가 HBM 시장을 주도하는 상황이 이어질 것으로 보고 있다. 김광진 한화투자증권 연구원은 “시장 선두업체인 SK하이닉스 기준 D램 사업 내 HBM 매출 비중이 지난해 13%(약 2조6000억원)에서 올해 28%(약 10조8000억원), 2025년 41%(약 19조4000억원) 수준으로 증가할 것으로 추정한다”고 했다.', 'url': 'https://n.news.naver.com/mnews/article/366/0000997472?sid=101', 'origin': 'https://biz.chosun.com/stock/stock_general/2024/06/10/XQTVBTHNGFABHDQZXKSIFUMV4E/?utm_source=naver&utm_medium=original&utm_campaign=biz'}\n",
      "25396\n"
     ]
    }
   ],
   "source": [
    "print(news[0])\n",
    "print(len(news))"
   ]
  },
  {
   "cell_type": "markdown",
   "metadata": {},
   "source": [
    "## LanceDB"
   ]
  },
  {
   "cell_type": "code",
   "execution_count": 7,
   "metadata": {},
   "outputs": [],
   "source": [
    "uri = \"/workspace/008_PseudoLab/server/vectorstore\"\n",
    "db = lancedb.connect(uri)\n",
    "# async_db = await lancedb.connect_async(uri)"
   ]
  },
  {
   "cell_type": "code",
   "execution_count": 8,
   "metadata": {},
   "outputs": [],
   "source": [
    "schema = pa.schema([\n",
    "    pa.field('id', pa.string()),\n",
    "    pa.field('timestamp', pa.int64()),\n",
    "    pa.field('query', pa.string()),\n",
    "    pa.field('title', pa.string()),\n",
    "    pa.field('press', pa.string()),\n",
    "    pa.field('summary', pa.string()),\n",
    "    pa.field('content', pa.string()),\n",
    "    pa.field('url', pa.string()),\n",
    "    pa.field('origin', pa.string()),\n",
    "    pa.field(\"embedding\", pa.list_(pa.float32(), list_size=1024))\n",
    "])\n",
    "\n",
    "table = db.create_table(\"news\", schema=schema, mode=\"overwrite\")"
   ]
  },
  {
   "cell_type": "code",
   "execution_count": 9,
   "metadata": {},
   "outputs": [],
   "source": [
    "table = db.open_table('news')\n",
    "# async_tbl = async_db.open_table('news')"
   ]
  },
  {
   "cell_type": "code",
   "execution_count": 10,
   "metadata": {},
   "outputs": [
    {
     "name": "stderr",
     "output_type": "stream",
     "text": [
      "Fetching 30 files: 100%|██████████| 30/30 [00:00<00:00, 243383.21it/s]\n",
      "/usr/local/lib/python3.10/dist-packages/torch/_utils.py:831: UserWarning: TypedStorage is deprecated. It will be removed in the future and UntypedStorage will be the only storage class. This should only matter to you if you are using storages directly.  To access UntypedStorage directly, use tensor.untyped_storage() instead of tensor.storage()\n",
      "  return self.fget.__get__(instance, owner)()\n"
     ]
    }
   ],
   "source": [
    "embedding_function = BGEM3FlagModel('BAAI/bge-m3', use_fp16=False, device='cuda')"
   ]
  },
  {
   "cell_type": "code",
   "execution_count": 11,
   "metadata": {},
   "outputs": [
    {
     "name": "stderr",
     "output_type": "stream",
     "text": [
      "100%|██████████| 25396/25396 [12:34<00:00, 33.64it/s]\n"
     ]
    }
   ],
   "source": [
    "from tqdm.auto import tqdm\n",
    "\n",
    "docs = []\n",
    "\n",
    "for data in tqdm(news):\n",
    "    tmp = 'timestamp: ' + str(datetime.fromtimestamp(data['timestamp'])) + '\\n' \\\n",
    "        + 'title: ' + data['title'] + '\\n' \\\n",
    "            + 'content: ' + data['content']\n",
    "    embedding = embedding_function.encode(tmp, return_dense=True, return_sparse=False)\n",
    "    data['embedding'] = embedding['dense_vecs']\n",
    "    docs.append(Document(**data))\n",
    "\n",
    "docs = DocList[Document](docs)\n",
    "docs = [dict(d) for d in docs]\n",
    "table.add(docs)"
   ]
  },
  {
   "cell_type": "code",
   "execution_count": null,
   "metadata": {},
   "outputs": [],
   "source": [
    "# async_db = await lancedb.connect_async(uri)"
   ]
  },
  {
   "cell_type": "markdown",
   "metadata": {},
   "source": [
    "## LanceDB Test"
   ]
  },
  {
   "cell_type": "code",
   "execution_count": 17,
   "metadata": {},
   "outputs": [
    {
     "data": {
      "text/plain": [
       "15884"
      ]
     },
     "execution_count": 17,
     "metadata": {},
     "output_type": "execute_result"
    }
   ],
   "source": [
    "table = db.open_table('news')\n",
    "table.count_rows()\n",
    "# async_tbl.count_rows()"
   ]
  },
  {
   "cell_type": "code",
   "execution_count": 18,
   "metadata": {},
   "outputs": [
    {
     "data": {
      "text/plain": [
       "pyarrow.Table\n",
       "id: string\n",
       "timestamp: int64\n",
       "query: string\n",
       "title: string\n",
       "press: string\n",
       "summary: string\n",
       "content: string\n",
       "url: string\n",
       "origin: string\n",
       "embedding: fixed_size_list<item: float>[1024]\n",
       "  child 0, item: float\n",
       "----\n",
       "id: [[\"64d08f2d0e1b672385b3ab926274ea67\",\"bbb9447be8e6c498a4d72c1cffaeb0a3\",\"50dfda4a7898527d19d39e2211ae88dc\",\"ec99e047dd245b181bd92a5d10c64e7c\",\"066cbd0b20155eed82b82e06ef895e41\"]]\n",
       "timestamp: [[1718027415,1718026216,1718020690,1718020093,1718019789]]\n",
       "query: [[\"삼성전자\",\"삼성전자\",\"삼성전자\",\"삼성전자\",\"삼성전자\"]]\n",
       "title: [[\"SK하이닉스 목표주가 벽 2번 부쉈는데… 삼성전자는 뒷걸음질만\",\"'국민주식' 삼성전자, 20대 미만 주주 8.38% 달해…미성년 거래 종목 중 절반 육박\",\"삼성전자 소년개미 39만명…4년 새 21배 증가\",\"삼성전자, 美 최대 게임쇼서 OLED 모니터 신제품 공개\",\"[주식 초고수는 지금] '반도체 턴어라운드' 삼성전자 순매수 1위\"]]\n",
       "press: [[\"조선비즈\",\"스포츠조선\",\"SBS Biz\",\"서울경제\",\"서울경제\"]]\n",
       "summary: [[null,null,null,\"LA서 열린 '서머 게임 페스트'서4K 해상도 오디세이 OLED G8 공개\",\"[미래에셋증권 집계]에이피알, 리노공업 등 순매수 상위권\"]]\n",
       "content: [[\"삼성전자 주가가 오를만하면 다시 뒷걸음질 치면서 증권사가 제시하는 목표주가와 차이를 좁히지 못하고 있다. 인공지능(AI) 열풍에 힘입어 SK하이닉스가 올해 들어 두 차례 목표주가를 돌파한 것과 대조적이다.삼성전자 주식은 10일 오후 1시 30분 유가증권시장에서 7만5800원에 거래됐다. 전 거래일보다 주가가 1.94%(1500원) 하락했다. 같은 시각 SK하이닉스 주가는 전 거래일보다 0.24%(500원) 올랐다. 이날 국내 주식시장은 미국 5월 고용지표가 시장 예상을 웃돌면서 전반적으로 부진한데, 기업별로 어느 정도 온도 차가 있는 상황이다.이날 만의 일이 아니다. 삼성전자와 SK하이닉스 주가 흐름은 올해 들어 엇갈려 왔다. AI 핵심 반도체인 고대역폭메모리(HBM)가 희비를 갈랐다. SK하이닉스는 AI 반도체 시장의 90% 이상을 점유하고 있는 미국 엔비디아에 4세대 HBM(HBM3)에 이어 5세대 HBM(HBM3E)을 납품하면서 주가가 탄력을 받았다. 삼성전자는 엔비디아에 제품 공급을 위해 HBM3E ‘퀄 테스트(최종 신뢰성 평가)’를 진행 중이지만, 아직 최종 승인이 나오지 않았다.SK하이닉스 주가는 올해 초 13만9700원에서 이날까지 48.9%(6만8300원) 오르며 증권사 기대치를 경신했다. 연초 목표주가 평균 16만4000원을 지난 3월 넘어섰고, 5월 초 목표주가 평균 18만2000원도 같은 달 13일부터 웃돌았다. SK하이닉스에 대한 목표주가를 제시한 국내외 증권사·투자은행(IB)은 현재 SK하이닉스의 목표주가로 평균 23만3800원을 제시하고 있다. 시티그룹은 SK하이닉스의 목표주가를 최고치인 31만원까지 올려놓은 상태다.삼성전자는 반대로 올해 들어 주가가 3.1%(2400원) 내렸다. 지난달 9일 8만원 선이 깨진 뒤로 한달째 7만원 대에 머물고 있다. 증권사·IB의 삼성전자 목표주가가 연초 9만2000원에서 현재 10만3900원까지 상향 조정됐으나, 주가가 이를 쫓지 못하면서 괴리율만 15.6%에서 37.1%로 벌어졌다. 이 정도 수준의 괴리율은 삼성전자가 반도체 업황 부진으로 주가가 5만원대까지 밀렸던 2022년 9~10월 수준이다.증권사들은 삼성전자도 엔비디아에 HBM3E를 납품할 것으로 본다. 엔비디아 입장에서 SK하이닉스에 의존하는 단일 공급처(Sole Vendor) 부담이 큰 점을 주된 이유로 꼽는다. 젠슨 황 엔비디아 최고경영자(CEO)도 최근 삼성전자와 마이크론의 HBM 모두 퀄 테스트를 진행 중이라고 재확인했다.HBM 수요 대비 공급이 제한돼 있기도 하다. 2025년 HBM 수요량 추정치는 22억3000만GB인데, 같은 해 SK하이닉스와 미국 마이크론 테크놀로지(마이크론)의 출하량은 12억5000만GB에 그칠 것으로 예상되고 있다. 부족한 만큼 삼성전자에서 채워줘야 한다는 의미다.문제는 후발주자로 여겨지던 마이크론이 6세대 고대역폭메모리(HBM4) 샘플을 2025년 상반기까지 공개하겠다고 발표하는 등 갈수록 경쟁이 치열해지고 있다는 점이다. 삼성전자가 파운드리(반도체 수탁생산) 사업 등에서 추가 성과를 내야 주가도 다시 상승 동력을 얻을 것이라는 게 중론이다.증권사들은 당분간 SK하이닉스가 HBM 시장을 주도하는 상황이 이어질 것으로 보고 있다. 김광진 한화투자증권 연구원은 “시장 선두업체인 SK하이닉스 기준 D램 사업 내 HBM 매출 비중이 지난해 13%(약 2조6000억원)에서 올해 28%(약 10조8000억원), 2025년 41%(약 19조4000억원) 수준으로 증가할 것으로 추정한다”고 했다.\",\"국내 시가총액 1위 주식인 삼성전자가 역시 '국민주식'인 것으로 나타났다. 최근 수년간 주가가 큰 등락폭 없이 횡보하고 있지만, 개미 투자자들에겐 삼성전자가 자손에게 대를 이어 물려줘도 좋을 주식으로 여겨지고 있다는 분석이다.신한투자증권이 올해 들어 3월 27일까지 자사 미성년 고객 거래 상위 10개 종목을 분석한 결과 미성년 고객이 가장 많이 거래한 국내 주식은 삼성전자(36.6%)이고 2위는 삼성전자우(10.3%)로 집계되는 등 삼성전자가 거의 절반을 차지했다. 이어 카카오(8.6%), 네이버(8.6%), 에이피알(8.6%), 현대차(7.4%) 등이 뒤를 이었다.주식을 보유한 주주의 연령대를 보더라도 알 수 있다. 10일 한국예탁결제원 증권정보포털 세이브로에 따르면 지난해 말 기준 삼성전자의 20세 미만 주주는 39만 1869명으로 전체 주주(총 467만2130명)의 약 8.38%를 차지했다.이들은 전체 발행 주식의 0.3% 수준인 총 1960만 5469주를 보유했으며 1인당 평균 46주로, 이를 지난해 말 종가(7만 8500원)로 환산하면 1인당 약 361만 1000원 수준이다. 또 미성년자가 보유한 주식의 총 평가액은 지난해 말 종가 7만 8500원 기준으로 1조 5390억원이다.삼성전자의 시가총액이 10일 기준으로 452조원인 것을 감안하면 소규모라 할 수 있지만, 이들이 미래의 경제 주역이라는 점을 고려하면 상당히 의미 있는 수치라 할 수 있다. 게다가 해외 투자의 활성화로 젊은 세대를 중심으로 국내외 주식 투자 규모나 인구가 계속 늘어나고 있는 것을 고려했을 때 삼성전자를 비롯한 대부분의 기업들로선 주주들의 연령대가 낮아지는 것은 분명 반가운 변화라 할 수 있다.삼성전자 미성년 주주는 매년 증가 추세를 이어왔다. 연말 기준으로 2010년 1.83%(2638명)에 불과했고 이는 2018년까지 그대로 이어지다가 2019년 3.21%(1만 8301명)로 급격하게 늘었다. 삼성전자가 2018년 5월 주식 1주를 50주로 쪼개는 액면분할을 단행한 이후 매수에 대한 부담감이 확 줄어들었기 때문으로 분석된다. 액면분할 이전 최고가가 무려 300만원에 근접한 286만원이었던 것을 감안하면 잘 알 수 있다.이후 미성년 주주의 비중은 2020년 5.34%(11만 5083명), 2021년 7.07%(35만 8257명), 2022년 7.42%(43만 1642명)로 지속해서 늘어나고 있다. 2019년 말과 비교하면 4년 만에 미성년 주주의 비중은 2.6배, 투자자 수는 21.4배로 증가했다.코로나19 팬데믹을 거치면서 전세계 주가가 바닥을 찍고 급격하게 상승하는 상황에서 주식 투자 열풍이 불었고, 이 흐름에 올라타겠다는 'FOMO'(포모·자신만 뒤쳐지거나 소외된 것 같은 두려움) 증후군에다 자녀에 대한 '금융 조기교육'의 필요성 등이 복합적으로 작용한 것으로 보인다.여기에 국내 증권사도 앞다퉈 자녀를 대상으로 한 주식 서비스와 이벤트를 제공하며 한 몫 하고 있다.우선 미성년의 주식 계좌 개설을 위해선 예전에 반드시 시간을 내어 증권사 지점을 찾아가야 했지만, 이제는 대형 증권사를 시작으로 성인과 마찬가지로 비대면으로 계좌 개설이 가능해진 것이 자녀들의 투자 활성화에 상당한 기폭제가 됐다. 또 증권사의 '주식 선물하기' 기능을 활용해 자녀뿐 아니라 손주들에게도 주식을 증여하는 경우도 많아졌다. 증여의 경우 성인 자녀는 10년간 5000만원, 미성년 자녀는 2000만원까지 증여세를 내지 않아도 된다.\",\"[삼성전자. (연합뉴스 자료사진)]삼성전자 주식을 보유한 미성년 주주가 약 40만 명에 육박하는 것으로 나타났습니다.한국예탁결제원 증권정보포털에 따르면 지난해 말 기준 삼성전자의 20세 미만 주주는 39만1천여 명으로 전체 주주의 8.38%를 차지했습니다.지난 2019년 기준 미성년 주주 수는 1만8천여 명, 비중은 전체의 3%에 그치던 것과 비교하면 4년 만에 미성년 주주 비중은 2.6배, 숫자로는 21.4배 증가했습니다.당신의 제보가 뉴스로 만들어집니다.SBS Biz는 여러분의 제보를 기다리고 있습니다.홈페이지 = https://url.kr/9pghjn\",\"[서울경제]삼성전자가 7일(현지시간) 미국 로스앤젤레스에서 열린 북미 최대 게임쇼 '서머 게임 페스트'에서 모니터 신제품을 대거 선보였다고 10일 밝혔다.개막 라이브 스트리밍에서 2024년형 '오디세이 OLED G8'을 소개하며, 현지 미디어와 크리에이터를 초청해 신제품 체험 행사 '삼성 모니터 원런칭 행사'를 연이어 열었다.이번에 출시한 게이밍 모니터 신제품은 4K 초고화질(UHD) 해상도의 '오디세이 유기발광다이오드(OLED) G8'과 QHD 해상도의 '오디세이 OLED G6'다. 2종 모두 'OLED 글레어 프리'를 적용해 빛 반사를 줄여 게임 몰입감을 높이고, 번인을 예방하는 독자 기술 '삼성 OLED 세이프가드+'를 적용했다.현장에서는 출시 예정 신작 게임 '워해머 40,000: 스페이스 마린 2'를 '오디세이 OLED G8'에서 최초로 직가접 플레이해 볼 수 있는 기회도 제공했다. 또 행사에서는 인공지능(AI) 프로세서를 탑재한 스마트 모니터 M8, 고해상도 모니터 뷰피니티 S7 등 삼성전자의 2024년형 모니터 신제품을 함께 전시했다.\",\"[서울경제]미래에셋증권(006800)에서 거래하는 고수익 투자자들이 11일 오전 가장 많이 순매수한 종목은삼성전자(005930)로 나타났다. 이밖에에이피알(278470),리노공업(058470)등이 순매수 상위권에 올랐다.이날 미래에셋증권에 따르면 미래에셋증권 주식 거래 고객 중 최근 1개월 간 투자수익률 상위 1%에 해당하는 ‘주식 초고수’들이 오전 11시까지 가장 많이 사들인 종목은 삼성전자로 집계됐다. 이는 4월 이후 우하향 곡선을 그려온 삼성전자의 주가가 단기적인 바닥에 근접했다고 판단한 투자자들이 많았던 것으로 풀이된다. 삼성전자의 지난해 반도체 사업 매출이 전년 대비 32.4% 줄었는데 워낙 침체의 골이 깊었던 만큼 올 매출 반등은 가파를 것이란 전망도 매수 전략에 힘을 더한다.반도체 업황이 상승 반전하고 있다는 점도 긍정적이다. 글로벌 시장조사 기관인 세계반도체무역통계(WSTS)는 최근 보고서에서 올 메모리 반도체 시장 매출 규모가 전년 대비 76.8% 성장한 1632억 달러에 이를 것이라 전망했다. 삼성증권은 9일 보고서에서 “메모리 반도체 업황 턴어라운드(반전)에 따라 삼성전자 주가와의 디커플링(탈동조화)이 해소됐다”며 삼성전자를 추천 종목으로 제시하기도 했다.SK하이닉스(000660)가 순매수 4위에 오른 것도 비슷한 이유로 추측된다.순매수 2위는 에이피알이다. 에이피알 주가는 이날 오전 전 거래일 대비 4.93% 오른 34만 500원을 기록했다. 에이피알은 피부 관리 기기 ‘메디큐브 에이지알’로 잘 알려진 회사다. 지난 2월 코스피 시장에 공모가 10만 원으로 상장했다. 지난해 연결기준 매출 5238억 원, 영업이익 1042억 원을 기록했다. 각각 전년 동기 대비 31.7%, 165.6% 상승했다.NH투자증권(005940)에 따르면 올 에이피알의 매출액은 7700억 원으로 지난해 대비 47%가 증가할 것으로 예측됐다. 정지윤 NH투자증권 연구원은 “2분기에 부스터 프로 출시로 미국와 일본 중국 등 글로벌 홈 뷰티 디바이스 수요를 흡수해 나갈 전망”이라며 “특히 미국 내 K뷰티 인기가 확장되고 있고 기능과 품질이 우수해 글로벌 수요가 지속 확대될 것으로 보인다”고 분석했다.순매수 3위는 코스닥 상장사인 리노공업이다. 반도체 소재·부품·장비 기업 리노공업은 대표 제품인 ‘리노핀’을 국내외 1020여개 회사에 납품하고 있다. 리노핀은 반도체나 기판의 불량을 테스트할 때 쓰이는 핀이다. 리노공업의 실적 역시 반도체 시장의 업황 개선에 따라 상승 탄력을 받을 것으로 보인다. 지난해 리노공업의 매출액은 2556억 원었다.이날 순매도는제이시스메디칼(287410),주성엔지니어링(036930),한미반도체(042700)순으로 많았다. 전일 순매수는HLB(028300),선익시스템(171090),티에스이(131290)등이 상위권에 이름을 올렸다. 순매도는 SK하이닉스, 한미반도체,알테오젠(196170)순이었다.미래에셋증권은 자사 고객 중에서 지난 1개월간 수익률 상위 1% 투자자들의 매매 종목을 집계해 실시간·전일·최근 5일 기준으로 모바일트레이딩시스템(MTS)상에서 공개하고 있다. 이 통계 데이터는 미래에셋증권의 의견과 무관한 단순 정보 안내이며 각각의 투자자 개인에게 맞는 투자 또는 수익 달성을 보장하지 않는다. 또 테마주 관련 종목은 이상 급등락 가능성이 있으므로 유의해야 한다.\"]]\n",
       "url: [[\"https://n.news.naver.com/mnews/article/366/0000997472?sid=101\",\"https://n.news.naver.com/mnews/article/076/0004154754?sid=101\",\"https://n.news.naver.com/mnews/article/374/0000387227?sid=101\",\"https://n.news.naver.com/mnews/article/011/0004351084?sid=101\",\"https://n.news.naver.com/mnews/article/011/0004351076?sid=101\"]]\n",
       "origin: [[\"https://biz.chosun.com/stock/stock_general/2024/06/10/XQTVBTHNGFABHDQZXKSIFUMV4E/?utm_source=naver&utm_medium=original&utm_campaign=biz\",\"https://sports.chosun.com/life/2024-06-10/202406100100066640008817\",\"https://biz.sbs.co.kr/article_hub/20000175493?division=NAVER\",\"https://www.sedaily.com/NewsView/2DAES2NIXA\",\"https://www.sedaily.com/NewsView/2DAERWTZII\"]]\n",
       "embedding: [[[-0.029746132,-0.0063968175,-0.059113227,0.007351875,-0.024008054,...,-0.073231675,-0.0035714589,-0.0011020883,-0.0030788833,0.023109406],[-0.04694254,-0.005822139,-0.031236868,-0.033738945,-0.0062117833,...,-0.035511523,-0.021728478,-0.0032051378,-0.05713042,-0.0006687393],[-0.060691368,0.03391775,-0.015319908,-0.019608451,-0.038892623,...,-0.030509714,-0.037039142,-0.029063653,-0.047233857,0.02070699],[-0.037841763,-0.030660918,-0.051414102,0.0033141845,-0.0012102589,...,-0.035409477,0.03895074,-0.004752726,-0.03191979,0.0067573558],[-0.06196129,-0.0100078,-0.0534966,0.0196594,-0.008857877,...,-0.08407783,-0.03838927,-0.00044862588,-0.034187946,-0.009664737]]]"
      ]
     },
     "execution_count": 18,
     "metadata": {},
     "output_type": "execute_result"
    }
   ],
   "source": [
    "# table.search(\"2024-06-10\").limit(10).to_list()\n",
    "table.head()"
   ]
  },
  {
   "cell_type": "code",
   "execution_count": 19,
   "metadata": {},
   "outputs": [
    {
     "name": "stderr",
     "output_type": "stream",
     "text": [
      "Fetching 30 files: 100%|██████████| 30/30 [00:00<00:00, 309162.46it/s]\n"
     ]
    }
   ],
   "source": [
    "embedding_function = BGEM3FlagModel('BAAI/bge-m3', use_fp16=False, device='cpu')"
   ]
  },
  {
   "cell_type": "code",
   "execution_count": 34,
   "metadata": {},
   "outputs": [],
   "source": [
    "from datetime import datetime\n",
    "\n",
    "query = '삼성전자의 주식과 관련된 뉴스를 알려줘'\n",
    "query = embedding_function.encode(query)['dense_vecs']\n",
    "start_time = '2024-06-12'\n",
    "start_stamp = datetime.strptime(start_time, \"%Y-%m-%d\").timestamp()\n",
    "\n",
    "end_time = '2024-06-13'\n",
    "end_stamp = datetime.strptime(end_time, \"%Y-%m-%d\").timestamp()\n",
    "docs = table.search(query).where(f\"(timestamp >= {int(start_stamp)}) AND (timestamp <= {int(end_stamp)})\", prefilter=True).limit(5).to_list()\n",
    "# docs = table.search(query).limit(5).to_list()\n",
    "# docs = async_tbl.search(query).limit(8).to_list()"
   ]
  },
  {
   "cell_type": "code",
   "execution_count": 37,
   "metadata": {},
   "outputs": [
    {
     "data": {
      "text/plain": [
       "datetime.datetime(2024, 6, 12, 6, 29, 7)"
      ]
     },
     "execution_count": 37,
     "metadata": {},
     "output_type": "execute_result"
    }
   ],
   "source": [
    "datetime.fromtimestamp(docs[0]['timestamp'])"
   ]
  },
  {
   "cell_type": "code",
   "execution_count": null,
   "metadata": {},
   "outputs": [],
   "source": [
    "end_time = '2024-06-11'\n",
    "end_stamp = datetime.strptime(end_time, \"%Y-%m-%d\").timestamp()\n",
    "print(end_stamp)"
   ]
  },
  {
   "cell_type": "code",
   "execution_count": null,
   "metadata": {},
   "outputs": [],
   "source": [
    "[(str(datetime.fromtimestamp(doc['timestamp'])), doc['title']) for doc in docs]"
   ]
  },
  {
   "cell_type": "code",
   "execution_count": null,
   "metadata": {},
   "outputs": [],
   "source": [
    "sorted([(str(datetime.fromtimestamp(doc['timestamp'])), doc['title']) for doc in docs], key=lambda x : x[0])"
   ]
  },
  {
   "cell_type": "code",
   "execution_count": null,
   "metadata": {},
   "outputs": [],
   "source": [
    "query = '최근 삼성전자의 신제품에 대해 알려줘'\n",
    "query = embedding_function.encode(query)['dense_vecs']\n",
    "docs = table.search(query).limit(5).where(f\"timestamp > {int(date)}\", prefilter=True).to_list()"
   ]
  },
  {
   "cell_type": "code",
   "execution_count": null,
   "metadata": {},
   "outputs": [],
   "source": [
    "sorted([(str(datetime.fromtimestamp(doc['timestamp'])), doc['title']) for doc in docs], key=lambda x : x[0])"
   ]
  },
  {
   "cell_type": "code",
   "execution_count": null,
   "metadata": {},
   "outputs": [],
   "source": [
    "a = \"asidhfioas\"\n",
    "\n",
    "a[:12034]"
   ]
  },
  {
   "cell_type": "code",
   "execution_count": null,
   "metadata": {},
   "outputs": [],
   "source": []
  }
 ],
 "metadata": {
  "kernelspec": {
   "display_name": "llm",
   "language": "python",
   "name": "python3"
  },
  "language_info": {
   "codemirror_mode": {
    "name": "ipython",
    "version": 3
   },
   "file_extension": ".py",
   "mimetype": "text/x-python",
   "name": "python",
   "nbconvert_exporter": "python",
   "pygments_lexer": "ipython3",
   "version": "3.1.undefined"
  }
 },
 "nbformat": 4,
 "nbformat_minor": 2
}
