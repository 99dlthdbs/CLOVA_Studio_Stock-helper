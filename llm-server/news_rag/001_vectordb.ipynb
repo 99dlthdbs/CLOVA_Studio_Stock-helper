{
 "cells": [
  {
   "cell_type": "markdown",
   "metadata": {},
   "source": [
    "# Setup"
   ]
  },
  {
   "cell_type": "code",
   "execution_count": 1,
   "metadata": {},
   "outputs": [
    {
     "name": "stderr",
     "output_type": "stream",
     "text": [
      "/usr/local/lib/python3.10/dist-packages/tqdm/auto.py:21: TqdmWarning: IProgress not found. Please update jupyter and ipywidgets. See https://ipywidgets.readthedocs.io/en/stable/user_install.html\n",
      "  from .autonotebook import tqdm as notebook_tqdm\n",
      "/usr/local/lib/python3.10/dist-packages/pydantic/_migration.py:283: UserWarning: `pydantic.error_wrappers:ValidationError` has been moved to `pydantic:ValidationError`.\n",
      "  warnings.warn(f'`{import_path}` has been moved to `{new_location}`.')\n"
     ]
    }
   ],
   "source": [
    "import os\n",
    "import json\n",
    "import lancedb\n",
    "# import dsutils\n",
    "import numpy as np\n",
    "import pyarrow as pa\n",
    "from glob import glob\n",
    "from tqdm import tqdm\n",
    "from docarray.typing import NdArray\n",
    "from typing import Optional\n",
    "from docarray import BaseDoc, DocList\n",
    "from FlagEmbedding import BGEM3FlagModel\n",
    "from docarray.index import HnswDocumentIndex\n",
    "from pymongo import MongoClient\n",
    "from bson import ObjectId\n",
    "from datetime import datetime"
   ]
  },
  {
   "cell_type": "code",
   "execution_count": 2,
   "metadata": {},
   "outputs": [
    {
     "name": "stderr",
     "output_type": "stream",
     "text": [
      "/usr/local/lib/python3.10/dist-packages/pydantic/_internal/_fields.py:200: UserWarning: Field name \"summary\" in \"Document\" shadows an attribute in parent \"BaseDoc\"\n",
      "  warnings.warn(\n"
     ]
    }
   ],
   "source": [
    "class Document(BaseDoc):\n",
    "    _id: str\n",
    "    timestamp: int\n",
    "    query: str\n",
    "    title: str\n",
    "    press: str\n",
    "    summary: Optional[str] = None\n",
    "    content: str\n",
    "    url: str\n",
    "    origin: str\n",
    "    embedding: Optional[NdArray] = None"
   ]
  },
  {
   "cell_type": "markdown",
   "metadata": {},
   "source": [
    "## MongoDB"
   ]
  },
  {
   "cell_type": "code",
   "execution_count": 3,
   "metadata": {},
   "outputs": [],
   "source": [
    "client = MongoClient()\n",
    "hostname = 'mongo.stockhelper-mongodb.store'\n",
    "username = 'root'\n",
    "password = 'financial'\n",
    "client = MongoClient(hostname, username=username, password=password)\n",
    "db = client['financial']\n",
    "news = db.news.find({})"
   ]
  },
  {
   "cell_type": "code",
   "execution_count": 4,
   "metadata": {},
   "outputs": [],
   "source": [
    "def convert_objectid(doc):\n",
    "    if \"_id\" in doc:\n",
    "        doc[\"_id\"] = str(doc[\"_id\"])\n",
    "        \n",
    "    if 'timestamp' in doc:\n",
    "        doc['timestamp'] = int(doc['timestamp'].timestamp())\n",
    "\n",
    "    return doc"
   ]
  },
  {
   "cell_type": "code",
   "execution_count": 5,
   "metadata": {},
   "outputs": [],
   "source": [
    "news = list(news)\n",
    "news = [convert_objectid(doc) for doc in news]"
   ]
  },
  {
   "cell_type": "code",
   "execution_count": 6,
   "metadata": {},
   "outputs": [
    {
     "name": "stdout",
     "output_type": "stream",
     "text": [
      "{'_id': '66668bfa598cbc832134cd28', 'timestamp': 1718027415, 'query': '삼성전자', 'title': 'SK하이닉스 목표주가 벽 2번 부쉈는데… 삼성전자는 뒷걸음질만', 'press': '조선비즈', 'summary': None, 'content': '삼성전자 주가가 오를만하면 다시 뒷걸음질 치면서 증권사가 제시하는 목표주가와 차이를 좁히지 못하고 있다. 인공지능(AI) 열풍에 힘입어 SK하이닉스가 올해 들어 두 차례 목표주가를 돌파한 것과 대조적이다.삼성전자 주식은 10일 오후 1시 30분 유가증권시장에서 7만5800원에 거래됐다. 전 거래일보다 주가가 1.94%(1500원) 하락했다. 같은 시각 SK하이닉스 주가는 전 거래일보다 0.24%(500원) 올랐다. 이날 국내 주식시장은 미국 5월 고용지표가 시장 예상을 웃돌면서 전반적으로 부진한데, 기업별로 어느 정도 온도 차가 있는 상황이다.이날 만의 일이 아니다. 삼성전자와 SK하이닉스 주가 흐름은 올해 들어 엇갈려 왔다. AI 핵심 반도체인 고대역폭메모리(HBM)가 희비를 갈랐다. SK하이닉스는 AI 반도체 시장의 90% 이상을 점유하고 있는 미국 엔비디아에 4세대 HBM(HBM3)에 이어 5세대 HBM(HBM3E)을 납품하면서 주가가 탄력을 받았다. 삼성전자는 엔비디아에 제품 공급을 위해 HBM3E ‘퀄 테스트(최종 신뢰성 평가)’를 진행 중이지만, 아직 최종 승인이 나오지 않았다.SK하이닉스 주가는 올해 초 13만9700원에서 이날까지 48.9%(6만8300원) 오르며 증권사 기대치를 경신했다. 연초 목표주가 평균 16만4000원을 지난 3월 넘어섰고, 5월 초 목표주가 평균 18만2000원도 같은 달 13일부터 웃돌았다. SK하이닉스에 대한 목표주가를 제시한 국내외 증권사·투자은행(IB)은 현재 SK하이닉스의 목표주가로 평균 23만3800원을 제시하고 있다. 시티그룹은 SK하이닉스의 목표주가를 최고치인 31만원까지 올려놓은 상태다.삼성전자는 반대로 올해 들어 주가가 3.1%(2400원) 내렸다. 지난달 9일 8만원 선이 깨진 뒤로 한달째 7만원 대에 머물고 있다. 증권사·IB의 삼성전자 목표주가가 연초 9만2000원에서 현재 10만3900원까지 상향 조정됐으나, 주가가 이를 쫓지 못하면서 괴리율만 15.6%에서 37.1%로 벌어졌다. 이 정도 수준의 괴리율은 삼성전자가 반도체 업황 부진으로 주가가 5만원대까지 밀렸던 2022년 9~10월 수준이다.증권사들은 삼성전자도 엔비디아에 HBM3E를 납품할 것으로 본다. 엔비디아 입장에서 SK하이닉스에 의존하는 단일 공급처(Sole Vendor) 부담이 큰 점을 주된 이유로 꼽는다. 젠슨 황 엔비디아 최고경영자(CEO)도 최근 삼성전자와 마이크론의 HBM 모두 퀄 테스트를 진행 중이라고 재확인했다.HBM 수요 대비 공급이 제한돼 있기도 하다. 2025년 HBM 수요량 추정치는 22억3000만GB인데, 같은 해 SK하이닉스와 미국 마이크론 테크놀로지(마이크론)의 출하량은 12억5000만GB에 그칠 것으로 예상되고 있다. 부족한 만큼 삼성전자에서 채워줘야 한다는 의미다.문제는 후발주자로 여겨지던 마이크론이 6세대 고대역폭메모리(HBM4) 샘플을 2025년 상반기까지 공개하겠다고 발표하는 등 갈수록 경쟁이 치열해지고 있다는 점이다. 삼성전자가 파운드리(반도체 수탁생산) 사업 등에서 추가 성과를 내야 주가도 다시 상승 동력을 얻을 것이라는 게 중론이다.증권사들은 당분간 SK하이닉스가 HBM 시장을 주도하는 상황이 이어질 것으로 보고 있다. 김광진 한화투자증권 연구원은 “시장 선두업체인 SK하이닉스 기준 D램 사업 내 HBM 매출 비중이 지난해 13%(약 2조6000억원)에서 올해 28%(약 10조8000억원), 2025년 41%(약 19조4000억원) 수준으로 증가할 것으로 추정한다”고 했다.', 'url': 'https://n.news.naver.com/mnews/article/366/0000997472?sid=101', 'origin': 'https://biz.chosun.com/stock/stock_general/2024/06/10/XQTVBTHNGFABHDQZXKSIFUMV4E/?utm_source=naver&utm_medium=original&utm_campaign=biz'}\n",
      "13236\n"
     ]
    }
   ],
   "source": [
    "print(news[0])\n",
    "print(len(news))"
   ]
  },
  {
   "cell_type": "markdown",
   "metadata": {},
   "source": [
    "## LanceDB"
   ]
  },
  {
   "cell_type": "code",
   "execution_count": 7,
   "metadata": {},
   "outputs": [],
   "source": [
    "uri = \"/workspace/008_PseudoLab/server/vectorstore\"\n",
    "db = lancedb.connect(uri)\n",
    "# async_db = await lancedb.connect_async(uri)"
   ]
  },
  {
   "cell_type": "code",
   "execution_count": 8,
   "metadata": {},
   "outputs": [],
   "source": [
    "schema = pa.schema([\n",
    "    pa.field('id', pa.string()),\n",
    "    pa.field('timestamp', pa.int64()),\n",
    "    pa.field('query', pa.string()),\n",
    "    pa.field('title', pa.string()),\n",
    "    pa.field('press', pa.string()),\n",
    "    pa.field('summary', pa.string()),\n",
    "    pa.field('content', pa.string()),\n",
    "    pa.field('url', pa.string()),\n",
    "    pa.field('origin', pa.string()),\n",
    "    pa.field(\"embedding\", pa.list_(pa.float32(), list_size=1024))\n",
    "])\n",
    "\n",
    "table = db.create_table(\"news\", schema=schema, mode=\"overwrite\")"
   ]
  },
  {
   "cell_type": "code",
   "execution_count": 9,
   "metadata": {},
   "outputs": [],
   "source": [
    "table = db.open_table('news')\n",
    "# async_tbl = async_db.open_table('news')"
   ]
  },
  {
   "cell_type": "code",
   "execution_count": 10,
   "metadata": {},
   "outputs": [
    {
     "name": "stderr",
     "output_type": "stream",
     "text": [
      "Fetching 30 files: 100%|██████████| 30/30 [00:00<00:00, 393216.00it/s]\n",
      "/usr/local/lib/python3.10/dist-packages/torch/_utils.py:831: UserWarning: TypedStorage is deprecated. It will be removed in the future and UntypedStorage will be the only storage class. This should only matter to you if you are using storages directly.  To access UntypedStorage directly, use tensor.untyped_storage() instead of tensor.storage()\n",
      "  return self.fget.__get__(instance, owner)()\n"
     ]
    }
   ],
   "source": [
    "embedding_function = BGEM3FlagModel('BAAI/bge-m3', use_fp16=False, device='cuda')"
   ]
  },
  {
   "cell_type": "code",
   "execution_count": 11,
   "metadata": {},
   "outputs": [
    {
     "name": "stderr",
     "output_type": "stream",
     "text": [
      "100%|██████████| 13236/13236 [06:37<00:00, 33.33it/s]\n"
     ]
    }
   ],
   "source": [
    "from tqdm.auto import tqdm\n",
    "\n",
    "docs = []\n",
    "\n",
    "for data in tqdm(news):\n",
    "    tmp = 'timestamp: ' + str(datetime.fromtimestamp(data['timestamp'])) + '\\n' \\\n",
    "        + 'title: ' + data['title'] + '\\n' \\\n",
    "            + 'content: ' + data['  `content']\n",
    "    embedding = embedding_function.encode(tmp, return_dense=True, return_sparse=False)\n",
    "    data['embedding'] = embedding['dense_vecs']\n",
    "    docs.append(Document(**data))\n",
    "\n",
    "docs = DocList[Document](docs)\n",
    "docs = [dict(d) for d in docs]\n",
    "table.add(docs)"
   ]
  },
  {
   "cell_type": "code",
   "execution_count": null,
   "metadata": {},
   "outputs": [],
   "source": [
    "# async_db = await lancedb.connect_async(uri)"
   ]
  },
  {
   "cell_type": "markdown",
   "metadata": {},
   "source": [
    "## LanceDB Test"
   ]
  },
  {
   "cell_type": "code",
   "execution_count": null,
   "metadata": {},
   "outputs": [],
   "source": [
    "table = db.open_table('news')\n",
    "table.count_rows()\n",
    "# async_tbl.count_rows()"
   ]
  },
  {
   "cell_type": "code",
   "execution_count": null,
   "metadata": {},
   "outputs": [],
   "source": [
    "# table.search(\"2024-06-10\").limit(10).to_list()\n",
    "table.head()"
   ]
  },
  {
   "cell_type": "code",
   "execution_count": null,
   "metadata": {},
   "outputs": [],
   "source": [
    "embedding_function = BGEM3FlagModel('BAAI/bge-m3', use_fp16=False, device='cpu')"
   ]
  },
  {
   "cell_type": "code",
   "execution_count": null,
   "metadata": {},
   "outputs": [],
   "source": [
    "from datetime import datetime\n",
    "\n",
    "query = '삼성전자의 주식과 관련된 뉴스를 알려줘'\n",
    "query = embedding_function.encode(query)['dense_vecs']\n",
    "start_time = '2024-06-08'\n",
    "start_stamp = datetime.strptime(start_time, \"%Y-%m-%d\").timestamp()\n",
    "\n",
    "end_time = '2024-06-10'\n",
    "end_stamp = datetime.strptime(end_time, \"%Y-%m-%d\").timestamp()\n",
    "print(end_stamp)\n",
    "end_stamp += 3600\n",
    "print(end_stamp)\n",
    "docs = table.search(query).where(f\"(timestamp >= {int(start_stamp)}) AND (timestamp < {int(end_stamp)})\", prefilter=True).limit(5).to_list()\n",
    "# docs = table.search(query).limit(5).to_list()\n",
    "# docs = async_tbl.search(query).limit(8).to_list()"
   ]
  },
  {
   "cell_type": "code",
   "execution_count": null,
   "metadata": {},
   "outputs": [],
   "source": [
    "end_time = '2024-06-11'\n",
    "end_stamp = datetime.strptime(end_time, \"%Y-%m-%d\").timestamp()\n",
    "print(end_stamp)"
   ]
  },
  {
   "cell_type": "code",
   "execution_count": null,
   "metadata": {},
   "outputs": [],
   "source": [
    "[(str(datetime.fromtimestamp(doc['timestamp'])), doc['title']) for doc in docs]"
   ]
  },
  {
   "cell_type": "code",
   "execution_count": null,
   "metadata": {},
   "outputs": [],
   "source": [
    "sorted([(str(datetime.fromtimestamp(doc['timestamp'])), doc['title']) for doc in docs], key=lambda x : x[0])"
   ]
  },
  {
   "cell_type": "code",
   "execution_count": null,
   "metadata": {},
   "outputs": [],
   "source": [
    "query = '최근 삼성전자의 신제품에 대해 알려줘'\n",
    "query = embedding_function.encode(query)['dense_vecs']\n",
    "docs = table.search(query).limit(5).where(f\"timestamp > {int(date)}\", prefilter=True).to_list()"
   ]
  },
  {
   "cell_type": "code",
   "execution_count": null,
   "metadata": {},
   "outputs": [],
   "source": [
    "sorted([(str(datetime.fromtimestamp(doc['timestamp'])), doc['title']) for doc in docs], key=lambda x : x[0])"
   ]
  },
  {
   "cell_type": "code",
   "execution_count": null,
   "metadata": {},
   "outputs": [],
   "source": [
    "a = \"asidhfioas\"\n",
    "\n",
    "a[:12034]"
   ]
  },
  {
   "cell_type": "code",
   "execution_count": null,
   "metadata": {},
   "outputs": [],
   "source": []
  }
 ],
 "metadata": {
  "kernelspec": {
   "display_name": "llm",
   "language": "python",
   "name": "python3"
  },
  "language_info": {
   "codemirror_mode": {
    "name": "ipython",
    "version": 3
   },
   "file_extension": ".py",
   "mimetype": "text/x-python",
   "name": "python",
   "nbconvert_exporter": "python",
   "pygments_lexer": "ipython3",
   "version": "3.10.12"
  }
 },
 "nbformat": 4,
 "nbformat_minor": 2
}
