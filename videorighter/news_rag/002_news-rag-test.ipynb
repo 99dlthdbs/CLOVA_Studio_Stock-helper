{
 "cells": [
  {
   "cell_type": "code",
   "execution_count": 4,
   "metadata": {},
   "outputs": [],
   "source": [
    "import pandas as pd\n",
    "import glob\n",
    "import os\n",
    "import json\n",
    "from pymongo import MongoClient\n",
    "from bson import ObjectId"
   ]
  },
  {
   "cell_type": "code",
   "execution_count": 5,
   "metadata": {},
   "outputs": [],
   "source": [
    "client = MongoClient()\n",
    "\n",
    "# Provide the connection details\n",
    "hostname = 'mongo.stockhelper-mongodb.store'\n",
    "# port = 22  # Default MongoDB port\n",
    "username = 'root'  # If authentication is required\n",
    "password = 'financial'  # If authentication is required\n",
    "\n",
    "# Create a MongoClient instance\n",
    "# client = MongoClient(hostname, port, username=username, password=password)\n",
    "client = MongoClient(hostname, username=username, password=password)\n",
    "db = client['financial']"
   ]
  },
  {
   "cell_type": "code",
   "execution_count": 6,
   "metadata": {},
   "outputs": [],
   "source": [
    "news = db.news.find({\"query\": \"KB금융\", \"news_date\": \"2024-06-03\"})\n",
    "news_list = list(news)"
   ]
  },
  {
   "cell_type": "code",
   "execution_count": 7,
   "metadata": {},
   "outputs": [
    {
     "data": {
      "text/plain": [
       "21618"
      ]
     },
     "execution_count": 7,
     "metadata": {},
     "output_type": "execute_result"
    }
   ],
   "source": [
    "len(news_list)"
   ]
  },
  {
   "cell_type": "code",
   "execution_count": 8,
   "metadata": {},
   "outputs": [
    {
     "data": {
      "text/plain": [
       "{'_id': ObjectId('665682e9accf225ebafb0086'),\n",
       " 'news_date': '2024-05-29',\n",
       " 'news_time': '10:16:54',\n",
       " 'query': 'SK하이닉스',\n",
       " 'title': 'SK하이닉스, 협력사와 온실가스 감축 공동 선언',\n",
       " 'press': '아시아경제',\n",
       " 'summary': '협력사 스코프 3 배출량 감축 위해 활동',\n",
       " 'content': 'SK하이닉스가 소부장(소재·부품·장비) 협력사와 손잡고 온실가스 배출을 줄이는 활동을 전개하고 세부 실천 방안을 도출, 실행력을 높이기로 했다고 29일 밝혔다.SK하이닉스는 24일 경기 성남시에 있는 두산타워에서 \\'에코얼라이언스(ECO Alliance) 워크숍\\'을 열고 온실가스 감축 공동 선언을 했다.에코얼라이언스는 2019년 SK하이닉스가 친환경 반도체 생태계 조성을 위해 협력사와 함께 만든 연합체이다. SK하이닉스와 48개 협력사가 회원사로 참여하고 있다.SK하이닉스는 이날 스코프(Scope) 전 영역에서 온실가스 발생을 줄이겠단 전략을 발표했다. 스코프 1(직접 배출) 배출량은 지구온난화지수(GWP)가 낮은 가스 개발과 공정 최적화 등을 통해 줄일 계획이다. 스코프 2(간접 배출) 배출량은 재생 에너지 조달과 에너지 사용량을 관리하며 줄인다. 스코프 3(기타 간접 배출) 배출량은 협력사와 협업해 감축할 예정이다.에어리퀴드, 솔브레인 등 28개 회원사는 재생에너지 사용, 에너지 절감 및 자원 재활용을 통한 개별 감축 목표를 발표해 선언에 동참했다. 이들 회원사의 지난해 온실가스 배출량 규모는 SK하이닉스 스코프 3(협력사 자재 공급, 제품 판매 후 처리 등 사업장 외부에서 발생하는 온실가스 배출량) 주요 원부자재 배출량의 50% 수준이다.SK하이닉스는에코얼라이언스 회원사들이 온실가스 감축 목표를 달성할 수 있도록 ESG 펀드를 운영한다. 재생에너지 정부 지원 사업 참여를 지원하고 정기 교육 및 실무·경영진 워크숍 등 여러 프로그램도 계속 진행하기로 했다.조성봉 SK하이닉스 부사장(ESG추진 담당)은 \"탄소중립 실천을 위해 반도체 업계는 공급망 전반에서 협력해나갈 것\"이라며 \"당사는 온실가스 감축 실천력을 높이기 위해 에코얼라이언스를 지속 지원하면서 산업의 지속가능성을 높이도록 노력하겠다\"고 말했다.',\n",
       " 'url': 'https://n.news.naver.com/mnews/article/277/0005424746?sid=101'}"
      ]
     },
     "execution_count": 8,
     "metadata": {},
     "output_type": "execute_result"
    }
   ],
   "source": [
    "news_list[1]"
   ]
  },
  {
   "cell_type": "code",
   "execution_count": null,
   "metadata": {},
   "outputs": [],
   "source": []
  }
 ],
 "metadata": {
  "kernelspec": {
   "display_name": "llm",
   "language": "python",
   "name": "python3"
  },
  "language_info": {
   "codemirror_mode": {
    "name": "ipython",
    "version": 3
   },
   "file_extension": ".py",
   "mimetype": "text/x-python",
   "name": "python",
   "nbconvert_exporter": "python",
   "pygments_lexer": "ipython3",
   "version": "3.10.14"
  }
 },
 "nbformat": 4,
 "nbformat_minor": 2
}
