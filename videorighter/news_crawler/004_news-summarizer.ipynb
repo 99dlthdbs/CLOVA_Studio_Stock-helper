{
 "cells": [
  {
   "cell_type": "code",
   "execution_count": 2,
   "metadata": {},
   "outputs": [
    {
     "name": "stdout",
     "output_type": "stream",
     "text": [
      "{'summary': \"삼성전자 모델이 '비스포크 AI 무풍 시스템에어컨 인피니트 라인'을 소개하고 있습니다.\\n삼성전자는 이번 수주를 시작으로 고급 빌라, 타운 하우스, 시니어 타운 등 다양한 B2B 시장에 '비스포크 AI 무풍 시스템에어컨 인피니트 라인' 공급을 지속 확대합니다.\\n비스포크 AI 콤보 △비스포크 AI 스팀 △AI 기능이 탑재된 Neo QLED 8K TV 등 AI 가전으로 아파트, 오피스텔 등 주거 공간뿐 아니라, 상업·교육시설, 전시장 등 B2B 시장 공략에 적극 나선다는 방침이다.AI 기능을 더욱 강화한 2024년형 '비스포크 AI 무풍 시스템에어컨 인피니트 라인'은 프리미엄 디자인과 고효율 냉방 성능을 보유했습니다.\"}\n"
     ]
    }
   ],
   "source": [
    "# -*- coding: utf-8 -*-\n",
    "\n",
    "import base64\n",
    "import json\n",
    "import requests\n",
    "\n",
    "\n",
    "class CompletionExecutor:\n",
    "    def __init__(self, api_key, api_key_primary_val):\n",
    "        self._api_key = api_key\n",
    "        self._api_key_primary_val = api_key_primary_val\n",
    "\n",
    "    def _send_request(self, completion_request):\n",
    "        headers = {\n",
    "            'X-NCP-APIGW-API-KEY-ID': self._api_key,\n",
    "            'X-NCP-APIGW-API-KEY': self._api_key_primary_val,\n",
    "            'Content-Type': 'application/json;UTF-8'\n",
    "        }\n",
    "        response = requests.post(url='https://naveropenapi.apigw.ntruss.com/text-summary/v1/summarize', data=json.dumps(completion_request), headers=headers)\n",
    "        result = json.loads(response.text)\n",
    "        return result\n",
    "\n",
    "    def execute(self, completion_request):\n",
    "        res = self._send_request(completion_request)\n",
    "        return res\n",
    "\n",
    "\n",
    "if __name__ == '__main__':\n",
    "    completion_executor = CompletionExecutor(\n",
    "        api_key='30bbgk55ln',\n",
    "        api_key_primary_val = 'Uvu5xmCqC0WE6gjonbz67WCRJqpMFoyr6XrkzKz7'\n",
    "    )\n",
    "\n",
    "    input_title = '비스포크 AI 에어컨 신제품, 고급 빌라 등 공급'\n",
    "\n",
    "    input_txt = \"삼성전자 모델이 '비스포크 AI 무풍 시스템에어컨 인피니트 라인'을 소개하고 있다. 삼성전자삼성전자가 인공지능(AI) 가전을 기업간거래(B2B) 시장에 공급하며 'AI 가전=삼성' 생태계 확장에 나선다.삼성전자는 지난 9일 출시한 신제품 '비스포크 AI 무풍 시스템에어컨 인피니트 라인'을 그란츠 리버파크 시행사 ㈜디에이치프라프티원에 공급하는 업무협약(MOU)을 체결했다고 14일 밝혔다.또한, 삼성전자는 '비스포크 AI 무풍 시스템에어컨 인피니트 라인'과 함께 공급하는 냉장고, 식기세척기, 인덕션, 오븐 등 빌트인 가전에도 스마트싱스 연결을 지원한다. 소비자들에게 에너지 절감은 물론, 편리하고 쾌적한 주거 환경을 제공할 계획이다.삼성전자는 이번 수주를 시작으로 고급 빌라, 타운 하우스, 시니어 타운 등 다양한 B2B 시장에 '비스포크 AI 무풍 시스템에어컨 인피니트 라인' 공급을 지속 확대한다. △비스포크 AI 콤보 △비스포크 AI 스팀 △AI 기능이 탑재된 Neo QLED 8K TV 등 AI 가전으로 아파트, 오피스텔 등 주거 공간뿐 아니라, 상업·교육시설, 전시장 등 B2B 시장 공략에 적극 나선다는 방침이다.AI 기능을 더욱 강화한 2024년형 '비스포크 AI 무풍 시스템에어컨 인피니트 라인'은 프리미엄 디자인과 고효율 냉방 성능을 보유했다. 사람의 움직임을 감지하는 레이더 센서도 탑재해 AI 기능을 강화한 것이 특징이다.'AI 부재 절전' 기능은 레이더 센서가 사람의 움직임을 감지해 사용자가 없다고 판단하면 절전 운전으로 자동 전환한다. 사용자의 부재 패턴을 학습해 점차 빠르게 절전 운전으로 전환, 불필요한 에너지 소비를 줄여준다.공간 내 활동량의 변화를 감지해 냉방 세기와 풍량을 알아서 조절하는 '동작 감지 쾌적' 기능도 제공한다. 예를 들어 운동이나 청소 등 활동량이 많을 경우에는 냉방 세기를 올려 쾌적함을 유지할 수 있도록 해준다.오치오 삼성전자 한국총괄 부사장은 \\\"이번 '비스포크 AI 무풍 시스템에어컨 인피니트 라인' 공급으로 입주민들이 삼성의 AI를 활용한 스마트하고 편리한 일상을 즐길 수 있게 됐다\\\"며 \\\"앞으로 B2B 시장에서도 삼성만의 차별화된 AI 기술을 보다 많은 소비자에게 선보이며, 'AI 가전=삼성' 공식을 B2B 시장 생태계까지 확장해 나갈 것\\\"이라고 말했다.발로 뛰는 더팩트는 24시간 여러분의 제보를 기다립니다.▶카카오톡: '더팩트제보' 검색▶이메일: jebo@tf.co.kr▶뉴스 홈페이지: http://talk.tf.co.kr/bbs/report/write\"\n",
    "\n",
    "    input_dict = {\n",
    "        \"document\": {\n",
    "            \"title\": f\"{input_title}\",\n",
    "            \"content\": f\"{input_txt}\"\n",
    "        },\n",
    "        \"option\": {\n",
    "            \"language\": \"ko\",\n",
    "            \"model\": \"news\",\n",
    "            \"tone\": 2,\n",
    "            \"summaryCount\": 3\n",
    "        }\n",
    "    }\n",
    "    # request_data = json.dumps(input_dict, ensure_ascii=False)\n",
    "\n",
    "    response_text = completion_executor.execute(input_dict)\n",
    "    # print(request_data)\n",
    "    print(response_text)\n"
   ]
  },
  {
   "cell_type": "code",
   "execution_count": 3,
   "metadata": {},
   "outputs": [
    {
     "ename": "NameError",
     "evalue": "name 'request_data' is not defined",
     "output_type": "error",
     "traceback": [
      "\u001b[0;31m---------------------------------------------------------------------------\u001b[0m",
      "\u001b[0;31mNameError\u001b[0m                                 Traceback (most recent call last)",
      "Cell \u001b[0;32mIn[3], line 1\u001b[0m\n\u001b[0;32m----> 1\u001b[0m completion_executor\u001b[38;5;241m.\u001b[39mexecute(\u001b[43mrequest_data\u001b[49m)\n",
      "\u001b[0;31mNameError\u001b[0m: name 'request_data' is not defined"
     ]
    }
   ],
   "source": [
    "completion_executor.execute(request_data)"
   ]
  },
  {
   "cell_type": "code",
   "execution_count": null,
   "metadata": {},
   "outputs": [],
   "source": []
  }
 ],
 "metadata": {
  "kernelspec": {
   "display_name": "ais",
   "language": "python",
   "name": "python3"
  },
  "language_info": {
   "codemirror_mode": {
    "name": "ipython",
    "version": 3
   },
   "file_extension": ".py",
   "mimetype": "text/x-python",
   "name": "python",
   "nbconvert_exporter": "python",
   "pygments_lexer": "ipython3",
   "version": "3.9.18"
  }
 },
 "nbformat": 4,
 "nbformat_minor": 2
}
