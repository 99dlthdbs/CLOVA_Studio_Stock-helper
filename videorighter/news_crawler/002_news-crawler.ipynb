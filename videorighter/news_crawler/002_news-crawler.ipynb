{
 "cells": [
  {
   "cell_type": "code",
   "execution_count": 8,
   "metadata": {},
   "outputs": [],
   "source": [
    "# requests 패키지 가져오기\n",
    "import requests               \n",
    "\n",
    "# 가져올 url 문자열로 입력\n",
    "url = 'https://s.search.naver.com/p/newssearch/search.naver?cluster_rank=21&de=&ds=&eid=&field=0&force_original=&is_dts=0&is_sug_officeid=0&mynews=0&news_office_checked=&nlu_query=&nqx_theme=%7B%22theme%22%3A%7B%22main%22%3A%7B%22name%22%3A%22corporation_hq%22%7D%2C%22sub%22%3A%5B%7B%22name%22%3A%22issue%22%7D%2C%7B%22name%22%3A%22stock%22%7D%5D%7D%7D&nso=%26nso%3Dso%3Ar%2Cp%3Aall%2Ca%3Aall&nx_and_query=&nx_search_hlquery=&nx_search_query=&nx_sub_query=&office_category=0&office_section_code=0&office_type=0&pd=0&photo=0&query=%EC%82%BC%EC%84%B1%EC%A0%84%EC%9E%90&query_original=&service_area=0&sort=0&spq=3&start=11&where=news_tab_api&nso=so:r,p:all,a:all&_callback=jQuery112408456272071334743_1715072069307&_=1715072069308'"
   ]
  },
  {
   "cell_type": "code",
   "execution_count": 10,
   "metadata": {},
   "outputs": [
    {
     "data": {
      "text/plain": [
       "{'cluster_rank': ['21'],\n",
       " 'field': ['0'],\n",
       " 'is_dts': ['0'],\n",
       " 'is_sug_officeid': ['0'],\n",
       " 'mynews': ['0'],\n",
       " 'nqx_theme': ['{\"theme\":{\"main\":{\"name\":\"corporation_hq\"},\"sub\":[{\"name\":\"issue\"},{\"name\":\"stock\"}]}}'],\n",
       " 'nso': ['&nso=so:r,p:all,a:all', 'so:r,p:all,a:all'],\n",
       " 'office_category': ['0'],\n",
       " 'office_section_code': ['0'],\n",
       " 'office_type': ['0'],\n",
       " 'pd': ['0'],\n",
       " 'photo': ['0'],\n",
       " 'query': ['삼성전자'],\n",
       " 'service_area': ['0'],\n",
       " 'sort': ['0'],\n",
       " 'spq': ['3'],\n",
       " 'start': ['11'],\n",
       " 'where': ['news_tab_api'],\n",
       " '_callback': ['jQuery112408456272071334743_1715072069307'],\n",
       " '_': ['1715072069308']}"
      ]
     },
     "execution_count": 10,
     "metadata": {},
     "output_type": "execute_result"
    }
   ],
   "source": [
    "from urllib.parse import urlparse, parse_qs, parse_qsl, urlencode, urlunparse\n",
    "\n",
    "parts = urlparse(url)\n",
    "\n",
    "parse_qs(parts.query) # {'sort': ['name'], 'keyword': ['planb']}\n",
    "# print(parse_qsl(parts.query)) # [('sort', 'name'), ('keyword', 'planb')]"
   ]
  },
  {
   "cell_type": "code",
   "execution_count": 11,
   "metadata": {},
   "outputs": [],
   "source": [
    "parts = urlparse(url)"
   ]
  },
  {
   "cell_type": "code",
   "execution_count": 12,
   "metadata": {},
   "outputs": [
    {
     "name": "stdout",
     "output_type": "stream",
     "text": [
      "https\n",
      "s.search.naver.com\n",
      "/p/newssearch/search.naver\n",
      "\n",
      "cluster_rank=21&de=&ds=&eid=&field=0&force_original=&is_dts=0&is_sug_officeid=0&mynews=0&news_office_checked=&nlu_query=&nqx_theme=%7B%22theme%22%3A%7B%22main%22%3A%7B%22name%22%3A%22corporation_hq%22%7D%2C%22sub%22%3A%5B%7B%22name%22%3A%22issue%22%7D%2C%7B%22name%22%3A%22stock%22%7D%5D%7D%7D&nso=%26nso%3Dso%3Ar%2Cp%3Aall%2Ca%3Aall&nx_and_query=&nx_search_hlquery=&nx_search_query=&nx_sub_query=&office_category=0&office_section_code=0&office_type=0&pd=0&photo=0&query=%EC%82%BC%EC%84%B1%EC%A0%84%EC%9E%90&query_original=&service_area=0&sort=0&spq=3&start=11&where=news_tab_api&nso=so:r,p:all,a:all&_callback=jQuery112408456272071334743_1715072069307&_=1715072069308\n",
      "\n",
      "ParseResult(scheme='https', netloc='s.search.naver.com', path='/p/newssearch/search.naver', params='', query='cluster_rank=21&de=&ds=&eid=&field=0&force_original=&is_dts=0&is_sug_officeid=0&mynews=0&news_office_checked=&nlu_query=&nqx_theme=%7B%22theme%22%3A%7B%22main%22%3A%7B%22name%22%3A%22corporation_hq%22%7D%2C%22sub%22%3A%5B%7B%22name%22%3A%22issue%22%7D%2C%7B%22name%22%3A%22stock%22%7D%5D%7D%7D&nso=%26nso%3Dso%3Ar%2Cp%3Aall%2Ca%3Aall&nx_and_query=&nx_search_hlquery=&nx_search_query=&nx_sub_query=&office_category=0&office_section_code=0&office_type=0&pd=0&photo=0&query=%EC%82%BC%EC%84%B1%EC%A0%84%EC%9E%90&query_original=&service_area=0&sort=0&spq=3&start=11&where=news_tab_api&nso=so:r,p:all,a:all&_callback=jQuery112408456272071334743_1715072069307&_=1715072069308', fragment='')\n"
     ]
    }
   ],
   "source": [
    "print(parts.scheme)\n",
    "print(parts.netloc)\n",
    "print(parts.path) \n",
    "print(parts.params) \n",
    "print(parts.query)\n",
    "print(parts.fragment)\n",
    "print(parts)"
   ]
  },
  {
   "cell_type": "code",
   "execution_count": 15,
   "metadata": {},
   "outputs": [],
   "source": [
    "parts = urlparse(url)\n",
    "qs = dict(parse_qsl(parts.query))\n",
    "qs['sort'] = \"1\"\n",
    "qs['start'] = \"1\"\n",
    "parts = parts._replace(query=urlencode(qs, doseq=True))\n",
    "new_url = urlunparse(parts)"
   ]
  },
  {
   "cell_type": "code",
   "execution_count": 16,
   "metadata": {},
   "outputs": [
    {
     "data": {
      "text/plain": [
       "{'cluster_rank': ['21'],\n",
       " 'field': ['0'],\n",
       " 'is_dts': ['0'],\n",
       " 'is_sug_officeid': ['0'],\n",
       " 'mynews': ['0'],\n",
       " 'nqx_theme': ['{\"theme\":{\"main\":{\"name\":\"corporation_hq\"},\"sub\":[{\"name\":\"issue\"},{\"name\":\"stock\"}]}}'],\n",
       " 'nso': ['so:r,p:all,a:all'],\n",
       " 'office_category': ['0'],\n",
       " 'office_section_code': ['0'],\n",
       " 'office_type': ['0'],\n",
       " 'pd': ['0'],\n",
       " 'photo': ['0'],\n",
       " 'query': ['삼성전자'],\n",
       " 'service_area': ['0'],\n",
       " 'sort': ['1'],\n",
       " 'spq': ['3'],\n",
       " 'start': ['1'],\n",
       " 'where': ['news_tab_api'],\n",
       " '_callback': ['jQuery112408456272071334743_1715072069307'],\n",
       " '_': ['1715072069308']}"
      ]
     },
     "execution_count": 16,
     "metadata": {},
     "output_type": "execute_result"
    }
   ],
   "source": [
    "parts = urlparse(new_url)\n",
    "parse_qs(parts.query)"
   ]
  },
  {
   "cell_type": "code",
   "execution_count": 17,
   "metadata": {},
   "outputs": [
    {
     "name": "stdout",
     "output_type": "stream",
     "text": [
      "https://n.news.naver.com/mnews/article/029/0002872295?sid=102\n",
      "https://n.news.naver.com/mnews/article/079/0003892876?sid=100\n",
      "https://n.news.naver.com/mnews/article/018/0005733175?sid=101\n",
      "https://n.news.naver.com/mnews/article/018/0005733174?sid=101\n",
      "https://n.news.naver.com/mnews/article/015/0004981493?sid=101\n",
      "https://n.news.naver.com/mnews/article/015/0004981490?sid=101\n",
      "https://n.news.naver.com/mnews/article/009/0005299769?sid=101\n",
      "https://n.news.naver.com/mnews/article/029/0002872281?sid=100\n"
     ]
    }
   ],
   "source": [
    "from bs4 import BeautifulSoup as bs\n",
    "import re\n",
    "\n",
    "headers = {\n",
    "    \"User-Agent\": generate_user_agent(os='win',device_type='desktop')\n",
    "    \"User-Agent\": \"Mozilla/5.0 (Windows NT 10.0; Win64; x64) AppleWebKit/537.36 (KHTML, like Gecko) Chrome/124.0.0.0 Safari/537.36\"\n",
    "}\n",
    "response = requests.get(new_url)\n",
    "soup = bs(response.content, 'html.parser')\n",
    "naver_news_links = [a['href'] for a in soup.find_all('a', string='네이버뉴스') if a['href']]\n",
    "for link in naver_news_links:\n",
    "    print(link[2:-2])"
   ]
  },
  {
   "cell_type": "code",
   "execution_count": null,
   "metadata": {},
   "outputs": [],
   "source": []
  }
 ],
 "metadata": {
  "kernelspec": {
   "display_name": "ais",
   "language": "python",
   "name": "python3"
  },
  "language_info": {
   "codemirror_mode": {
    "name": "ipython",
    "version": 3
   },
   "file_extension": ".py",
   "mimetype": "text/x-python",
   "name": "python",
   "nbconvert_exporter": "python",
   "pygments_lexer": "ipython3",
   "version": "3.9.18"
  }
 },
 "nbformat": 4,
 "nbformat_minor": 2
}
