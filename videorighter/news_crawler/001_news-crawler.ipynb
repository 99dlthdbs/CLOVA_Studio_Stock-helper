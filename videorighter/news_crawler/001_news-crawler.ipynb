{
 "cells": [
  {
   "cell_type": "code",
   "execution_count": 15,
   "metadata": {},
   "outputs": [
    {
     "name": "stdout",
     "output_type": "stream",
     "text": [
      "10\n",
      "<li class=\"bx\" id=\"sp_nws1\"> <div class=\"news_wrap api_ani_send\"> <div class=\"news_area\"> <div class=\"news_info\"> <div class=\"api_save_group _keep_wrap\"> <a aria-pressed=\"false\" class=\"btn_save _keep_trigger\" data-url=\"https://www.chosun.com/international/us/2024/04/15/PRNCZ7JZR5BMDNK2OU5VEAPHEM/?utm_source=naver&amp;utm_medium=referral&amp;utm_campaign=naver-news\" href=\"#\" onclick=\"tCR('a=nws*h.kep&amp;r=1&amp;i=880000ED_000000000000000003828456&amp;u=javascript'); return false;\" role=\"button\"><i class=\"spnew ico_save\">문서 저장하기</i></a> <div class=\"api_ly_save _keep_save_layer\"> <a class=\"spnew_af item item_save _keep_save\" data-cr-off=\"a=nws*h.kepoff&amp;r=1&amp;i=880000ED_000000000000000003828456&amp;u=javascript\" data-cr-on=\"a=nws*h.kepon&amp;r=1&amp;i=880000ED_000000000000000003828456&amp;u=javascript\" href=\"#\" role=\"button\">Keep에 저장</a> <a class=\"spnew_af item item_quick\" href=\"https://keep.naver.com/\" onclick=\"return goOtherCR(this,'a=nws*h.kephome&amp;r=1&amp;i=880000ED_000000000000000003828456&amp;u='+urlencode(this.href));\" target=\"_blank\">Keep 바로가기</a> </div></div><div class=\"info_group\"> <a class=\"info press\" href=\"http://www.chosun.com/\" onclick=\"return goOtherCR(this, 'a=nws*h.prof&amp;r=1&amp;i=880000ED_000000000000000003828456&amp;g=023.0003828456&amp;u='+urlencode(this.href));\" target=\"_blank\"><span class=\"thumb_box\"><img alt=\"\" class=\"thumb\" data-lazysrc=\"https://search.pstatic.net/common/?src=https%3A%2F%2Fmimgnews.pstatic.net%2Fimage%2Fupload%2Foffice_logo%2F023%2F2020%2F04%2F29%2Flogo_023_18_20200429140229.png&amp;type=f54_54&amp;expire=24&amp;refresh=true\" height=\"24\" onerror=\"this.src='data:image/gif;base64,R0lGODlhAQABAIAAAAAAAP///yH5BAEAAAAALAAAAAABAAEAAAIBRAA7';this.className='thumb bg_default_press'\" src=\"data:image/gif;base64,R0lGODlhAQABAIAAAAAAAP///yH5BAEAAAAALAAAAAABAAEAAAIBRAA7\" width=\"24\"/></span>조선일보<i class=\"spnew ico_pick\">언론사 선정</i></a><span class=\"info\">5시간 전</span><a class=\"info\" href=\"https://n.news.naver.com/mnews/article/023/0003828456?sid=104\" onclick=\"return goOtherCR(this, 'a=nws*h.nav&amp;r=1&amp;i=880000ED_000000000000000003828456&amp;u='+urlencode(this.href));\" target=\"_blank\">네이버뉴스</a> </div></div><div class=\"news_contents\"> <a class=\"dsc_thumb\" href=\"https://www.chosun.com/international/us/2024/04/15/PRNCZ7JZR5BMDNK2OU5VEAPHEM/?utm_source=naver&amp;utm_medium=referral&amp;utm_campaign=naver-news\" onclick=\"return goOtherCR(this, 'a=nws*h.img&amp;r=1&amp;i=880000ED_000000000000000003828456&amp;g=023.0003828456&amp;u='+urlencode(this.href));\" target=\"_blank\"><img alt=\"美, 삼성전자에 반도체\" class=\"thumb\" data-lazysrc=\"https://search.pstatic.net/common/?src=https%3A%2F%2Fimgnews.pstatic.net%2Fimage%2Forigin%2F023%2F2024%2F04%2F15%2F3828456.jpg&amp;type=f200_200&amp;expire=2&amp;refresh=true\" height=\"104\" onerror=\"this.parentNode.style.display='none';\" src=\"data:image/gif;base64,R0lGODlhAQABAIAAAAAAAP///yH5BAEAAAAALAAAAAABAAEAAAIBRAA7\" width=\"104\"/></a> <a class=\"news_tit\" href=\"https://www.chosun.com/international/us/2024/04/15/PRNCZ7JZR5BMDNK2OU5VEAPHEM/?utm_source=naver&amp;utm_medium=referral&amp;utm_campaign=naver-news\" onclick=\"return goOtherCR(this, 'a=nws*h.tit&amp;r=1&amp;i=880000ED_000000000000000003828456&amp;g=023.0003828456&amp;u='+urlencode(this.href));\" target=\"_blank\" title=\"美, 삼성전자에 반도체 보조금 64억달러 파격 지원\">美, <mark>삼성전자</mark>에 반도체 보조금 64억달러 파격 지원</a> <div class=\"news_dsc\"> <div class=\"dsc_wrap\"> <a class=\"api_txt_lines dsc_txt_wrap\" href=\"https://www.chosun.com/international/us/2024/04/15/PRNCZ7JZR5BMDNK2OU5VEAPHEM/?utm_source=naver&amp;utm_medium=referral&amp;utm_campaign=naver-news\" onclick=\"return goOtherCR(this, 'a=nws*h.body&amp;r=1&amp;i=880000ED_000000000000000003828456&amp;g=023.0003828456&amp;u='+urlencode(this.href));\" target=\"_blank\">초기 예상액 20억 달러의 세 배로 증가 <mark>삼성</mark> 400억 달러 투자, 첨단 반도체 미 본토 생산 합의 조 바이든 미국 행정부는 <mark>삼성전자</mark>에 64억 달러(약 8조 8640억원)의 반도체 공장 설립 보조금을 지원한다고 15일 발표했다. 이는 당초 예상됐던 20억~30억 달러보다 세 배 가까운 수준으로 증가한 규모다. 앞서 대만의...</a> </div></div></div></div></div><div class=\"news_cluster\"> <ul class=\"list_cluster\"> <li class=\"sub_bx\"> <a class=\"elss sub_tit\" href=\"https://imnews.imbc.com/replay/2024/nwdesk/article/6589545_36515.html\" onclick=\"return goOtherCR(this, 'a=nws*i.tit&amp;r=2&amp;i=88000119_000000000000000001342800&amp;g=214.0001342800&amp;u='+urlencode(this.href));\" target=\"_blank\" title=\"미국, 삼성전자에 반도체 보조금 8조 9천억 지원\">미국, <mark>삼성전자</mark>에 반도체 보조금 8조 9천억 지원</a> <div class=\"sub_area\"> <cite class=\"sub_txt press\" title=\"MBC\">MBC<i class=\"spnew ico_pick\">언론사 선정</i></cite><span class=\"sub_txt\">3시간 전</span><a class=\"sub_txt\" href=\"https://n.news.naver.com/mnews/article/214/0001342800?sid=104\" onclick=\"return goOtherCR(this, 'a=nws*i.nav&amp;r=2&amp;i=88000119_000000000000000001342800&amp;u='+urlencode(this.href));\" target=\"_blank\">네이버뉴스</a> </div></li> <li class=\"sub_bx\"> <a class=\"elss sub_tit\" href=\"http://www.segye.com/newsView/20240415527558?OutUrl=naver\" onclick=\"return goOtherCR(this, 'a=nws*i.tit&amp;r=3&amp;i=880000D2_000000000000000003924388&amp;g=022.0003924388&amp;u='+urlencode(this.href));\" target=\"_blank\" title=\"美, 삼성에 보조금 8.8조원 파격 지원\">美, <mark>삼성</mark>에 보조금 8.8조원 파격 지원</a> <div class=\"sub_area\"> <cite class=\"sub_txt press\" title=\"세계일보\">세계일보<i class=\"spnew ico_pick\">언론사 선정</i></cite><span class=\"sub_txt\">4시간 전</span><a class=\"sub_txt\" href=\"https://n.news.naver.com/mnews/article/022/0003924388?sid=101\" onclick=\"return goOtherCR(this, 'a=nws*i.nav&amp;r=3&amp;i=880000D2_000000000000000003924388&amp;u='+urlencode(this.href));\" target=\"_blank\">네이버뉴스</a> </div></li> <li class=\"sub_bx\"> <a class=\"elss sub_tit\" href=\"https://news.kbs.co.kr/news/pc/view/view.do?ncd=7939878&amp;ref=A\" onclick=\"return goOtherCR(this, 'a=nws*i.tit&amp;r=4&amp;i=88000114_000000000000000011701882&amp;g=056.0011701882&amp;u='+urlencode(this.href));\" target=\"_blank\" title=\"미 정부, 삼성전자에 64억 달러 지원…삼성도 450억 달러 대미 투자\">미 정부, <mark>삼성전자</mark>에 64억 달러 지원…<mark>삼성</mark>도 450억 달러 대미 투자</a> <div class=\"sub_area\"> <cite class=\"sub_txt press\" title=\"KBS\">KBS<i class=\"spnew ico_pick\">언론사 선정</i></cite><span class=\"sub_txt\">5시간 전</span><a class=\"sub_txt\" href=\"https://n.news.naver.com/mnews/article/056/0011701882?sid=104\" onclick=\"return goOtherCR(this, 'a=nws*i.nav&amp;r=4&amp;i=88000114_000000000000000011701882&amp;u='+urlencode(this.href));\" target=\"_blank\">네이버뉴스</a> </div></li> <li class=\"sub_bx\"> <a class=\"elss sub_tit\" href=\"https://economist.co.kr/article/view/ecn202404150043\" onclick=\"return goOtherCR(this, 'a=nws*i.tit&amp;r=5&amp;i=880002EC_000000000000000000058549&amp;g=243.0000058549&amp;u='+urlencode(this.href));\" target=\"_blank\" title=\"삼성전자, 美서 반도체 보조금 9조원 받는다…역대 3번째 규모\"><mark>삼성전자</mark>, 美서 반도체 보조금 9조원 받는다…역대 3번째 규모</a> <div class=\"sub_area\"> <cite class=\"sub_txt press\" title=\"이코노미스트\">이코노미스트<i class=\"spnew ico_pick\">언론사 선정</i></cite><span class=\"sub_txt\">5시간 전</span><a class=\"sub_txt\" href=\"https://n.news.naver.com/mnews/article/243/0000058549?sid=101\" onclick=\"return goOtherCR(this, 'a=nws*i.nav&amp;r=5&amp;i=880002EC_000000000000000000058549&amp;u='+urlencode(this.href));\" target=\"_blank\">네이버뉴스</a> </div></li> </ul></div><a class=\"news_more\" href=\"?where=news&amp;sm=tab_tnw&amp;query=%EC%82%BC%EC%84%B1%EC%A0%84%EC%9E%90&amp;sort=0&amp;photo=0&amp;field=0&amp;pd=0&amp;ds=&amp;de=&amp;mynews=0&amp;office_type=0&amp;office_section_code=0&amp;news_office_checked=&amp;related=1&amp;docid=0230003828456&amp;nso=so:r,p:all,a:all\" onclick=\"return goOtherCR(this, 'a=nws*r.more&amp;u='+urlencode(urlexpand(this.href)));\">관련뉴스 16건 전체보기</a> </li>\n"
     ]
    },
    {
     "ename": "IndexError",
     "evalue": "list index out of range",
     "output_type": "error",
     "traceback": [
      "\u001b[0;31m---------------------------------------------------------------------------\u001b[0m",
      "\u001b[0;31mIndexError\u001b[0m                                Traceback (most recent call last)",
      "Cell \u001b[0;32mIn[15], line 39\u001b[0m\n\u001b[1;32m     37\u001b[0m \u001b[38;5;28mprint\u001b[39m(\u001b[38;5;28mlen\u001b[39m(html_select))\n\u001b[1;32m     38\u001b[0m \u001b[38;5;28mprint\u001b[39m(html_select[\u001b[38;5;241m0\u001b[39m])\n\u001b[0;32m---> 39\u001b[0m totalCount \u001b[38;5;241m=\u001b[39m \u001b[43mhtml_select\u001b[49m\u001b[43m[\u001b[49m\u001b[38;5;241;43m0\u001b[39;49m\u001b[43m]\u001b[49m\u001b[38;5;241;43m.\u001b[39;49m\u001b[43mtext\u001b[49m\u001b[38;5;241;43m.\u001b[39;49m\u001b[43msplit\u001b[49m\u001b[43m(\u001b[49m\u001b[38;5;124;43m'\u001b[39;49m\u001b[38;5;124;43m / \u001b[39;49m\u001b[38;5;124;43m'\u001b[39;49m\u001b[43m)\u001b[49m\u001b[43m[\u001b[49m\u001b[38;5;241;43m1\u001b[39;49m\u001b[43m]\u001b[49m[:\u001b[38;5;241m-\u001b[39m\u001b[38;5;241m1\u001b[39m]\n\u001b[1;32m     41\u001b[0m \u001b[38;5;28;01mfor\u001b[39;00m i \u001b[38;5;129;01min\u001b[39;00m \u001b[38;5;28mrange\u001b[39m(\u001b[38;5;241m0\u001b[39m, math\u001b[38;5;241m.\u001b[39mfloor(\u001b[38;5;28mint\u001b[39m(totalCount)\u001b[38;5;241m/\u001b[39m\u001b[38;5;241m10\u001b[39m)\u001b[38;5;241m+\u001b[39m\u001b[38;5;241m1\u001b[39m):\n\u001b[1;32m     42\u001b[0m     \u001b[38;5;28;01mif\u001b[39;00m i \u001b[38;5;241m==\u001b[39m \u001b[38;5;241m0\u001b[39m:\n",
      "\u001b[0;31mIndexError\u001b[0m: list index out of range"
     ]
    }
   ],
   "source": [
    "import requests\n",
    "from bs4 import BeautifulSoup\n",
    "import math\n",
    "import pandas\n",
    "import re\n",
    "\n",
    "\n",
    "resultList = []\n",
    "\n",
    "url = \"https://search.naver.com/search.naver?\"\n",
    "\n",
    "params = {\n",
    "    \"where\": 'news',\n",
    "\n",
    "    # 네이버 기사 검색 값\n",
    "    \"query\": '삼성전자',\n",
    "\n",
    "    # 페이지네이션 값\n",
    "    \"start\": 0,\n",
    "\n",
    "    # \"nso\": 'so:r,p:1y,a:all'\n",
    "}\n",
    "# nso: so: r, p: 1y, a: all -> 최근 1년\n",
    "# nso: so: r, p: 6m, a: all -> 최근 6개월\n",
    "# nso: so: r, p: 1d, a: all -> 1일\n",
    "# 없으면 전체 검색\n",
    "\n",
    "header = {'User-Agent': 'Mozilla/5.0 (Windows NT 10.0; Win64; x64) AppleWebKit/537.36 (KHTML, like Gecko) Chrome/123.0.0.0 Safari/537.36'}\n",
    "raw = requests.get(url, headers=header, params=params)\n",
    "html = BeautifulSoup(raw.text, \"html.parser\")\n",
    "\n",
    "# 검색결과 html body\n",
    "articles = html.select(\"ul.type01 > li\")\n",
    "\n",
    "# 전체 기사 수\n",
    "html_select = html.select(\"#main_pack > section.sc_new.sp_nnews._fe_news_collection._prs_nws > div.api_subject_bx > div.group_news > ul > li\")\n",
    "totalCount = for html_select[0].text.split(' / ')[1][:-1]\n",
    "\n",
    "for i in range(0, math.floor(int(totalCount)/10)+1):\n",
    "    if i == 0:\n",
    "        params['start'] = i\n",
    "    else: \n",
    "        params['start'] = i * 10 + 1\n",
    "\n",
    "    raw = requests.get(url, headers={'User-Agent': 'Mozilla/5.0'}, params=params)\n",
    "    html = BeautifulSoup(raw.text, \"html.parser\")\n",
    "    articles = html.select(\"ul.type01 > li\")\n",
    "\n",
    "    for ar in articles:\n",
    "        # 제목 값\n",
    "        title = ar.select_one(\"a._sp_each_title\").text\n",
    "\n",
    "        # 검색된 기사의 url을 가져와서 다시 html을 get\n",
    "        articleUrl = ar.find(\"a\")[\"href\"]\n",
    "        innerRaw = requests.get(articleUrl, headers={'User-Agent': 'Mozilla/5.0'})\n",
    "\n",
    "        # 가져온 기사 html중 '기사', '@' string을 모두 가져온다\n",
    "        innerHtml = BeautifulSoup(innerRaw.text, \"html.parser\")\n",
    "        reporter = innerArticles = innerHtml(text=re.compile(\"기자\"))\n",
    "        reporterEmail = innerArticles = innerHtml(text=re.compile(\"@\"))\n",
    "\n",
    "        # 언론사 값\n",
    "        source = ar.select_one(\"span._sp_each_source\").text\n",
    "\n",
    "        # 등록일 값\n",
    "        date = ar.select_one(\"dd.txt_inline\").text.split(\"  \")[1]\n",
    "\n",
    "        res = {\"title\": title, \"company\": source,\n",
    "               \"url\": articleUrl, \"date\": date, \"reporter\": reporter, \"reporterEmail\": reporterEmail}\n",
    "        resultList.append(res)\n",
    "\n",
    "# 검색된 기사 갯수\n",
    "resultList.append({\"totalCount\": totalCount})\n",
    "\n",
    "df = pandas.DataFrame(resultList)\n",
    "\n",
    "df.to_csv('blockChain_articles.csv')\n",
    "df.to_excel('blockChain_articles.xlsx')"
   ]
  },
  {
   "cell_type": "code",
   "execution_count": null,
   "metadata": {},
   "outputs": [],
   "source": []
  }
 ],
 "metadata": {
  "kernelspec": {
   "display_name": "bert",
   "language": "python",
   "name": "python3"
  },
  "language_info": {
   "codemirror_mode": {
    "name": "ipython",
    "version": 3
   },
   "file_extension": ".py",
   "mimetype": "text/x-python",
   "name": "python",
   "nbconvert_exporter": "python",
   "pygments_lexer": "ipython3",
   "version": "3.9.18"
  }
 },
 "nbformat": 4,
 "nbformat_minor": 2
}
