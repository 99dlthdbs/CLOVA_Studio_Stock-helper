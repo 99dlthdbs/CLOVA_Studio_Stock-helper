{
 "cells": [
  {
   "cell_type": "code",
   "execution_count": 6,
   "metadata": {},
   "outputs": [
    {
     "name": "stdout",
     "output_type": "stream",
     "text": [
      "[]\n"
     ]
    },
    {
     "ename": "IndexError",
     "evalue": "list index out of range",
     "output_type": "error",
     "traceback": [
      "\u001b[0;31m---------------------------------------------------------------------------\u001b[0m",
      "\u001b[0;31mIndexError\u001b[0m                                Traceback (most recent call last)",
      "Cell \u001b[0;32mIn[6], line 39\u001b[0m\n\u001b[1;32m     37\u001b[0m html_select \u001b[38;5;241m=\u001b[39m html\u001b[38;5;241m.\u001b[39mselect(\u001b[38;5;124m\"\u001b[39m\u001b[38;5;124mdiv.section_head > div.title_desc > span\u001b[39m\u001b[38;5;124m\"\u001b[39m)\n\u001b[1;32m     38\u001b[0m \u001b[38;5;28mprint\u001b[39m(html_select)\n\u001b[0;32m---> 39\u001b[0m totalCount \u001b[38;5;241m=\u001b[39m \u001b[43mhtml_select\u001b[49m\u001b[43m[\u001b[49m\u001b[38;5;241;43m0\u001b[39;49m\u001b[43m]\u001b[49m\u001b[38;5;241m.\u001b[39mtext\u001b[38;5;241m.\u001b[39msplit(\u001b[38;5;124m'\u001b[39m\u001b[38;5;124m / \u001b[39m\u001b[38;5;124m'\u001b[39m)[\u001b[38;5;241m1\u001b[39m][:\u001b[38;5;241m-\u001b[39m\u001b[38;5;241m1\u001b[39m]\n\u001b[1;32m     41\u001b[0m \u001b[38;5;28;01mfor\u001b[39;00m i \u001b[38;5;129;01min\u001b[39;00m \u001b[38;5;28mrange\u001b[39m(\u001b[38;5;241m0\u001b[39m, math\u001b[38;5;241m.\u001b[39mfloor(\u001b[38;5;28mint\u001b[39m(totalCount)\u001b[38;5;241m/\u001b[39m\u001b[38;5;241m10\u001b[39m)\u001b[38;5;241m+\u001b[39m\u001b[38;5;241m1\u001b[39m):\n\u001b[1;32m     42\u001b[0m     \u001b[38;5;28;01mif\u001b[39;00m i \u001b[38;5;241m==\u001b[39m \u001b[38;5;241m0\u001b[39m:\n",
      "\u001b[0;31mIndexError\u001b[0m: list index out of range"
     ]
    }
   ],
   "source": [
    "import requests\n",
    "from bs4 import BeautifulSoup\n",
    "import math\n",
    "import pandas\n",
    "import re\n",
    "\n",
    "\n",
    "resultList = []\n",
    "\n",
    "url = \"https://search.naver.com/search.naver?\"\n",
    "\n",
    "params = {\n",
    "    \"where\": 'news',\n",
    "\n",
    "    # 네이버 기사 검색 값\n",
    "    \"query\": '매틱 네트워크 스테이킹',\n",
    "\n",
    "    # 페이지네이션 값\n",
    "    \"start\": 0,\n",
    "\n",
    "    # \"nso\": 'so:r,p:1y,a:all'\n",
    "}\n",
    "\n",
    "# nso: so: r, p: 1y, a: all -> 최근 1년\n",
    "# nso: so: r, p: 6m, a: all -> 최근 6개월\n",
    "# nso: so: r, p: 1d, a: all -> 1일\n",
    "# 없으면 전체 검색\n",
    "\n",
    "# headers={'User-Agent': 'Mozilla/5.0'} -> 안티 크롤링 회피\n",
    "raw = requests.get(url, headers={'User-Agent': 'Mozilla/5.0'}, params=params)\n",
    "html = BeautifulSoup(raw.text, \"html.parser\")\n",
    "\n",
    "# 검색결과 html body\n",
    "articles = html.select(\"ul.type01 > li\")\n",
    "\n",
    "# 전체 기사 수\n",
    "html_select = html.select(\"div.section_head > div.title_desc > span\")\n",
    "print(html_select)\n",
    "totalCount = html_select[0].text.split(' / ')[1][:-1]\n",
    "\n",
    "for i in range(0, math.floor(int(totalCount)/10)+1):\n",
    "    if i == 0:\n",
    "        params['start'] = i\n",
    "    else:\n",
    "        params['start'] = i * 10 + 1\n",
    "\n",
    "    raw = requests.get(url, headers={'User-Agent': 'Mozilla/5.0'}, params=params)\n",
    "    html = BeautifulSoup(raw.text, \"html.parser\")\n",
    "    articles = html.select(\"ul.type01 > li\")\n",
    "\n",
    "    for ar in articles:\n",
    "        # 제목 값\n",
    "        title = ar.select_one(\"a._sp_each_title\").text\n",
    "\n",
    "        # 검색된 기사의 url을 가져와서 다시 html을 get\n",
    "        articleUrl = ar.find(\"a\")[\"href\"]\n",
    "        innerRaw = requests.get(articleUrl, headers={'User-Agent': 'Mozilla/5.0'})\n",
    "\n",
    "        # 가져온 기사 html중 '기사', '@' string을 모두 가져온다\n",
    "        innerHtml = BeautifulSoup(innerRaw.text, \"html.parser\")\n",
    "        reporter = innerArticles = innerHtml(text=re.compile(\"기자\"))\n",
    "        reporterEmail = innerArticles = innerHtml(text=re.compile(\"@\"))\n",
    "\n",
    "        # 언론사 값\n",
    "        source = ar.select_one(\"span._sp_each_source\").text\n",
    "\n",
    "        # 등록일 값\n",
    "        date = ar.select_one(\"dd.txt_inline\").text.split(\"  \")[1]\n",
    "\n",
    "        res = {\"title\": title, \"company\": source,\n",
    "               \"url\": articleUrl, \"date\": date, \"reporter\": reporter, \"reporterEmail\": reporterEmail}\n",
    "        resultList.append(res)\n",
    "\n",
    "# 검색된 기사 갯수\n",
    "resultList.append({\"totalCount\": totalCount})\n",
    "\n",
    "df = pandas.DataFrame(resultList)\n",
    "\n",
    "df.to_csv('blockChain_articles.csv')\n",
    "df.to_excel('blockChain_articles.xlsx')"
   ]
  },
  {
   "cell_type": "code",
   "execution_count": null,
   "metadata": {},
   "outputs": [],
   "source": []
  }
 ],
 "metadata": {
  "kernelspec": {
   "display_name": "bert",
   "language": "python",
   "name": "python3"
  },
  "language_info": {
   "codemirror_mode": {
    "name": "ipython",
    "version": 3
   },
   "file_extension": ".py",
   "mimetype": "text/x-python",
   "name": "python",
   "nbconvert_exporter": "python",
   "pygments_lexer": "ipython3",
   "version": "3.9.18"
  }
 },
 "nbformat": 4,
 "nbformat_minor": 2
}
