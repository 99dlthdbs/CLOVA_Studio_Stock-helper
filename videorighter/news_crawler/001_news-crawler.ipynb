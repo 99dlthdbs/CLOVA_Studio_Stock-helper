{
 "cells": [
  {
   "cell_type": "code",
   "execution_count": 1,
   "metadata": {},
   "outputs": [
    {
     "name": "stdout",
     "output_type": "stream",
     "text": [
      "URL: https://search.naver.com/search.naver?where=news&query=%EC%82%BC%EC%84%B1%EC%A0%84%EC%9E%90&sm=tab_opt&sort=1&photo=0&field=0&pd=7&docid=&related=0&mynews=1&office_type=0&office_section_code=0&news_office_checked=&is_sug_officeid=0&office_category=0&service_area=0\n"
     ]
    }
   ],
   "source": [
    "import pandas as pd\n",
    "from selenium import webdriver\n",
    "\n",
    "from selenium.webdriver.common.by import By\n",
    "from selenium.webdriver.chrome.service import Service\n",
    "from selenium.webdriver.chrome.options import Options\n",
    "from bs4 import BeautifulSoup\n",
    "import time\n",
    "import os\n",
    "import urllib.parse\n",
    "\n",
    "\n",
    "# 공통 파라미터 설정\n",
    "base_url = \"https://search.naver.com/search.naver\"\n",
    "common_params = {\n",
    "    'where': 'news',\n",
    "    'query': '삼성전자',\n",
    "    'sm': 'tab_opt',\n",
    "    'sort': '1',\n",
    "    'photo': '0',\n",
    "    'field': '0',\n",
    "    # 'pd': '3',\n",
    "    'pd': '7',\n",
    "    # 'ds': '2024.04.23',\n",
    "    # 'de': '2024.04.23',\n",
    "    'docid': '',\n",
    "    'related': '0',\n",
    "    'mynews': '1',\n",
    "    'office_type': '0',\n",
    "    'office_section_code': '0',\n",
    "    'news_office_checked': '',\n",
    "    # 'nso': 'so:dd,p:from20240423to20240423',\n",
    "    'is_sug_officeid': '0',\n",
    "    'office_category': '0',\n",
    "    'service_area': '0',\n",
    "}\n",
    "\n",
    "encoded_params = urllib.parse.urlencode(common_params)\n",
    "full_url = f\"{base_url}?{encoded_params}\"\n",
    "\n",
    "print(\"URL:\", full_url)\n",
    "\n",
    "\n",
    "# Initialize a Chrome webdriver\n",
    "op = webdriver.ChromeOptions()\n",
    "op.add_argument('--headless')\n",
    "op.add_argument('--no-sandbox')\n",
    "op.add_argument(\"--disable-dev-shm-usage\")\n",
    "# op.add_argument(\"--window-size=1920x1080\")\n",
    "\n",
    "# service.start()\n",
    "# driver = webdriver.Remote(service.service_url, options=op)\n",
    "# driver = webdriver.Chrome(service=Service(ChromeDriverManager(version=\"119.0.6045.105\").install()), options=op)\n",
    "service = Service(\"./chromedriver-linux64/chromedriver\")\n",
    "driver = webdriver.Chrome(service=service, options=op)\n",
    "SCROLL_PAUSE_TIME = 0.5\n",
    "driver.get(full_url)\n",
    "\n",
    "# Get scroll height\n",
    "last_height = driver.execute_script(\"return document.body.scrollHeight\")\n",
    "\n",
    "while True:\n",
    "    # Scroll down to bottom\n",
    "    driver.execute_script(\"window.scrollTo(0, document.body.scrollHeight);\")\n",
    "\n",
    "    # Wait to load page\n",
    "    time.sleep(SCROLL_PAUSE_TIME)\n",
    "\n",
    "    # Calculate new scroll height and compare with last scroll height\n",
    "    new_height = driver.execute_script(\"return document.body.scrollHeight\")\n",
    "    if new_height == last_height:\n",
    "        break\n",
    "    last_height = new_height\n",
    "\n",
    "\n",
    "# Wait for the dynamic content to load\n",
    "time.sleep(1)\n",
    "\n",
    "# Parse the webpage with BeautifulSoup\n",
    "soup = BeautifulSoup(driver.page_source, 'html.parser')"
   ]
  },
  {
   "cell_type": "code",
   "execution_count": 2,
   "metadata": {},
   "outputs": [
    {
     "name": "stdout",
     "output_type": "stream",
     "text": [
      "5\n"
     ]
    }
   ],
   "source": [
    "articles = soup.select(\"#main_pack > section.sc_new.sp_nnews._fe_news_collection._prs_nws > div.api_subject_bx > div.group_news > ul\")\n",
    "print(len(articles[0]))\n",
    "news_links = []\n",
    "for i in range(len(articles[0])):\n",
    "    article = articles[0].select(f\"#sp_nws{i+1} > div > div > div.news_info > div.info_group > a:nth-child(4)\")\n",
    "    if article == []:\n",
    "        article = articles[0].select(f\"#sp_nws{i+1} > div > div > div.news_info > div.info_group > a:nth-child(3)\")\n",
    "        if article == []:\n",
    "            continue\n",
    "    news_links.append(article[0][\"href\"])\n",
    "driver.close()"
   ]
  },
  {
   "cell_type": "code",
   "execution_count": 3,
   "metadata": {},
   "outputs": [
    {
     "data": {
      "text/plain": [
       "[]"
      ]
     },
     "execution_count": 3,
     "metadata": {},
     "output_type": "execute_result"
    }
   ],
   "source": [
    "news_links"
   ]
  },
  {
   "cell_type": "code",
   "execution_count": 4,
   "metadata": {},
   "outputs": [],
   "source": [
    "for link in news_links:\n",
    "    driver.get(link)"
   ]
  },
  {
   "cell_type": "code",
   "execution_count": 1,
   "metadata": {},
   "outputs": [
    {
     "ename": "NameError",
     "evalue": "name 'driver' is not defined",
     "output_type": "error",
     "traceback": [
      "\u001b[0;31m---------------------------------------------------------------------------\u001b[0m",
      "\u001b[0;31mNameError\u001b[0m                                 Traceback (most recent call last)",
      "Cell \u001b[0;32mIn[1], line 1\u001b[0m\n\u001b[0;32m----> 1\u001b[0m \u001b[43mdriver\u001b[49m\u001b[38;5;241m.\u001b[39mquit()\n",
      "\u001b[0;31mNameError\u001b[0m: name 'driver' is not defined"
     ]
    }
   ],
   "source": [
    "driver.quit()"
   ]
  },
  {
   "cell_type": "code",
   "execution_count": null,
   "metadata": {},
   "outputs": [],
   "source": []
  }
 ],
 "metadata": {
  "kernelspec": {
   "display_name": "bert",
   "language": "python",
   "name": "python3"
  },
  "language_info": {
   "codemirror_mode": {
    "name": "ipython",
    "version": 3
   },
   "file_extension": ".py",
   "mimetype": "text/x-python",
   "name": "python",
   "nbconvert_exporter": "python",
   "pygments_lexer": "ipython3",
   "version": "3.9.18"
  }
 },
 "nbformat": 4,
 "nbformat_minor": 2
}
