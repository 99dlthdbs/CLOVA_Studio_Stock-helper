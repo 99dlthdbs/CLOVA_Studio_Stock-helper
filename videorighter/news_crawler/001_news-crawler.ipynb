{
 "cells": [
  {
   "cell_type": "code",
   "execution_count": 66,
   "metadata": {},
   "outputs": [
    {
     "name": "stdout",
     "output_type": "stream",
     "text": [
      "URL: https://search.naver.com/search.naver?where=news&query=%EC%82%BC%EC%84%B1%EC%A0%84%EC%9E%90&sm=tab_opt&sort=1&photo=0&field=0&pd=7&docid=&related=0&mynews=1&office_type=0&office_section_code=0&news_office_checked=&is_sug_officeid=0&office_category=0&service_area=0\n"
     ]
    }
   ],
   "source": [
    "import pandas as pd\n",
    "from selenium import webdriver\n",
    "\n",
    "from selenium.webdriver.common.by import By\n",
    "from selenium.webdriver.chrome.service import Service\n",
    "from selenium.webdriver.chrome.options import Options\n",
    "from bs4 import BeautifulSoup\n",
    "import time\n",
    "import os\n",
    "import urllib.parse\n",
    "\n",
    "\n",
    "# 공통 파라미터 설정\n",
    "base_url = \"https://search.naver.com/search.naver\"\n",
    "common_params = {\n",
    "    'where': 'news',\n",
    "    'query': '삼성전자',\n",
    "    'sm': 'tab_opt',\n",
    "    'sort': '1',\n",
    "    'photo': '0',\n",
    "    'field': '0',\n",
    "    # 'pd': '3',\n",
    "    'pd': '7',\n",
    "    # 'ds': '2024.04.23',\n",
    "    # 'de': '2024.04.23',\n",
    "    'docid': '',\n",
    "    'related': '0',\n",
    "    'mynews': '1',\n",
    "    'office_type': '0',\n",
    "    'office_section_code': '0',\n",
    "    'news_office_checked': '',\n",
    "    # 'nso': 'so:dd,p:from20240423to20240423',\n",
    "    'is_sug_officeid': '0',\n",
    "    'office_category': '0',\n",
    "    'service_area': '0',\n",
    "}\n",
    "\n",
    "encoded_params = urllib.parse.urlencode(common_params)\n",
    "full_url = f\"{base_url}?{encoded_params}\"\n",
    "\n",
    "print(\"URL:\", full_url)\n",
    "\n",
    "\n",
    "# Initialize a Chrome webdriver\n",
    "op = webdriver.ChromeOptions()\n",
    "op.add_argument('--headless')\n",
    "op.add_argument('--no-sandbox')\n",
    "op.add_argument(\"--disable-dev-shm-usage\")\n",
    "# op.add_argument(\"--window-size=1920x1080\")\n",
    "\n",
    "# service.start()\n",
    "# driver = webdriver.Remote(service.service_url, options=op)\n",
    "# driver = webdriver.Chrome(service=Service(ChromeDriverManager(version=\"119.0.6045.105\").install()), options=op)\n",
    "service = Service(\"./chromedriver-linux64/chromedriver\")\n",
    "driver = webdriver.Chrome(service=service, options=op)\n",
    "SCROLL_PAUSE_TIME = 0.5\n",
    "driver.get(full_url)\n",
    "\n",
    "# Get scroll height\n",
    "last_height = driver.execute_script(\"return document.body.scrollHeight\")\n",
    "\n",
    "while True:\n",
    "    # Scroll down to bottom\n",
    "    driver.execute_script(\"window.scrollTo(0, document.body.scrollHeight);\")\n",
    "\n",
    "    # Wait to load page\n",
    "    time.sleep(SCROLL_PAUSE_TIME)\n",
    "\n",
    "    # Calculate new scroll height and compare with last scroll height\n",
    "    new_height = driver.execute_script(\"return document.body.scrollHeight\")\n",
    "    if new_height == last_height:\n",
    "        break\n",
    "    last_height = new_height\n",
    "\n",
    "\n",
    "# Wait for the dynamic content to load\n",
    "time.sleep(1)\n",
    "\n",
    "# Parse the webpage with BeautifulSoup\n",
    "soup = BeautifulSoup(driver.page_source, 'html.parser')"
   ]
  },
  {
   "cell_type": "code",
   "execution_count": 68,
   "metadata": {},
   "outputs": [
    {
     "name": "stdout",
     "output_type": "stream",
     "text": [
      "22\n"
     ]
    }
   ],
   "source": [
    "articles = soup.select(\"#main_pack > section.sc_new.sp_nnews._fe_news_collection._prs_nws > div.api_subject_bx > div.group_news > ul\")\n",
    "print(len(articles[0]))\n",
    "news_links = []\n",
    "for i in range(len(articles[0])):\n",
    "    article = articles[0].select(f\"#sp_nws{i+1} > div > div > div.news_info > div.info_group > a:nth-child(4)\")\n",
    "    if article == []:\n",
    "        article = articles[0].select(f\"#sp_nws{i+1} > div > div > div.news_info > div.info_group > a:nth-child(3)\")\n",
    "        if article == []:\n",
    "            continue\n",
    "    news_links.append(article[0][\"href\"])\n",
    "driver.close()"
   ]
  },
  {
   "cell_type": "code",
   "execution_count": 69,
   "metadata": {},
   "outputs": [
    {
     "data": {
      "text/plain": [
       "['https://n.news.naver.com/mnews/article/312/0000659398?sid=106',\n",
       " 'https://n.news.naver.com/mnews/article/437/0000389757?sid=101',\n",
       " 'https://n.news.naver.com/mnews/article/014/0005175655?sid=110',\n",
       " 'https://n.news.naver.com/mnews/article/243/0000058844?sid=101',\n",
       " 'https://n.news.naver.com/mnews/article/119/0002823220?sid=101']"
      ]
     },
     "execution_count": 69,
     "metadata": {},
     "output_type": "execute_result"
    }
   ],
   "source": [
    "news_links"
   ]
  },
  {
   "cell_type": "code",
   "execution_count": 33,
   "metadata": {},
   "outputs": [
    {
     "data": {
      "text/plain": [
       "[<li class=\"bx\" id=\"sp_nws2\"> <div class=\"news_wrap api_ani_send\"> <div class=\"news_area\"> <div class=\"news_info\"> <div class=\"api_save_group _keep_wrap\"> <a aria-pressed=\"false\" class=\"btn_save _keep_trigger\" data-url=\"http://www.goodkyung.com/news/articleView.html?idxno=235151\" href=\"#\" onclick=\"tCR('a=nws*f.kep&amp;r=2&amp;i=88172beb_000000000000000000159574&amp;u=javascript'); return false;\" role=\"button\"><i class=\"spnew ico_save\">문서 저장하기</i></a> <div class=\"api_ly_save _keep_save_layer\"> <a class=\"spnew_af item item_save _keep_save\" data-cr-off=\"a=nws*f.kepoff&amp;r=2&amp;i=88172beb_000000000000000000159574&amp;u=javascript\" data-cr-on=\"a=nws*f.kepon&amp;r=2&amp;i=88172beb_000000000000000000159574&amp;u=javascript\" href=\"#\" role=\"button\">Keep에 저장</a> <a class=\"spnew_af item item_quick\" href=\"https://keep.naver.com/\" onclick=\"return goOtherCR(this,'a=nws*f.kephome&amp;r=2&amp;i=88172beb_000000000000000000159574&amp;u='+urlencode(this.href));\" target=\"_blank\">Keep 바로가기</a> </div></div><div class=\"info_group\"> <a class=\"info press\" href=\"http://www.goodkyung.com/\" onclick=\"return goOtherCR(this, 'a=nws*f.prof&amp;r=2&amp;i=88172beb_000000000000000000159574&amp;g=5464.0000159574&amp;u='+urlencode(this.href));\" target=\"_blank\"><span class=\"thumb_box\"><img alt=\"\" class=\"thumb\" height=\"24\" onerror=\"this.src='data:image/gif;base64,R0lGODlhAQABAIAAAAAAAP///yH5BAEAAAAALAAAAAABAAEAAAIBRAA7';this.className='thumb bg_default_press'\" src=\"https://search.pstatic.net/common/?src=http%3A%2F%2Fcms.kpinews.co.kr%2Fimage%2Flogo%2Ffavicon.png&amp;type=f54_54&amp;expire=24&amp;refresh=true\" width=\"24\"/></span>굿모닝경제</a><span class=\"info\">2분 전</span> </div></div><div class=\"news_contents\"> <a class=\"dsc_thumb\" href=\"http://www.goodkyung.com/news/articleView.html?idxno=235151\" onclick=\"return goOtherCR(this, 'a=nws*f.img&amp;r=2&amp;i=88172beb_000000000000000000159574&amp;g=5464.0000159574&amp;u='+urlencode(this.href));\" target=\"_blank\"><img alt=\"코스피, 외인 ‘팔자세\" class=\"thumb\" height=\"104\" onerror=\"this.parentNode.style.display='none';\" src=\"https://search.pstatic.net/common/?src=https%3A%2F%2Fimgnews.pstatic.net%2Fimage%2Forigin%2F5464%2F2024%2F04%2F23%2F159574.jpg&amp;type=ofullfill208_208_empty&amp;expire=2&amp;refresh=true\" width=\"104\"/></a> <a class=\"news_tit\" href=\"http://www.goodkyung.com/news/articleView.html?idxno=235151\" onclick=\"return goOtherCR(this, 'a=nws*f.tit&amp;r=2&amp;i=88172beb_000000000000000000159574&amp;g=5464.0000159574&amp;u='+urlencode(this.href));\" target=\"_blank\" title=\"코스피, 외인 '팔자세'에 하락…2623선 마감\">코스피, 외인 '팔자세'에 하락…2623선 마감 </a> <div class=\"news_dsc\"> <div class=\"dsc_wrap\"> <a class=\"api_txt_lines dsc_txt_wrap\" href=\"http://www.goodkyung.com/news/articleView.html?idxno=235151\" onclick=\"return goOtherCR(this, 'a=nws*f.body&amp;r=2&amp;i=88172beb_000000000000000000159574&amp;g=5464.0000159574&amp;u='+urlencode(this.href));\" target=\"_blank\">포스코홀딩스(-0.89%)와 <mark>삼성전자</mark>(-0.79%), 네이버(-0.44%), SK하이닉스(-0.35%)는 약보합 마감했다. 반면, 현대차(1.84%)는 주가가 상승했으며 기아(0.70%)와 셀트리온(0.56%)은 강보합으로 장을 마쳤다. 이날 코스닥 지수는 전 거래일과 비교해 0.38포인트(0.04%) 하락한 845.44에 마감했다. 전일 나스닥 강세... </a> </div> </div></div></div></div></li>]"
      ]
     },
     "execution_count": 33,
     "metadata": {},
     "output_type": "execute_result"
    }
   ],
   "source": [
    "for link in news_links:\n",
    "    driver.get(link)"
   ]
  },
  {
   "cell_type": "code",
   "execution_count": 65,
   "metadata": {},
   "outputs": [],
   "source": [
    "driver.quit()"
   ]
  },
  {
   "cell_type": "code",
   "execution_count": null,
   "metadata": {},
   "outputs": [],
   "source": []
  }
 ],
 "metadata": {
  "kernelspec": {
   "display_name": "bert",
   "language": "python",
   "name": "python3"
  },
  "language_info": {
   "codemirror_mode": {
    "name": "ipython",
    "version": 3
   },
   "file_extension": ".py",
   "mimetype": "text/x-python",
   "name": "python",
   "nbconvert_exporter": "python",
   "pygments_lexer": "ipython3",
   "version": "3.9.18"
  }
 },
 "nbformat": 4,
 "nbformat_minor": 2
}
