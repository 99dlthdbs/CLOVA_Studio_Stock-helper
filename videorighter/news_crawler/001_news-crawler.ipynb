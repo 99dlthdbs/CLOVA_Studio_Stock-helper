{
 "cells": [
  {
   "cell_type": "code",
   "execution_count": 1,
   "metadata": {},
   "outputs": [
    {
     "name": "stdout",
     "output_type": "stream",
     "text": [
      "URL: https://search.naver.com/search.naver?where=news&query=%EC%82%BC%EC%84%B1%EC%A0%84%EC%9E%90&sm=tab_opt&sort=1&photo=0&field=0&pd=7&docid=&related=0&mynews=1&office_type=0&office_section_code=0&news_office_checked=&is_sug_officeid=0&office_category=0&service_area=0\n"
     ]
    }
   ],
   "source": [
    "import pandas as pd\n",
    "from selenium import webdriver\n",
    "\n",
    "from selenium.webdriver.common.by import By\n",
    "from selenium.webdriver.chrome.service import Service\n",
    "from selenium.webdriver.chrome.options import Options\n",
    "from bs4 import BeautifulSoup\n",
    "import time\n",
    "import os\n",
    "import urllib.parse\n",
    "\n",
    "\n",
    "# 공통 파라미터 설정\n",
    "base_url = \"https://search.naver.com/search.naver\"\n",
    "common_params = {\n",
    "    'where': 'news',\n",
    "    'query': '삼성전자',\n",
    "    'sm': 'tab_opt',\n",
    "    'sort': '1',\n",
    "    'photo': '0',\n",
    "    'field': '0',\n",
    "    # 'pd': '3',\n",
    "    'pd': '7',\n",
    "    # 'ds': '2024.04.23',\n",
    "    # 'de': '2024.04.23',\n",
    "    'docid': '',\n",
    "    'related': '0',\n",
    "    'mynews': '1',\n",
    "    'office_type': '0',\n",
    "    'office_section_code': '0',\n",
    "    'news_office_checked': '',\n",
    "    # 'nso': 'so:dd,p:from20240423to20240423',\n",
    "    'is_sug_officeid': '0',\n",
    "    'office_category': '0',\n",
    "    'service_area': '0',\n",
    "}\n",
    "\n",
    "encoded_params = urllib.parse.urlencode(common_params)\n",
    "full_url = f\"{base_url}?{encoded_params}\"\n",
    "\n",
    "print(\"URL:\", full_url)\n",
    "\n",
    "\n",
    "# Initialize a Chrome webdriver\n",
    "op = webdriver.ChromeOptions()\n",
    "op.add_argument('--headless')\n",
    "op.add_argument('--no-sandbox')\n",
    "op.add_argument(\"--disable-dev-shm-usage\")\n",
    "# op.add_argument(\"--window-size=1920x1080\")\n",
    "\n",
    "# service.start()\n",
    "# driver = webdriver.Remote(service.service_url, options=op)\n",
    "# driver = webdriver.Chrome(service=Service(ChromeDriverManager(version=\"119.0.6045.105\").install()), options=op)\n",
    "service = Service(\"./chromedriver-linux64/chromedriver\")\n",
    "driver = webdriver.Chrome(service=service, options=op)\n",
    "SCROLL_PAUSE_TIME = 0.5\n",
    "driver.get(full_url)\n",
    "\n",
    "# Get scroll height\n",
    "last_height = driver.execute_script(\"return document.body.scrollHeight\")\n",
    "\n",
    "while True:\n",
    "    # Scroll down to bottom\n",
    "    driver.execute_script(\"window.scrollTo(0, document.body.scrollHeight);\")\n",
    "\n",
    "    # Wait to load page\n",
    "    time.sleep(SCROLL_PAUSE_TIME)\n",
    "\n",
    "    # Calculate new scroll height and compare with last scroll height\n",
    "    new_height = driver.execute_script(\"return document.body.scrollHeight\")\n",
    "    if new_height == last_height:\n",
    "        break\n",
    "    last_height = new_height\n",
    "\n",
    "\n",
    "# Wait for the dynamic content to load\n",
    "time.sleep(1)\n",
    "\n",
    "# Parse the webpage with BeautifulSoup\n",
    "soup = BeautifulSoup(driver.page_source, 'html.parser')"
   ]
  },
  {
   "cell_type": "code",
   "execution_count": 2,
   "metadata": {},
   "outputs": [
    {
     "name": "stdout",
     "output_type": "stream",
     "text": [
      "78\n"
     ]
    }
   ],
   "source": [
    "articles = soup.select(\"#main_pack > section.sc_new.sp_nnews._fe_news_collection._prs_nws > div.api_subject_bx > div.group_news > ul\")\n",
    "print(len(articles[0]))\n",
    "news_links = []\n",
    "for i in range(len(articles[0])):\n",
    "    article = articles[0].select(f\"#sp_nws{i+1} > div > div > div.news_info > div.info_group > a:nth-child(4)\")\n",
    "    if article == []:\n",
    "        article = articles[0].select(f\"#sp_nws{i+1} > div > div > div.news_info > div.info_group > a:nth-child(3)\")\n",
    "        if article == []:\n",
    "            continue\n",
    "    news_links.append(article[0][\"href\"])\n",
    "driver.close()"
   ]
  },
  {
   "cell_type": "code",
   "execution_count": 3,
   "metadata": {},
   "outputs": [
    {
     "data": {
      "text/plain": [
       "['https://n.news.naver.com/mnews/article/029/0002871464?sid=101',\n",
       " 'https://n.news.naver.com/mnews/article/079/0003891436?sid=101',\n",
       " 'https://n.news.naver.com/mnews/article/011/0004335821?sid=105',\n",
       " 'https://n.news.naver.com/mnews/article/277/0005413457?sid=101',\n",
       " 'https://n.news.naver.com/mnews/article/092/0002330081?sid=105',\n",
       " 'https://n.news.naver.com/mnews/article/092/0002330081?sid=105',\n",
       " 'https://n.news.naver.com/mnews/article/138/0002172464?sid=105',\n",
       " 'https://n.news.naver.com/mnews/article/015/0004979760?sid=105',\n",
       " 'https://n.news.naver.com/mnews/article/014/0005179828?sid=101',\n",
       " 'https://n.news.naver.com/mnews/article/014/0005179829?sid=101']"
      ]
     },
     "execution_count": 3,
     "metadata": {},
     "output_type": "execute_result"
    }
   ],
   "source": [
    "news_links"
   ]
  },
  {
   "cell_type": "code",
   "execution_count": 4,
   "metadata": {},
   "outputs": [
    {
     "ename": "InvalidSessionIdException",
     "evalue": "Message: invalid session id\nStacktrace:\n#0 0x596b4f463e33 <unknown>\n#1 0x596b4f1533b7 <unknown>\n#2 0x596b4f19051d <unknown>\n#3 0x596b4f1c0244 <unknown>\n#4 0x596b4f1baee7 <unknown>\n#5 0x596b4f1ba08f <unknown>\n#6 0x596b4f11fb08 <unknown>\n#7 0x596b4f42859b <unknown>\n#8 0x596b4f42c34b <unknown>\n#9 0x596b4f414681 <unknown>\n#10 0x596b4f42ceb2 <unknown>\n#11 0x596b4f3f96af <unknown>\n#12 0x596b4f11e106 <unknown>\n#13 0x737801029d90 <unknown>\n",
     "output_type": "error",
     "traceback": [
      "\u001b[0;31m---------------------------------------------------------------------------\u001b[0m",
      "\u001b[0;31mInvalidSessionIdException\u001b[0m                 Traceback (most recent call last)",
      "Cell \u001b[0;32mIn[4], line 2\u001b[0m\n\u001b[1;32m      1\u001b[0m \u001b[38;5;28;01mfor\u001b[39;00m link \u001b[38;5;129;01min\u001b[39;00m news_links:\n\u001b[0;32m----> 2\u001b[0m     \u001b[43mdriver\u001b[49m\u001b[38;5;241;43m.\u001b[39;49m\u001b[43mget\u001b[49m\u001b[43m(\u001b[49m\u001b[43mlink\u001b[49m\u001b[43m)\u001b[49m\n",
      "File \u001b[0;32m~/anaconda3/envs/ais/lib/python3.9/site-packages/selenium/webdriver/remote/webdriver.py:356\u001b[0m, in \u001b[0;36mWebDriver.get\u001b[0;34m(self, url)\u001b[0m\n\u001b[1;32m    354\u001b[0m \u001b[38;5;28;01mdef\u001b[39;00m \u001b[38;5;21mget\u001b[39m(\u001b[38;5;28mself\u001b[39m, url: \u001b[38;5;28mstr\u001b[39m) \u001b[38;5;241m-\u001b[39m\u001b[38;5;241m>\u001b[39m \u001b[38;5;28;01mNone\u001b[39;00m:\n\u001b[1;32m    355\u001b[0m \u001b[38;5;250m    \u001b[39m\u001b[38;5;124;03m\"\"\"Loads a web page in the current browser session.\"\"\"\u001b[39;00m\n\u001b[0;32m--> 356\u001b[0m     \u001b[38;5;28;43mself\u001b[39;49m\u001b[38;5;241;43m.\u001b[39;49m\u001b[43mexecute\u001b[49m\u001b[43m(\u001b[49m\u001b[43mCommand\u001b[49m\u001b[38;5;241;43m.\u001b[39;49m\u001b[43mGET\u001b[49m\u001b[43m,\u001b[49m\u001b[43m \u001b[49m\u001b[43m{\u001b[49m\u001b[38;5;124;43m\"\u001b[39;49m\u001b[38;5;124;43murl\u001b[39;49m\u001b[38;5;124;43m\"\u001b[39;49m\u001b[43m:\u001b[49m\u001b[43m \u001b[49m\u001b[43murl\u001b[49m\u001b[43m}\u001b[49m\u001b[43m)\u001b[49m\n",
      "File \u001b[0;32m~/anaconda3/envs/ais/lib/python3.9/site-packages/selenium/webdriver/remote/webdriver.py:347\u001b[0m, in \u001b[0;36mWebDriver.execute\u001b[0;34m(self, driver_command, params)\u001b[0m\n\u001b[1;32m    345\u001b[0m response \u001b[38;5;241m=\u001b[39m \u001b[38;5;28mself\u001b[39m\u001b[38;5;241m.\u001b[39mcommand_executor\u001b[38;5;241m.\u001b[39mexecute(driver_command, params)\n\u001b[1;32m    346\u001b[0m \u001b[38;5;28;01mif\u001b[39;00m response:\n\u001b[0;32m--> 347\u001b[0m     \u001b[38;5;28;43mself\u001b[39;49m\u001b[38;5;241;43m.\u001b[39;49m\u001b[43merror_handler\u001b[49m\u001b[38;5;241;43m.\u001b[39;49m\u001b[43mcheck_response\u001b[49m\u001b[43m(\u001b[49m\u001b[43mresponse\u001b[49m\u001b[43m)\u001b[49m\n\u001b[1;32m    348\u001b[0m     response[\u001b[38;5;124m\"\u001b[39m\u001b[38;5;124mvalue\u001b[39m\u001b[38;5;124m\"\u001b[39m] \u001b[38;5;241m=\u001b[39m \u001b[38;5;28mself\u001b[39m\u001b[38;5;241m.\u001b[39m_unwrap_value(response\u001b[38;5;241m.\u001b[39mget(\u001b[38;5;124m\"\u001b[39m\u001b[38;5;124mvalue\u001b[39m\u001b[38;5;124m\"\u001b[39m, \u001b[38;5;28;01mNone\u001b[39;00m))\n\u001b[1;32m    349\u001b[0m     \u001b[38;5;28;01mreturn\u001b[39;00m response\n",
      "File \u001b[0;32m~/anaconda3/envs/ais/lib/python3.9/site-packages/selenium/webdriver/remote/errorhandler.py:229\u001b[0m, in \u001b[0;36mErrorHandler.check_response\u001b[0;34m(self, response)\u001b[0m\n\u001b[1;32m    227\u001b[0m         alert_text \u001b[38;5;241m=\u001b[39m value[\u001b[38;5;124m\"\u001b[39m\u001b[38;5;124malert\u001b[39m\u001b[38;5;124m\"\u001b[39m]\u001b[38;5;241m.\u001b[39mget(\u001b[38;5;124m\"\u001b[39m\u001b[38;5;124mtext\u001b[39m\u001b[38;5;124m\"\u001b[39m)\n\u001b[1;32m    228\u001b[0m     \u001b[38;5;28;01mraise\u001b[39;00m exception_class(message, screen, stacktrace, alert_text)  \u001b[38;5;66;03m# type: ignore[call-arg]  # mypy is not smart enough here\u001b[39;00m\n\u001b[0;32m--> 229\u001b[0m \u001b[38;5;28;01mraise\u001b[39;00m exception_class(message, screen, stacktrace)\n",
      "\u001b[0;31mInvalidSessionIdException\u001b[0m: Message: invalid session id\nStacktrace:\n#0 0x596b4f463e33 <unknown>\n#1 0x596b4f1533b7 <unknown>\n#2 0x596b4f19051d <unknown>\n#3 0x596b4f1c0244 <unknown>\n#4 0x596b4f1baee7 <unknown>\n#5 0x596b4f1ba08f <unknown>\n#6 0x596b4f11fb08 <unknown>\n#7 0x596b4f42859b <unknown>\n#8 0x596b4f42c34b <unknown>\n#9 0x596b4f414681 <unknown>\n#10 0x596b4f42ceb2 <unknown>\n#11 0x596b4f3f96af <unknown>\n#12 0x596b4f11e106 <unknown>\n#13 0x737801029d90 <unknown>\n"
     ]
    }
   ],
   "source": [
    "for link in news_links:\n",
    "    driver.get(link)"
   ]
  },
  {
   "cell_type": "code",
   "execution_count": 1,
   "metadata": {},
   "outputs": [
    {
     "ename": "NameError",
     "evalue": "name 'driver' is not defined",
     "output_type": "error",
     "traceback": [
      "\u001b[0;31m---------------------------------------------------------------------------\u001b[0m",
      "\u001b[0;31mNameError\u001b[0m                                 Traceback (most recent call last)",
      "Cell \u001b[0;32mIn[1], line 1\u001b[0m\n\u001b[0;32m----> 1\u001b[0m \u001b[43mdriver\u001b[49m\u001b[38;5;241m.\u001b[39mquit()\n",
      "\u001b[0;31mNameError\u001b[0m: name 'driver' is not defined"
     ]
    }
   ],
   "source": [
    "driver.quit()"
   ]
  },
  {
   "cell_type": "code",
   "execution_count": null,
   "metadata": {},
   "outputs": [],
   "source": []
  }
 ],
 "metadata": {
  "kernelspec": {
   "display_name": "bert",
   "language": "python",
   "name": "python3"
  },
  "language_info": {
   "codemirror_mode": {
    "name": "ipython",
    "version": 3
   },
   "file_extension": ".py",
   "mimetype": "text/x-python",
   "name": "python",
   "nbconvert_exporter": "python",
   "pygments_lexer": "ipython3",
   "version": "3.9.18"
  }
 },
 "nbformat": 4,
 "nbformat_minor": 2
}
