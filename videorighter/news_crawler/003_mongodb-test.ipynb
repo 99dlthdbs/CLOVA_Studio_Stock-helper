{
 "cells": [
  {
   "cell_type": "code",
   "execution_count": 1,
   "metadata": {},
   "outputs": [],
   "source": [
    "import pandas as pd\n",
    "import glob\n",
    "import os\n",
    "import json\n",
    "from pymongo import MongoClient\n",
    "from bson import ObjectId"
   ]
  },
  {
   "cell_type": "code",
   "execution_count": 2,
   "metadata": {},
   "outputs": [],
   "source": [
    "client = MongoClient()\n",
    "\n",
    "# Provide the connection details\n",
    "hostname = 'mongo.stockhelper-mongodb.store'\n",
    "# port = 22  # Default MongoDB port\n",
    "username = 'root'  # If authentication is required\n",
    "password = 'financial'  # If authentication is required\n",
    "\n",
    "# Create a MongoClient instance\n",
    "# client = MongoClient(hostname, port, username=username, password=password)\n",
    "client = MongoClient(hostname, username=username, password=password)"
   ]
  },
  {
   "cell_type": "code",
   "execution_count": 3,
   "metadata": {},
   "outputs": [
    {
     "name": "stdout",
     "output_type": "stream",
     "text": [
      "['admin', 'config', 'financial']\n"
     ]
    }
   ],
   "source": [
    "print(client.list_database_names())"
   ]
  },
  {
   "cell_type": "code",
   "execution_count": 5,
   "metadata": {},
   "outputs": [],
   "source": [
    "db = client['financial']\n",
    "# db.create_collection('news')\n",
    "# db.news.drop()\n",
    "# print(db.list_collections())\n",
    "\n",
    "news = db.news.find({})\n",
    "news_list = list(news)"
   ]
  },
  {
   "cell_type": "code",
   "execution_count": 5,
   "metadata": {},
   "outputs": [
    {
     "data": {
      "text/plain": [
       "{'_id': ObjectId('66573009cc181a651d491b40'),\n",
       " 'news_date': '2024-05-23',\n",
       " 'news_time': '21:20:01',\n",
       " 'query': '삼성전자',\n",
       " 'title': '삼성전자·SK하이닉스 “환영”…소부장 중기는 “글쎄”',\n",
       " 'press': '경향신문',\n",
       " 'summary': '미국·일본식 직접 지원 빠져“보조금 통해 기술력 키워야”중기엔 미흡한 지원책 평가',\n",
       " 'content': '윤석열 정부가 추진하는 26조원 규모의 ‘반도체 산업 종합지원 프로그램’에 대해 반도체 기업인 삼성전자와 SK하이닉스는 일제히 환영의 뜻을 밝혔다. 다만 미국·일본 등이 반도체 기업들에 현찰을 직접 쥐여주는 것과 달리, 정부 대책에는 직접 보조금이 빠져 있어 중소·중견 소부장(소재·부품·장비) 기업들에 유효한 지원책이 되기에는 미흡하다는 반응도 나온다.23일 정부가 발표한 반도체 지원책에 반도체 대기업들은 환영한다는 입장을 내놨다. 삼성전자는 “반도체 산업의 미래 경쟁력 제고에 큰 힘이 될 것”이라며 “용수·도로 등 인프라를 국가가 책임지고 조성하겠다고 한 것은 미래지향적인 건설적 내용”이라고 평가했다. SK하이닉스도 “반도체 산업을 둘러싼 치열한 글로벌 경쟁 속에 국내 반도체 기업들이 투자하기 좋은 환경을 만들어줄 것”이라고 했다.반면 미국·일본 등이 반도체 공장을 유치하려고 경쟁적으로 현금을 쥐여주는 상황에서 대출 위주의 이번 지원책은 아쉽다는 목소리도 나온다. 미국은 2022년 반도체법(칩스법)을 통해 마련한 총 390억달러(약 53조원)의 보조금을 인텔·TSMC·삼성전자 등에 지원하고 있다. 일본 정부도 4조엔(약 35조원)가량의 자금을 배정해 자국 라피더스와 대만 TSMC를 지원한다.반도체 업계 한 관계자는 “최근 미국·일본이 워낙 적극적으로 보조금을 지원하고 있어 업계에서도 그런 건의를 해왔다”며 “다만 정부에서는 재정적인 측면도 봐야 하는 만큼 보조금이 아닌 다른 측면에서 지원할 수 있는 방안을 보고 있는 것 같다”고 말했다.전날 한국경제인협회는 국회에 반도체·2차전지 등에 대한 보조금 정책을 적극 검토해달라는 의견서를 제출하며 “주요국은 첨단산업의 자국 유치를 위해 공격적으로 투자 보조금을 늘리고 있지만, 한국은 관련 지원에 소극적”이라며 “원가 경쟁력이 역전될 위기에 처했다”고 지적한 바 있다.이종환 상명대 시스템반도체공학과 교수는 “중소·중견 소부장 기업은 아무래도 현금화가 쉬운 직접 보조금 형태가 나을 것”이라며 “팹리스(설계 전문회사)도 대부분 영세한 편인데, 대규모의 직접 지원을 통해 전체적인 인프라와 소부장 기술을 탄탄하게 할 필요가 있다”고 말했다.',\n",
       " 'url': 'https://n.news.naver.com/mnews/article/032/0003298107?sid=100'}"
      ]
     },
     "execution_count": 5,
     "metadata": {},
     "output_type": "execute_result"
    }
   ],
   "source": [
    "news_list[-1]"
   ]
  },
  {
   "cell_type": "code",
   "execution_count": 13,
   "metadata": {},
   "outputs": [
    {
     "name": "stdout",
     "output_type": "stream",
     "text": [
      "0\n"
     ]
    }
   ],
   "source": [
    "db.news.delete_many({\"query\": \"삼성전자\", \"news_date\": \"2024-05-06\"})\n",
    "sk = db.news.find({\"query\": \"삼성전자\", \"news_date\": \"2024-05-06\"})\n",
    "sk = list(sk)\n",
    "print(len(sk))"
   ]
  },
  {
   "cell_type": "code",
   "execution_count": 11,
   "metadata": {},
   "outputs": [
    {
     "data": {
      "text/plain": [
       "{'_id': ObjectId('6657871fe408bff56db9f557'),\n",
       " 'news_date': '2024-04-04',\n",
       " 'news_time': '00:01:33',\n",
       " 'query': '삼성전자',\n",
       " 'title': \"1년 만에 22% 오른 삼성전자, '적립식 개미' 환호성 언제까지\",\n",
       " 'press': '더팩트',\n",
       " 'summary': \"3년 만에 8만5000원 돌파3년간 매월 2일 주식 샀다면 평단가 7만816.66원'삼오장' 투자 주의도\",\n",
       " 'content': '삼성전자 주가가 1년 만에 22%가량 치솟으면서 일정 기간 삼성전자 주식을 꾸준히 사 모은 개인 투자자들의 환호가 이어지고 있다.4일 한국거래소에 따르면 전날인 3일 삼성전자는 전 거래일 대비 1.06%(900원) 내린 8만4100원에 거래를 마쳤다. 다만 최근 기세가 크게 꺾이진 않은 모양새다. 장 초반 8만3500원까지 내리는 차익실현 매물이 대거 쏟아졌으나, 오후 들어 매수세가 소폭 돌아오면서 1%대 하락에 그쳐서다.하루 숨을 골랐지만 삼성전자는 최근 뚜렷한 상승 곡선을 그렸다. 지난달 28일 8만800원에 장을 마감해 3년 만에 \\'8만 전자\\'를 기록한 후 4거래일 만에 5.19%(4200원)가 오른 8만5000원에 거래를 마쳐 또 최고가를 경신했기 때문이다. 시가총액(시총) 역시 2021년 4월 20일(500조8647억원) 이후 3년 만에 500조원대로 복귀했다.최근 1년 기준 상승률은 무려 22.65%에 달한다. 삼성전자의 지난해 4월 3일 종가는 6만3100원으로, 이날부터 지난달 3일까지 매월 3일(휴장이면 다음 날)마다 주식을 일정하게 샀다고 가정하면 평균 단가는 7만816.66원이 된다. 단순 계산으로도 8만5000원을 기록한 4월 2일 매도했다면 20.03%의 수익률을 남긴다.실제로 삼성전자를 보유한 주주들도 수익을 남긴 비중이 높은 것으로 나타났다. NH투자증권 모바일트레이딩시스템(MTS)에 따르면 1일 기준 NH투자증권 증권계좌를 통해 삼성전자에 투자 중인 투자자들의 약 87%가 수익을 내고 있으며, 이들의 평균 단가는 7만3441원으로 평균 13%대의 수익률을 기록하고 있다.이렇다 보니 개미들은 삼성전자를 곧장 매도해 차익실현을 남길지 향후 주가가 더 오를 것으로 기대하며 지켜볼지 행복한 고민을 이어가고 있다. 삼성전자 주주들은 종목 토론방, 주식 채팅방 등 온라인 커뮤니티 등을 통해 \"10만 전자 진짜 오는 건가\", \"더 이상 국장을 무시하지 마라\", \"지금 팔고 소고기 사드세요\", \"아직 90층인데요\" 등 다양한 반응을 보내고 있다.증권가는 향후 삼성전자 주가에 긍정적인 신호를 보낸다. 지난 2일까지 차익실현을 노린 개인투자자들의 매도세가 이어지는 와중에도 11거래일 연속 매수를 기록한 외인이 수급을 받히고 있고, 반도체 업황 회복에 따른 실적 개선 기대감이 이어지고 있어서다.이재원 신한투자증권 연구원은 \"삼성전자가 인공지능(AI) 수요에 따른 데이터센터와 기업용 솔리드스테이트드라이브(SSD) 매출이 증가했고 1분기 가격 인상폭도 확대되리라는 것이 상승의 배경이 됐다\"며 \"실적 발표를 앞두고 업황 회복에 따른 실적 개선 기대감에 자금이 유입된 것으로 본다\"고 해석했다.일각에서는 국내 증시에 \\'삼오장(삼성전자만 오르는 장)\\'이라는 말도 있는 만큼 한 종목에 쏠림 현상이 이어진 것도 투자에 주의해야 한다는 이야기도 나온다. 실제로 삼성전자 주가가 올해 처음으로 8만원을 넘어선 3월 28일 코스피 지수는 0.34% 내렸고 4월 3일 역시 1.68% 급락했다. 삼성전자가 코스피에서 차지하는 시총 비중이 21%임을 고려하면 삼성전자 외에 다른 종목들의 약세가 짙다는 해석도 가능하다.한 금융투자업계 관계자는 \"최근 삼성전자의 주식 상승 요인 중 외인의 집중 매수 현상이 격화되고 있는 점을 주목할 필요가 있다. 외인은 삼성전자가 8만5000원을 기록한 2일 하루에만 무려 1조원어치를 순매수했다. 최근 미국 대형 반도체업체의 주가가 오르고 반도체 업황 회복 전망에 따라 미래 실적 개선 기대에 따른 선행 투자가 삼성전자 주가 상승의 주된 배경이라면 삼성전자 외에도 여러 반도체 종목이나 코스피 지수도 크게 올라야 한다\"고 말했다.발로 뛰는 더팩트는 24시간 여러분의 제보를 기다립니다.▶카카오톡: \\'더팩트제보\\' 검색▶이메일: jebo@tf.co.kr▶뉴스 홈페이지: http://talk.tf.co.kr/bbs/report/write',\n",
       " 'url': 'https://n.news.naver.com/mnews/article/629/0000278531?sid=101'}"
      ]
     },
     "execution_count": 11,
     "metadata": {},
     "output_type": "execute_result"
    }
   ],
   "source": [
    "sk[-1]"
   ]
  },
  {
   "cell_type": "code",
   "execution_count": 7,
   "metadata": {},
   "outputs": [],
   "source": [
    "def convert_objectid(doc):\n",
    "    if \"_id\" in doc:\n",
    "        doc[\"_id\"] = str(doc[\"_id\"])\n",
    "    return doc"
   ]
  },
  {
   "cell_type": "code",
   "execution_count": 8,
   "metadata": {},
   "outputs": [],
   "source": [
    "sk = db.news.find({\"query\": \"SK하이닉스\"})\n",
    "sk = list(sk)\n",
    "\n",
    "sk = [convert_objectid(doc) for doc in sk]\n",
    "\n",
    "with open('result.json', 'w', encoding='utf-8') as f:\n",
    "    json.dump(sk, f, ensure_ascii=False, indent=4)"
   ]
  },
  {
   "cell_type": "code",
   "execution_count": 18,
   "metadata": {},
   "outputs": [
    {
     "data": {
      "text/plain": [
       "InsertManyResult([ObjectId('66543f3edd6251d389804c51')], acknowledged=True)"
      ]
     },
     "execution_count": 18,
     "metadata": {},
     "output_type": "execute_result"
    }
   ],
   "source": [
    "# client.drop_database('financial')\n",
    "db = client['financial']\n",
    "news = db['news']\n",
    "\n",
    "# Document 데이터 생성\n",
    "documents = [\n",
    "    {\n",
    "        'date_news': '2024-05-27',\n",
    "        'query': 'Samsung',\n",
    "        'title': 'Sample News Title',\n",
    "        'press': 'Sample Press',\n",
    "        'url': 'https://www.example.com/sample-news',\n",
    "        'summary': 'This is a summary of the sample news article.',\n",
    "        'content': 'This is the full content of the sample news article.'\n",
    "    }\n",
    "]\n",
    "\n",
    "news.insert_many(documents)"
   ]
  },
  {
   "cell_type": "code",
   "execution_count": 9,
   "metadata": {},
   "outputs": [],
   "source": [
    "batch = []\n",
    "tmp = 0\n",
    "for news in batch:\n",
    "    print(0)"
   ]
  },
  {
   "cell_type": "code",
   "execution_count": 6,
   "metadata": {},
   "outputs": [
    {
     "data": {
      "text/plain": [
       "'2024.05.20.19'"
      ]
     },
     "execution_count": 6,
     "metadata": {},
     "output_type": "execute_result"
    }
   ],
   "source": [
    "from datetime import datetime\n",
    "datetime.now().strftime(\"%Y.%m.%d.%H\")"
   ]
  },
  {
   "cell_type": "code",
   "execution_count": null,
   "metadata": {},
   "outputs": [],
   "source": []
  }
 ],
 "metadata": {
  "kernelspec": {
   "display_name": "ais",
   "language": "python",
   "name": "python3"
  },
  "language_info": {
   "codemirror_mode": {
    "name": "ipython",
    "version": 3
   },
   "file_extension": ".py",
   "mimetype": "text/x-python",
   "name": "python",
   "nbconvert_exporter": "python",
   "pygments_lexer": "ipython3",
   "version": "3.10.14"
  }
 },
 "nbformat": 4,
 "nbformat_minor": 2
}
