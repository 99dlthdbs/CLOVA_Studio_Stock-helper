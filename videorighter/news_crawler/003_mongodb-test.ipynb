{
 "cells": [
  {
   "cell_type": "code",
   "execution_count": 76,
   "metadata": {},
   "outputs": [],
   "source": [
    "import pandas as pd\n",
    "import glob\n",
    "import os\n",
    "import json\n",
    "from pymongo import MongoClient\n",
    "from bson import ObjectId"
   ]
  },
  {
   "cell_type": "code",
   "execution_count": 77,
   "metadata": {},
   "outputs": [],
   "source": [
    "client = MongoClient()\n",
    "\n",
    "# Provide the connection details\n",
    "hostname = 'mongo.stockhelper-mongodb.store'\n",
    "# port = 22  # Default MongoDB port\n",
    "username = 'root'  # If authentication is required\n",
    "password = 'financial'  # If authentication is required\n",
    "\n",
    "# Create a MongoClient instance\n",
    "# client = MongoClient(hostname, port, username=username, password=password)\n",
    "client = MongoClient(hostname, username=username, password=password)"
   ]
  },
  {
   "cell_type": "code",
   "execution_count": 78,
   "metadata": {},
   "outputs": [
    {
     "name": "stdout",
     "output_type": "stream",
     "text": [
      "['admin', 'config', 'financial']\n"
     ]
    }
   ],
   "source": [
    "print(client.list_database_names())"
   ]
  },
  {
   "cell_type": "code",
   "execution_count": 94,
   "metadata": {},
   "outputs": [],
   "source": [
    "db = client['financial']\n",
    "# db.create_collection('news')\n",
    "# db.news.drop()\n",
    "# print(db.list_collections())\n",
    "\n",
    "news = db.news.find({})\n",
    "news_list = list(news)"
   ]
  },
  {
   "cell_type": "code",
   "execution_count": 97,
   "metadata": {},
   "outputs": [
    {
     "data": {
      "text/plain": [
       "{'_id': ObjectId('6656b5120a66d6e8d39dff59'),\n",
       " 'news_date': '2024-04-11',\n",
       " 'news_time': '09:44:23',\n",
       " 'query': 'SK하이닉스',\n",
       " 'title': 'SK하이닉스 최우진 부사장 \"패키징 기술, 반도체 패권경쟁 핵심\"',\n",
       " 'press': '연합뉴스',\n",
       " 'summary': '\"AI 시대 고객 원하는 성능 갖춘 \\'시그니처 메모리\\' 집중\"',\n",
       " 'content': '(서울=연합뉴스) 임기창 기자 = SK하이닉스의 메모리 패키징 분야를 담당하는 최우진 부사장이 \"고성능 칩 수요가 폭증하는 인공지능(AI) 시대에 첨단 패키징 기술로 최고 성능 메모리를 개발하는 데 기여하겠다\"는 포부를 밝혔다.SK하이닉스의 반도체 후공정 담당 조직 P&T(Package & Test)를 이끄는 최 부사장은 11일 SK하이닉스 뉴스룸에 공개된 인터뷰에서 \"P&T 기술 혁신은 반도체 패권 경쟁을 가르는 핵심 요소로 부상하고 있다\"며 이같이 말했다.최 부사장은 지난 30년간 메모리반도체 패키징 연구개발(R&D)에 매진해 온 후공정 분야 전문가다. 그가 담당하는 P&T는 팹(fab·반도체 생산공장)에서 전 공정을 마친 웨이퍼를 가져와 제품 형태로 패키징하고 고객 요구에 맞게 동작하는지 테스트하는 역할을 맡는다.그는 \"AI 시대에 발맞춰 다양한 기능, 크기, 형태, 전력 효율 등 고객이 원하는 성능을 갖춘 \\'시그니처 메모리\\'에 집중하고 있다\"고 말했다.이어 \"이를 구현하고자 고대역폭 메모리(HBM) 성능의 키 역할을 하는 실리콘 관통 전극(TSV), MR-MUF 등 기술을 고도화하면서 메모리-비메모리 등 이종 간 결합을 도와 새로운 유형의 반도체 개발에 기여하게 될 칩렛, 하이브리드 본딩 등 다양한 첨단 패키징 기술 개발에 주력하고 있다\"고 소개했다.최 부사장은 \"이 과정에서 한계를 두지 않고 도전해 강력한 기술 우위를 보여줄 것\"이라고 강조했다.최 부사장은 챗GPT 열풍에 따른 D램 수요 급증에 대응하고자 신속하게 생산라인을 확보해 SK하이닉스의 AI 메모리 선도 입지를 강화하는 데 기여하기도 했다.그는 \"지난해 AI 메모리 수요가 갑작스럽게 늘어나면서 즉각적인 대응이 어려운 상황이었지만 재빨리 TSV 패키징 라인을 활용해 DDR5 D램 기반 서버향 3DS 모듈 제품을 추가 투자 없이 증산하는 데 성공했다\"며 \"이른 시간 안에 내린 과감한 결단이 주효했던 사례\"라고 소개했다.최 부사장은 최근 SK하이닉스가 발표한 미국 인디애나주 패키징 생산시설 건립 계획 수립 과정에서 팹 구축 및 운영 전략을 짜는 등 주요 역할을 담당했다.그는 \"현재 팹 설계와 양산 시스템을 구체화하고 글로벌 기업과의 R&D 협력 생태계 구축을 위한 준비를 진행 중\"이라며 \"공장 가동이 본격화하면 회사의 AI 메모리 기술 및 비즈니스 리더십 강화에 크게 기여할 것으로 기대한다\"고 했다최 부사장은 \"단기적으로는 국내 생산 역량을 강화해 HBM 수요에 대응하고 글로벌 기지를 잘 활용해 수익성을 극대화하겠다\"며 \"장기적으로는 지금 HBM의 핵심인 MR-MUF처럼 혁신적 패키징 기술을 확보하는 것이 목표\"라고 강조했다.pulse@yna.co.kr',\n",
       " 'url': 'https://n.news.naver.com/mnews/article/001/0014624919?sid=105'}"
      ]
     },
     "execution_count": 97,
     "metadata": {},
     "output_type": "execute_result"
    }
   ],
   "source": [
    "news_list[-1]"
   ]
  },
  {
   "cell_type": "code",
   "execution_count": 108,
   "metadata": {},
   "outputs": [
    {
     "name": "stdout",
     "output_type": "stream",
     "text": [
      "0\n"
     ]
    }
   ],
   "source": [
    "db.news.delete_many({\"query\": \"SK하이닉스\", \"news_date\": \"2024-03-14\"})\n",
    "sk = db.news.find({\"query\": \"SK하이닉스\", \"news_date\": \"2024-03-14\"})\n",
    "sk = list(sk)\n",
    "print(len(sk))"
   ]
  },
  {
   "cell_type": "code",
   "execution_count": 80,
   "metadata": {},
   "outputs": [],
   "source": [
    "def convert_objectid(doc):\n",
    "    if \"_id\" in doc:\n",
    "        doc[\"_id\"] = str(doc[\"_id\"])\n",
    "    return doc"
   ]
  },
  {
   "cell_type": "code",
   "execution_count": 83,
   "metadata": {},
   "outputs": [],
   "source": [
    "sk = db.news.find({\"query\": \"SK하이닉스\"})\n",
    "sk = list(sk)\n",
    "\n",
    "sk = [convert_objectid(doc) for doc in sk]\n",
    "\n",
    "with open('result.json', 'w', encoding='utf-8') as f:\n",
    "    json.dump(sk, f, ensure_ascii=False, indent=4)"
   ]
  },
  {
   "cell_type": "code",
   "execution_count": 18,
   "metadata": {},
   "outputs": [
    {
     "data": {
      "text/plain": [
       "InsertManyResult([ObjectId('66543f3edd6251d389804c51')], acknowledged=True)"
      ]
     },
     "execution_count": 18,
     "metadata": {},
     "output_type": "execute_result"
    }
   ],
   "source": [
    "# client.drop_database('financial')\n",
    "db = client['financial']\n",
    "news = db['news']\n",
    "\n",
    "# Document 데이터 생성\n",
    "documents = [\n",
    "    {\n",
    "        'date_news': '2024-05-27',\n",
    "        'query': 'Samsung',\n",
    "        'title': 'Sample News Title',\n",
    "        'press': 'Sample Press',\n",
    "        'url': 'https://www.example.com/sample-news',\n",
    "        'summary': 'This is a summary of the sample news article.',\n",
    "        'content': 'This is the full content of the sample news article.'\n",
    "    }\n",
    "]\n",
    "\n",
    "news.insert_many(documents)"
   ]
  },
  {
   "cell_type": "code",
   "execution_count": 22,
   "metadata": {},
   "outputs": [
    {
     "data": {
      "text/plain": [
       "float"
      ]
     },
     "execution_count": 22,
     "metadata": {},
     "output_type": "execute_result"
    }
   ],
   "source": [
    "import random\n",
    "\n",
    "a = float(random.uniform(0.5, 2))\n",
    "type(a)"
   ]
  },
  {
   "cell_type": "code",
   "execution_count": 6,
   "metadata": {},
   "outputs": [
    {
     "data": {
      "text/plain": [
       "'2024.05.20.19'"
      ]
     },
     "execution_count": 6,
     "metadata": {},
     "output_type": "execute_result"
    }
   ],
   "source": [
    "from datetime import datetime\n",
    "datetime.now().strftime(\"%Y.%m.%d.%H\")"
   ]
  },
  {
   "cell_type": "code",
   "execution_count": null,
   "metadata": {},
   "outputs": [],
   "source": []
  }
 ],
 "metadata": {
  "kernelspec": {
   "display_name": "ais",
   "language": "python",
   "name": "python3"
  },
  "language_info": {
   "codemirror_mode": {
    "name": "ipython",
    "version": 3
   },
   "file_extension": ".py",
   "mimetype": "text/x-python",
   "name": "python",
   "nbconvert_exporter": "python",
   "pygments_lexer": "ipython3",
   "version": "3.10.14"
  }
 },
 "nbformat": 4,
 "nbformat_minor": 2
}
