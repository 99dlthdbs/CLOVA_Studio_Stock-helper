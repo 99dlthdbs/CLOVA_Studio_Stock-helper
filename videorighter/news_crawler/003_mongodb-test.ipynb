{
 "cells": [
  {
   "cell_type": "code",
   "execution_count": 12,
   "metadata": {},
   "outputs": [],
   "source": [
    "import pandas as pd\n",
    "import glob\n",
    "import os\n",
    "import json\n",
    "from pymongo import MongoClient\n",
    "from bson import ObjectId"
   ]
  },
  {
   "cell_type": "markdown",
   "metadata": {},
   "source": []
  },
  {
   "cell_type": "code",
   "execution_count": 13,
   "metadata": {},
   "outputs": [],
   "source": [
    "client = MongoClient()\n",
    "\n",
    "# Provide the connection details\n",
    "hostname = 'mongo.stockhelper-mongodb.store'\n",
    "# port = 22  # Default MongoDB port\n",
    "username = 'root'  # If authentication is required\n",
    "password = 'financial'  # If authentication is required\n",
    "\n",
    "# Create a MongoClient instance\n",
    "# client = MongoClient(hostname, port, username=username, password=password)\n",
    "client = MongoClient(hostname, username=username, password=password)"
   ]
  },
  {
   "cell_type": "code",
   "execution_count": 14,
   "metadata": {},
   "outputs": [
    {
     "name": "stdout",
     "output_type": "stream",
     "text": [
      "['admin', 'config', 'financial']\n"
     ]
    }
   ],
   "source": [
    "print(client.list_database_names())"
   ]
  },
  {
   "cell_type": "code",
   "execution_count": 15,
   "metadata": {},
   "outputs": [],
   "source": [
    "db = client['financial']\n",
    "# db.create_collection('news')\n",
    "# db.news.drop()\n",
    "# print(db.list_collections())\n",
    "\n",
    "news = db.news.find({})\n",
    "news_list = list(news)"
   ]
  },
  {
   "cell_type": "code",
   "execution_count": 6,
   "metadata": {},
   "outputs": [
    {
     "data": {
      "text/plain": [
       "{'_id': ObjectId('665682e9accf225ebafb0085'),\n",
       " 'news_date': '2024-05-29',\n",
       " 'news_time': '10:17:53',\n",
       " 'query': 'SK하이닉스',\n",
       " 'title': '\"땡큐 엔비디아\"...SK하이닉스 장중 \\'신고가\\' [권영훈의 증시뉴스 PICK]',\n",
       " 'press': '한국경제TV',\n",
       " 'summary': '◆ \"땡큐 엔비디아\"...SK하이닉스 장중 \\'신고가\\'',\n",
       " 'content': \"첫번째 뉴스픽입니다.SK하이닉스가 엔비디아 급등 영향으로 장중 52주 신고가를 갈아치웠습니다.현지시간 28일 뉴욕 증시에서 엔비디아는 7% 가까이 급등했습니다.액면분할을 앞두고 있는 가운데 일론 머스크의 AI 스타트업이 엔비이아 AI칩을 사용할 것이란 소식이 영향을 줬습니다.SK하이닉스는 엔비디아에 고대역폭메모리 HBM을 사실상 독점 공급하고 있습니다.◆ LG에너지솔루션 '신저가'...업황부진에 신용등급 하향두번째 뉴스픽입니다.LG에너지솔루션은 장중 52주 신저가를 경신했습니다.전기차 시장 부진 영향으로 1분기 영업이익이 지난해보다 75% 줄었는데 업황 부진이 지속될 것이란 전망이 나오고 있기 때문입니다.또, S&P글로벌은 어제(28일) LG에너지솔루션에 대해 신용등급 전망을 '안정적'에서 '부정적'으로 하향 조정했습니다.◆ 신세계건설 '급등'...6,500억원 자본 확충 영향세번째 뉴스픽입니다.신세계건설이 자본 확충 소식에 상한가 가까이 급등세입니다.신세계건설은 어제(28일) 이사회에서 재무구조 개선과 선제적 유동성 확보를 위해 6,500억원 규모의 신종자본증권 신규 발행을 승인했다고 밝혔습니다.이에 따라 800%대 부채비율이 200% 아래로 떨어질 전망입니다.지금까지 증시뉴스 픽이었습니다.\",\n",
       " 'url': 'https://n.news.naver.com/mnews/article/215/0001164086?sid=101'}"
      ]
     },
     "execution_count": 6,
     "metadata": {},
     "output_type": "execute_result"
    }
   ],
   "source": [
    "news_list[0]"
   ]
  },
  {
   "cell_type": "code",
   "execution_count": 11,
   "metadata": {},
   "outputs": [
    {
     "name": "stdout",
     "output_type": "stream",
     "text": [
      "0\n"
     ]
    }
   ],
   "source": [
    "# db.news.delete_many({\"query\": \"현대차\", \"news_date\": \"2024-04-30\"})\n",
    "sk = db.news.find({\"query\": \"오리엔탈정공\", \"news_date\": \"2024-06-03\"})\n",
    "sk = list(sk)\n",
    "print(len(sk))"
   ]
  },
  {
   "cell_type": "code",
   "execution_count": 10,
   "metadata": {},
   "outputs": [
    {
     "data": {
      "text/plain": [
       "{'_id': ObjectId('665e5de68a799bea8a200390'),\n",
       " 'news_date': '2024-06-04',\n",
       " 'news_time': '08:22:12',\n",
       " 'query': '삼성전자',\n",
       " 'title': '삼성전자, 2024년형 게이밍∙고해상도 모니터 신제품 출시',\n",
       " 'press': '뉴스1',\n",
       " 'summary': None,\n",
       " 'content': \"(서울=뉴스1) = 삼성전자가 2024년형 게이밍 모니터 '오디세이 OLED'와 고해상도 모니터 '뷰피니티' 신제품을 출시했다고 4일 밝혔다.사진은 삼성전자 고해상도 모니터 '뷰피니티(S80UD)'. (삼성전자 제공) 2024.6.4/뉴스12024.6.4/뉴스1\",\n",
       " 'url': 'https://n.news.naver.com/mnews/article/421/0007580395?sid=101'}"
      ]
     },
     "execution_count": 10,
     "metadata": {},
     "output_type": "execute_result"
    }
   ],
   "source": [
    "sk[-1]"
   ]
  },
  {
   "cell_type": "code",
   "execution_count": 7,
   "metadata": {},
   "outputs": [],
   "source": [
    "def convert_objectid(doc):\n",
    "    if \"_id\" in doc:\n",
    "        doc[\"_id\"] = str(doc[\"_id\"])\n",
    "    return doc"
   ]
  },
  {
   "cell_type": "code",
   "execution_count": 8,
   "metadata": {},
   "outputs": [],
   "source": [
    "sk = db.news.find({\"query\": \"SK하이닉스\"})\n",
    "sk = list(sk)\n",
    "\n",
    "sk = [convert_objectid(doc) for doc in sk]\n",
    "\n",
    "with open('result.json', 'w', encoding='utf-8') as f:\n",
    "    json.dump(sk, f, ensure_ascii=False, indent=4)"
   ]
  },
  {
   "cell_type": "code",
   "execution_count": 18,
   "metadata": {},
   "outputs": [
    {
     "data": {
      "text/plain": [
       "InsertManyResult([ObjectId('66543f3edd6251d389804c51')], acknowledged=True)"
      ]
     },
     "execution_count": 18,
     "metadata": {},
     "output_type": "execute_result"
    }
   ],
   "source": [
    "# client.drop_database('financial')\n",
    "db = client['financial']\n",
    "news = db['news']\n",
    "\n",
    "# Document 데이터 생성\n",
    "documents = [\n",
    "    {\n",
    "        'date_news': '2024-05-27',\n",
    "        'query': 'Samsung',\n",
    "        'title': 'Sample News Title',\n",
    "        'press': 'Sample Press',\n",
    "        'url': 'https://www.example.com/sample-news',\n",
    "        'summary': 'This is a summary of the sample news article.',\n",
    "        'content': 'This is the full content of the sample news article.'\n",
    "    }\n",
    "]\n",
    "\n",
    "news.insert_many(documents)"
   ]
  },
  {
   "cell_type": "code",
   "execution_count": 9,
   "metadata": {},
   "outputs": [],
   "source": [
    "batch = []\n",
    "tmp = 0\n",
    "for news in batch:\n",
    "    print(0)"
   ]
  },
  {
   "cell_type": "code",
   "execution_count": 6,
   "metadata": {},
   "outputs": [
    {
     "data": {
      "text/plain": [
       "'2024.05.20.19'"
      ]
     },
     "execution_count": 6,
     "metadata": {},
     "output_type": "execute_result"
    }
   ],
   "source": [
    "from datetime import datetime\n",
    "datetime.now().strftime(\"%Y.%m.%d.%H\")"
   ]
  },
  {
   "cell_type": "code",
   "execution_count": null,
   "metadata": {},
   "outputs": [],
   "source": [
    "!pip install pyexcel pyexcel-xls pyexcel-xlsx"
   ]
  },
  {
   "cell_type": "code",
   "execution_count": null,
   "metadata": {},
   "outputs": [],
   "source": [
    "\n",
    "\n",
    "import pyexcel as p\n",
    "\n",
    "# Load the Excel file\n",
    "file_path = '/mnt/data/UpjongRank_Excel.xls'\n",
    "\n",
    "# Read the Excel file\n",
    "sheet = p.get_sheet(file_name=file_path)\n",
    "\n",
    "# Save the file as CSV\n",
    "csv_file_path = '/mnt/data/UpjongRank_Excel.csv'\n",
    "sheet.save_as(csv_file_path)\n",
    "\n",
    "print(f\"Converted Excel file to CSV and saved as {csv_file_path}\")\n"
   ]
  }
 ],
 "metadata": {
  "kernelspec": {
   "display_name": "ais",
   "language": "python",
   "name": "python3"
  },
  "language_info": {
   "codemirror_mode": {
    "name": "ipython",
    "version": 3
   },
   "file_extension": ".py",
   "mimetype": "text/x-python",
   "name": "python",
   "nbconvert_exporter": "python",
   "pygments_lexer": "ipython3",
   "version": "3.10.14"
  }
 },
 "nbformat": 4,
 "nbformat_minor": 2
}
