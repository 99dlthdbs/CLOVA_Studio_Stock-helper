{
 "cells": [
  {
   "cell_type": "code",
   "execution_count": 2,
   "metadata": {},
   "outputs": [],
   "source": [
    "import pandas as pd\n",
    "import glob\n",
    "import os\n",
    "import json\n",
    "from pymongo import MongoClient\n",
    "\n",
    "client = MongoClient()\n",
    "\n",
    "# Provide the connection details\n",
    "hostname = '223.130.138.213'\n",
    "port = 30001  # Default MongoDB port\n",
    "username = 'root'  # If authentication is required\n",
    "password = 'financial'  # If authentication is required\n",
    "\n",
    "# Create a MongoClient instance\n",
    "client = MongoClient(hostname, port, username=username, password=password)\n",
    "# db = client.get_database('platform')\n",
    "# coll_fuel = db.get_collection('fuel')\n",
    "# coll_ais = db.get_collection('ais')"
   ]
  },
  {
   "cell_type": "code",
   "execution_count": 3,
   "metadata": {},
   "outputs": [
    {
     "name": "stdout",
     "output_type": "stream",
     "text": [
      "['admin', 'config', 'local', 'news']\n"
     ]
    }
   ],
   "source": [
    "print(client.list_database_names())"
   ]
  },
  {
   "cell_type": "code",
   "execution_count": 4,
   "metadata": {},
   "outputs": [],
   "source": [
    "# client.drop_database('financial')\n",
    "db = client['news']\n",
    "collections = db.list_collection_names()\n",
    "\n",
    "# for collection in collections:\n",
    "#     db.create_collection(collection)\n",
    "\n",
    "# news_data = {\n",
    "#     \"date_news\": \"2024-05-19\",\n",
    "#     \"date_collect\": \"2024-05-19\",\n",
    "#     \"title\": \"Sample News Title\",\n",
    "#     \"press\": \"Sample Press\",\n",
    "#     \"url\": \"http://example.com/sample-news\",\n",
    "#     \"summary\": \"This is a sample summary of the news article.\",\n",
    "#     \"content\": \"This is the full content of the sample news article.\"\n",
    "# }\n",
    "\n",
    "# for collection in collections:\n",
    "#     db[collection].insert_one({collection: news_data[collection]})\n",
    "\n",
    "cursor = db.news.find({})"
   ]
  },
  {
   "cell_type": "code",
   "execution_count": 5,
   "metadata": {},
   "outputs": [
    {
     "data": {
      "text/plain": [
       "['summary', 'press', 'title', 'date_collect', 'date_news', 'url', 'content']"
      ]
     },
     "execution_count": 5,
     "metadata": {},
     "output_type": "execute_result"
    }
   ],
   "source": [
    "collections"
   ]
  },
  {
   "cell_type": "code",
   "execution_count": 21,
   "metadata": {},
   "outputs": [],
   "source": [
    "def fetch_all_data(db):\n",
    "    all_data = {}\n",
    "    for collection in collections:\n",
    "        data = list(db[collection].find({}, {'_id': 0}))  # '_id' 필드 제외\n",
    "        all_data[collection] = data\n",
    "    return all_data"
   ]
  },
  {
   "cell_type": "code",
   "execution_count": 22,
   "metadata": {},
   "outputs": [],
   "source": [
    "all_news_data = fetch_all_data(db)"
   ]
  },
  {
   "cell_type": "code",
   "execution_count": 23,
   "metadata": {},
   "outputs": [
    {
     "name": "stdout",
     "output_type": "stream",
     "text": [
      "{\"summary\": [{\"summary\": \"This is a sample summary of the news article.\"}], \"press\": [{\"press\": \"Sample Press\"}], \"title\": [{\"title\": \"Sample News Title\"}], \"date_collect\": [{\"date_collect\": \"2024-05-19\"}], \"date_news\": [{\"date_news\": \"2024-05-19\"}], \"url\": [{\"url\": \"http://example.com/sample-news\"}], \"content\": [{\"content\": \"This is the full content of the sample news article.\"}]}\n"
     ]
    }
   ],
   "source": [
    "print(json.dumps(all_news_data, ensure_ascii=False))"
   ]
  },
  {
   "cell_type": "code",
   "execution_count": 6,
   "metadata": {},
   "outputs": [
    {
     "data": {
      "text/plain": [
       "'2024.05.20.19'"
      ]
     },
     "execution_count": 6,
     "metadata": {},
     "output_type": "execute_result"
    }
   ],
   "source": [
    "from datetime import datetime\n",
    "datetime.now().strftime(\"%Y.%m.%d.%H\")"
   ]
  },
  {
   "cell_type": "code",
   "execution_count": null,
   "metadata": {},
   "outputs": [],
   "source": []
  }
 ],
 "metadata": {
  "kernelspec": {
   "display_name": "ais",
   "language": "python",
   "name": "python3"
  },
  "language_info": {
   "codemirror_mode": {
    "name": "ipython",
    "version": 3
   },
   "file_extension": ".py",
   "mimetype": "text/x-python",
   "name": "python",
   "nbconvert_exporter": "python",
   "pygments_lexer": "ipython3",
   "version": "3.9.18"
  }
 },
 "nbformat": 4,
 "nbformat_minor": 2
}
