{
 "cells": [
  {
   "cell_type": "code",
   "execution_count": 2,
   "metadata": {},
   "outputs": [],
   "source": [
    "import pandas as pd\n",
    "import glob\n",
    "import os\n",
    "import json\n",
    "from pymongo import MongoClient\n",
    "from bson import ObjectId"
   ]
  },
  {
   "cell_type": "markdown",
   "metadata": {},
   "source": []
  },
  {
   "cell_type": "code",
   "execution_count": 3,
   "metadata": {},
   "outputs": [],
   "source": [
    "client = MongoClient()\n",
    "\n",
    "# Provide the connection details\n",
    "hostname = 'mongo.stockhelper-mongodb.store'\n",
    "# port = 22  # Default MongoDB port\n",
    "username = 'root'  # If authentication is required\n",
    "password = 'financial'  # If authentication is required\n",
    "\n",
    "# Create a MongoClient instance\n",
    "# client = MongoClient(hostname, port, username=username, password=password)\n",
    "client = MongoClient(hostname, username=username, password=password)"
   ]
  },
  {
   "cell_type": "code",
   "execution_count": 4,
   "metadata": {},
   "outputs": [
    {
     "name": "stdout",
     "output_type": "stream",
     "text": [
      "['admin', 'config', 'financial']\n"
     ]
    }
   ],
   "source": [
    "print(client.list_database_names())"
   ]
  },
  {
   "cell_type": "code",
   "execution_count": 5,
   "metadata": {},
   "outputs": [],
   "source": [
    "db = client['financial']\n",
    "# db.create_collection('news')\n",
    "# db.news.drop()\n",
    "# print(db.list_collections())\n",
    "\n",
    "news = db.news.find({})\n",
    "news_list = list(news)"
   ]
  },
  {
   "cell_type": "code",
   "execution_count": 6,
   "metadata": {},
   "outputs": [
    {
     "data": {
      "text/plain": [
       "{'_id': ObjectId('66593d525fe998194f5125f5'),\n",
       " 'news_date': '2024-04-30',\n",
       " 'news_time': '11:30:01',\n",
       " 'query': '현대차',\n",
       " 'title': '현대차 전기 SUV ‘아이오닉9’ SK온 고성능 배터리 탑재된다',\n",
       " 'press': '헤럴드경제',\n",
       " 'summary': '현대차·SK온, 신차에 공급 협의SK온 서산공장 증설도 본격 돌입',\n",
       " 'content': '연내 출시 예정인 현대자동차의 대형 플래그십 전기 SUV(스포츠유틸리티차량) 아이오닉9(코드명 ME1)에 SK온이 생산하는 고성능 하이니켈 NCM(니켈·코발트·망간) 배터리가 탑재될 것으로 전망된다. 이에 따라 SK온은 충남 서산공장 증설을 위한 본격적인 작업에 착수했다.30일 완성차와 배터리업계에 따르면 현대차와 SK온은 연내 출시 예정인 아이오닉9에 배터리 공급을 위한 협의를 진행하고 있는 것으로 확인됐다. SK온 서산공장에서 생산된 배터리가 신차에 탑재되는 안이 유력하다.SK온은 일단 기존 생산라인에서 신차 등에 탑재될 배터리를 공급하면서, 내년도 물량 확대에 대비하기 위한 준비 작업에 돌입했다.그 일환으로 SK온 서산공장은 화학물질 취급·전기공사 등 공장 증설에 필요한 시설 공급 협의를 마치고, 최근 서산시청으로부터 건축공사를 위한 안전계획을 승인 받았다.이번 안전계획 승인과 관련 앞서 SK온이 공시를 통해 밝혔던 ‘1조7500억원 규모의 증설 프로젝트’를 위한 본격적인 작업에 착수했다는 분석이 나온다.증설 완공 시점은 내년께이며 고성능 하이니켈 NCM 배터리의 확대 생산이 이뤄지게 된다. 서산공장은 SK그룹이 전기차 배터리 사업을 시작한 모태이자, 글로벌 시장 공략을 위한 전초기지로 꼽힌다.이번 협의에 관여해 온 업계 관계자는 “(현대차와 SK온이) 아이오닉9에 배터리를 탑재하기로 어느 정도 합의점을 찾은 상황으로 보인다”면서 “오랜 기간 협업관계를 맺어온 만큼 사업 추진에 지장이 없을 것으로 예상된다”고 설명했다.아이오닉9은 현대차가 2년만에 선보이는 아이오닉 브랜드의 신규 전동화 차량이다.현대차는 지난 2021년 아이오닉5, 2022년 아이오닉6를 각각 시장에 출시했다. 현대차의 전기차 전용 플랫폼 E-GMP를 기반으로 만들어지며, 아이오닉 최상위 모델인 동시에 기아 EV9과는 형제 라인업을 구성하게 된다.아이오닉9가 SK온의 고성능 하이니켈 NCM 배터리를 탑재할 경우 주행가능 거리는 400㎞ 후반에서 500㎞ 초반 수준이 될 것으로 업계 관계자들은 보고 있다. 이미 현대차의 아이오닉5, GV60·70, EG80 등 모델에는 SK온이 생산한 배터리를 탑재하고 있다. 기아 EV9의 경우 급속충전 성능 강화 배터리인 SK온의 ‘어드밴스드 SF배터리’가 탑재됐다.현대차와 SK온은 배터리 산업 전반에 걸쳐서도 협력 관계를 이어오고 있다. 양측은 지난해 4월 미국 현지 배터리셀 합작법인(JV) 설립 계획을 발표하고, 총 6조5000억원을 투자해 조지아주 바토우 카운티에 연간 35GWh 규모 공장을 짓기로 했다. 이는 전기차 약 30만대 분량에 해당하는 양이다.조지아주 합작공장에서 생산된 배터리 셀은 현대모비스가 배터리 팩으로 제작해 현지에서 생산하는 현대차·기아·제네시스 전기차에 전량 장착될 예정이다.현대차가 조지아주에 짓고 있는 전기차 전용공장 ‘현대차그룹 메타플랜트 아메리카(HMGMA)’는 올해 10월 조기 가동된다. 김성우 기자',\n",
       " 'url': 'https://n.news.naver.com/mnews/article/016/0002302310?sid=101'}"
      ]
     },
     "execution_count": 6,
     "metadata": {},
     "output_type": "execute_result"
    }
   ],
   "source": [
    "news_list[-1]"
   ]
  },
  {
   "cell_type": "code",
   "execution_count": 7,
   "metadata": {},
   "outputs": [
    {
     "name": "stdout",
     "output_type": "stream",
     "text": [
      "0\n"
     ]
    }
   ],
   "source": [
    "db.news.delete_many({\"query\": \"현대차\", \"news_date\": \"2024-04-30\"})\n",
    "sk = db.news.find({\"query\": \"현대차\", \"news_date\": \"2024-04-30\"})\n",
    "sk = list(sk)\n",
    "print(len(sk))"
   ]
  },
  {
   "cell_type": "code",
   "execution_count": 11,
   "metadata": {},
   "outputs": [
    {
     "data": {
      "text/plain": [
       "{'_id': ObjectId('6657871fe408bff56db9f557'),\n",
       " 'news_date': '2024-04-04',\n",
       " 'news_time': '00:01:33',\n",
       " 'query': '삼성전자',\n",
       " 'title': \"1년 만에 22% 오른 삼성전자, '적립식 개미' 환호성 언제까지\",\n",
       " 'press': '더팩트',\n",
       " 'summary': \"3년 만에 8만5000원 돌파3년간 매월 2일 주식 샀다면 평단가 7만816.66원'삼오장' 투자 주의도\",\n",
       " 'content': '삼성전자 주가가 1년 만에 22%가량 치솟으면서 일정 기간 삼성전자 주식을 꾸준히 사 모은 개인 투자자들의 환호가 이어지고 있다.4일 한국거래소에 따르면 전날인 3일 삼성전자는 전 거래일 대비 1.06%(900원) 내린 8만4100원에 거래를 마쳤다. 다만 최근 기세가 크게 꺾이진 않은 모양새다. 장 초반 8만3500원까지 내리는 차익실현 매물이 대거 쏟아졌으나, 오후 들어 매수세가 소폭 돌아오면서 1%대 하락에 그쳐서다.하루 숨을 골랐지만 삼성전자는 최근 뚜렷한 상승 곡선을 그렸다. 지난달 28일 8만800원에 장을 마감해 3년 만에 \\'8만 전자\\'를 기록한 후 4거래일 만에 5.19%(4200원)가 오른 8만5000원에 거래를 마쳐 또 최고가를 경신했기 때문이다. 시가총액(시총) 역시 2021년 4월 20일(500조8647억원) 이후 3년 만에 500조원대로 복귀했다.최근 1년 기준 상승률은 무려 22.65%에 달한다. 삼성전자의 지난해 4월 3일 종가는 6만3100원으로, 이날부터 지난달 3일까지 매월 3일(휴장이면 다음 날)마다 주식을 일정하게 샀다고 가정하면 평균 단가는 7만816.66원이 된다. 단순 계산으로도 8만5000원을 기록한 4월 2일 매도했다면 20.03%의 수익률을 남긴다.실제로 삼성전자를 보유한 주주들도 수익을 남긴 비중이 높은 것으로 나타났다. NH투자증권 모바일트레이딩시스템(MTS)에 따르면 1일 기준 NH투자증권 증권계좌를 통해 삼성전자에 투자 중인 투자자들의 약 87%가 수익을 내고 있으며, 이들의 평균 단가는 7만3441원으로 평균 13%대의 수익률을 기록하고 있다.이렇다 보니 개미들은 삼성전자를 곧장 매도해 차익실현을 남길지 향후 주가가 더 오를 것으로 기대하며 지켜볼지 행복한 고민을 이어가고 있다. 삼성전자 주주들은 종목 토론방, 주식 채팅방 등 온라인 커뮤니티 등을 통해 \"10만 전자 진짜 오는 건가\", \"더 이상 국장을 무시하지 마라\", \"지금 팔고 소고기 사드세요\", \"아직 90층인데요\" 등 다양한 반응을 보내고 있다.증권가는 향후 삼성전자 주가에 긍정적인 신호를 보낸다. 지난 2일까지 차익실현을 노린 개인투자자들의 매도세가 이어지는 와중에도 11거래일 연속 매수를 기록한 외인이 수급을 받히고 있고, 반도체 업황 회복에 따른 실적 개선 기대감이 이어지고 있어서다.이재원 신한투자증권 연구원은 \"삼성전자가 인공지능(AI) 수요에 따른 데이터센터와 기업용 솔리드스테이트드라이브(SSD) 매출이 증가했고 1분기 가격 인상폭도 확대되리라는 것이 상승의 배경이 됐다\"며 \"실적 발표를 앞두고 업황 회복에 따른 실적 개선 기대감에 자금이 유입된 것으로 본다\"고 해석했다.일각에서는 국내 증시에 \\'삼오장(삼성전자만 오르는 장)\\'이라는 말도 있는 만큼 한 종목에 쏠림 현상이 이어진 것도 투자에 주의해야 한다는 이야기도 나온다. 실제로 삼성전자 주가가 올해 처음으로 8만원을 넘어선 3월 28일 코스피 지수는 0.34% 내렸고 4월 3일 역시 1.68% 급락했다. 삼성전자가 코스피에서 차지하는 시총 비중이 21%임을 고려하면 삼성전자 외에 다른 종목들의 약세가 짙다는 해석도 가능하다.한 금융투자업계 관계자는 \"최근 삼성전자의 주식 상승 요인 중 외인의 집중 매수 현상이 격화되고 있는 점을 주목할 필요가 있다. 외인은 삼성전자가 8만5000원을 기록한 2일 하루에만 무려 1조원어치를 순매수했다. 최근 미국 대형 반도체업체의 주가가 오르고 반도체 업황 회복 전망에 따라 미래 실적 개선 기대에 따른 선행 투자가 삼성전자 주가 상승의 주된 배경이라면 삼성전자 외에도 여러 반도체 종목이나 코스피 지수도 크게 올라야 한다\"고 말했다.발로 뛰는 더팩트는 24시간 여러분의 제보를 기다립니다.▶카카오톡: \\'더팩트제보\\' 검색▶이메일: jebo@tf.co.kr▶뉴스 홈페이지: http://talk.tf.co.kr/bbs/report/write',\n",
       " 'url': 'https://n.news.naver.com/mnews/article/629/0000278531?sid=101'}"
      ]
     },
     "execution_count": 11,
     "metadata": {},
     "output_type": "execute_result"
    }
   ],
   "source": [
    "sk[-1]"
   ]
  },
  {
   "cell_type": "code",
   "execution_count": 7,
   "metadata": {},
   "outputs": [],
   "source": [
    "def convert_objectid(doc):\n",
    "    if \"_id\" in doc:\n",
    "        doc[\"_id\"] = str(doc[\"_id\"])\n",
    "    return doc"
   ]
  },
  {
   "cell_type": "code",
   "execution_count": 8,
   "metadata": {},
   "outputs": [],
   "source": [
    "sk = db.news.find({\"query\": \"SK하이닉스\"})\n",
    "sk = list(sk)\n",
    "\n",
    "sk = [convert_objectid(doc) for doc in sk]\n",
    "\n",
    "with open('result.json', 'w', encoding='utf-8') as f:\n",
    "    json.dump(sk, f, ensure_ascii=False, indent=4)"
   ]
  },
  {
   "cell_type": "code",
   "execution_count": 18,
   "metadata": {},
   "outputs": [
    {
     "data": {
      "text/plain": [
       "InsertManyResult([ObjectId('66543f3edd6251d389804c51')], acknowledged=True)"
      ]
     },
     "execution_count": 18,
     "metadata": {},
     "output_type": "execute_result"
    }
   ],
   "source": [
    "# client.drop_database('financial')\n",
    "db = client['financial']\n",
    "news = db['news']\n",
    "\n",
    "# Document 데이터 생성\n",
    "documents = [\n",
    "    {\n",
    "        'date_news': '2024-05-27',\n",
    "        'query': 'Samsung',\n",
    "        'title': 'Sample News Title',\n",
    "        'press': 'Sample Press',\n",
    "        'url': 'https://www.example.com/sample-news',\n",
    "        'summary': 'This is a summary of the sample news article.',\n",
    "        'content': 'This is the full content of the sample news article.'\n",
    "    }\n",
    "]\n",
    "\n",
    "news.insert_many(documents)"
   ]
  },
  {
   "cell_type": "code",
   "execution_count": 9,
   "metadata": {},
   "outputs": [],
   "source": [
    "batch = []\n",
    "tmp = 0\n",
    "for news in batch:\n",
    "    print(0)"
   ]
  },
  {
   "cell_type": "code",
   "execution_count": 6,
   "metadata": {},
   "outputs": [
    {
     "data": {
      "text/plain": [
       "'2024.05.20.19'"
      ]
     },
     "execution_count": 6,
     "metadata": {},
     "output_type": "execute_result"
    }
   ],
   "source": [
    "from datetime import datetime\n",
    "datetime.now().strftime(\"%Y.%m.%d.%H\")"
   ]
  },
  {
   "cell_type": "code",
   "execution_count": null,
   "metadata": {},
   "outputs": [],
   "source": []
  }
 ],
 "metadata": {
  "kernelspec": {
   "display_name": "ais",
   "language": "python",
   "name": "python3"
  },
  "language_info": {
   "codemirror_mode": {
    "name": "ipython",
    "version": 3
   },
   "file_extension": ".py",
   "mimetype": "text/x-python",
   "name": "python",
   "nbconvert_exporter": "python",
   "pygments_lexer": "ipython3",
   "version": "3.10.14"
  }
 },
 "nbformat": 4,
 "nbformat_minor": 2
}
