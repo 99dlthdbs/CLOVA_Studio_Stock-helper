{
 "cells": [
  {
   "cell_type": "code",
   "execution_count": 1,
   "metadata": {},
   "outputs": [],
   "source": [
    "import pandas as pd\n",
    "import glob\n",
    "import os\n",
    "import json\n",
    "from pymongo import MongoClient\n",
    "\n",
    "client = MongoClient()\n",
    "\n",
    "# Provide the connection details\n",
    "hostname = '223.130.138.213'\n",
    "port = 30001  # Default MongoDB port\n",
    "username = 'root'  # If authentication is required\n",
    "password = 'financial'  # If authentication is required\n",
    "\n",
    "# Create a MongoClient instance\n",
    "client = MongoClient(hostname, port, username=username, password=password)\n",
    "# db = client.get_database('platform')\n",
    "# coll_fuel = db.get_collection('fuel')\n",
    "# coll_ais = db.get_collection('ais')"
   ]
  },
  {
   "cell_type": "code",
   "execution_count": 2,
   "metadata": {},
   "outputs": [
    {
     "name": "stdout",
     "output_type": "stream",
     "text": [
      "['admin', 'config', 'local']\n"
     ]
    }
   ],
   "source": [
    "print(client.list_database_names())"
   ]
  },
  {
   "cell_type": "code",
   "execution_count": 7,
   "metadata": {},
   "outputs": [],
   "source": [
    "client.drop_database('financial')\n",
    "db = client['news']\n",
    "collections = ['date_news', 'date_collect', 'title', 'press', 'url', 'summary', 'content']"
   ]
  },
  {
   "cell_type": "code",
   "execution_count": 8,
   "metadata": {},
   "outputs": [],
   "source": [
    "for collection in collections:\n",
    "    db.create_collection(collection)"
   ]
  },
  {
   "cell_type": "code",
   "execution_count": 9,
   "metadata": {},
   "outputs": [],
   "source": [
    "news_data = {\n",
    "    \"date_news\": \"2024-05-19\",\n",
    "    \"date_collect\": \"2024-05-19\",\n",
    "    \"title\": \"Sample News Title\",\n",
    "    \"press\": \"Sample Press\",\n",
    "    \"url\": \"http://example.com/sample-news\",\n",
    "    \"summary\": \"This is a sample summary of the news article.\",\n",
    "    \"content\": \"This is the full content of the sample news article.\"\n",
    "}\n",
    "\n",
    "for collection in collections:\n",
    "    db[collection].insert_one({collection: news_data[collection]})"
   ]
  },
  {
   "cell_type": "code",
   "execution_count": 21,
   "metadata": {},
   "outputs": [],
   "source": [
    "cursor = db.news.find({})"
   ]
  },
  {
   "cell_type": "code",
   "execution_count": 23,
   "metadata": {},
   "outputs": [],
   "source": [
    "def fetch_all_data(db):\n",
    "    all_data = {}\n",
    "    for collection in collections:\n",
    "        data = list(db[collection].find({}, {'_id': 0}))  # '_id' 필드 제외\n",
    "        all_data[collection] = data\n",
    "    return all_data"
   ]
  },
  {
   "cell_type": "code",
   "execution_count": 24,
   "metadata": {},
   "outputs": [],
   "source": [
    "all_news_data = fetch_all_data(db)"
   ]
  },
  {
   "cell_type": "code",
   "execution_count": 25,
   "metadata": {},
   "outputs": [
    {
     "name": "stdout",
     "output_type": "stream",
     "text": [
      "{\n",
      "    \"date_news\": [\n",
      "        {\n",
      "            \"date_news\": \"2024-05-19\"\n",
      "        }\n",
      "    ],\n",
      "    \"date_collect\": [\n",
      "        {\n",
      "            \"date_collect\": \"2024-05-19\"\n",
      "        }\n",
      "    ],\n",
      "    \"title\": [\n",
      "        {\n",
      "            \"title\": \"Sample News Title\"\n",
      "        }\n",
      "    ],\n",
      "    \"press\": [\n",
      "        {\n",
      "            \"press\": \"Sample Press\"\n",
      "        }\n",
      "    ],\n",
      "    \"url\": [\n",
      "        {\n",
      "            \"url\": \"http://example.com/sample-news\"\n",
      "        }\n",
      "    ],\n",
      "    \"summary\": [\n",
      "        {\n",
      "            \"summary\": \"This is a sample summary of the news article.\"\n",
      "        }\n",
      "    ],\n",
      "    \"content\": [\n",
      "        {\n",
      "            \"content\": \"This is the full content of the sample news article.\"\n",
      "        }\n",
      "    ]\n",
      "}\n"
     ]
    }
   ],
   "source": [
    "print(json.dumps(all_news_data, indent=4, ensure_ascii=False))"
   ]
  },
  {
   "cell_type": "code",
   "execution_count": null,
   "metadata": {},
   "outputs": [],
   "source": []
  }
 ],
 "metadata": {
  "kernelspec": {
   "display_name": "ais",
   "language": "python",
   "name": "python3"
  },
  "language_info": {
   "codemirror_mode": {
    "name": "ipython",
    "version": 3
   },
   "file_extension": ".py",
   "mimetype": "text/x-python",
   "name": "python",
   "nbconvert_exporter": "python",
   "pygments_lexer": "ipython3",
   "version": "3.9.18"
  }
 },
 "nbformat": 4,
 "nbformat_minor": 2
}
