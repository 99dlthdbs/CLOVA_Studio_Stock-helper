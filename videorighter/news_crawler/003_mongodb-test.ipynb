{
 "cells": [
  {
   "cell_type": "code",
   "execution_count": 1,
   "metadata": {},
   "outputs": [],
   "source": [
    "import pandas as pd\n",
    "import glob\n",
    "import os\n",
    "import json\n",
    "from pymongo import MongoClient\n",
    "\n",
    "client = MongoClient()\n",
    "\n",
    "# Provide the connection details\n",
    "hostname = 'mongo.stockhelper-mongodb.store'\n",
    "# port = 22  # Default MongoDB port\n",
    "username = 'root'  # If authentication is required\n",
    "password = 'financial'  # If authentication is required\n",
    "\n",
    "# Create a MongoClient instance\n",
    "# client = MongoClient(hostname, port, username=username, password=password)\n",
    "client = MongoClient(hostname, username=username, password=password)"
   ]
  },
  {
   "cell_type": "code",
   "execution_count": 2,
   "metadata": {},
   "outputs": [
    {
     "name": "stdout",
     "output_type": "stream",
     "text": [
      "['admin', 'config', 'financial']\n"
     ]
    }
   ],
   "source": [
    "print(client.list_database_names())"
   ]
  },
  {
   "cell_type": "code",
   "execution_count": 14,
   "metadata": {},
   "outputs": [],
   "source": [
    "db = client['financial']\n",
    "# db.create_collection('news')\n",
    "# db.news.drop()\n",
    "# print(db.list_collections())\n",
    "\n",
    "news = db.news.find({})\n",
    "news_list = list(news)"
   ]
  },
  {
   "cell_type": "code",
   "execution_count": 20,
   "metadata": {},
   "outputs": [
    {
     "data": {
      "text/plain": [
       "{'_id': ObjectId('6655d9936b483a6b54fbbadf'),\n",
       " 'date_news': '2024-05-16 10:38:55',\n",
       " 'query': '삼성전자',\n",
       " 'title': \"삼성전자, 나눠서 결제해 선물하는 '기프트 펀딩' 선봬\",\n",
       " 'press': '일간스포츠',\n",
       " 'summary': None,\n",
       " 'content': '\\'기프트 펀딩\\' 캠페인으로 로봇청소기 \\'비스포크 AI 스팀\\'을 선물하는 모습. 삼성전자 제공삼성전자는 나눠서 결제해 선물하는 \\'기프트 펀딩\\' 캠페인을 진행한다고 16일 밝혔다.삼성닷컴에서 원하는 제품을 선택하고 메시지 카드와 함께 기프트 펀딩 참여 링크를 주변에 공유하면, 지인들이 원하는 액수만큼 펀딩에 참여해 축하의 마음을 전할 수 있다.이번 기프트 펀딩을 위해 삼성닷컴에 분할 결제 시스템을 도입했다. 다른 사람들과 결제 금액을 나누거나 본인의 복수 카드로 원하는 금액만큼 자유롭게 결제할 수 있다.삼성전자는 인기 웹툰 \\'치즈인더트랩\\'과 인기 캐릭터 \\'오늘의짤\\', \\'빵빵이\\', \\'잔망루피\\' 등과 협업해 특별한 메시지 카드도 선보였다.삼성전자 관계자는 \"원하는 방식으로 원하는 선물을 주고받길 원하는 요즘 소비자들의 니즈를 실용적이고 혁신적인 방법으로 반영했다\"고 말했다.정길준 기자 kjkj@edaily.co.kr',\n",
       " 'url': 'https://n.news.naver.com/mnews/article/241/0003350649?sid=105'}"
      ]
     },
     "execution_count": 20,
     "metadata": {},
     "output_type": "execute_result"
    }
   ],
   "source": [
    "news_list[-6]"
   ]
  },
  {
   "cell_type": "code",
   "execution_count": 18,
   "metadata": {},
   "outputs": [
    {
     "data": {
      "text/plain": [
       "InsertManyResult([ObjectId('66543f3edd6251d389804c51')], acknowledged=True)"
      ]
     },
     "execution_count": 18,
     "metadata": {},
     "output_type": "execute_result"
    }
   ],
   "source": [
    "# client.drop_database('financial')\n",
    "db = client['financial']\n",
    "news = db['news']\n",
    "\n",
    "# Document 데이터 생성\n",
    "documents = [\n",
    "    {\n",
    "        'date_news': '2024-05-27',\n",
    "        'query': 'Samsung',\n",
    "        'title': 'Sample News Title',\n",
    "        'press': 'Sample Press',\n",
    "        'url': 'https://www.example.com/sample-news',\n",
    "        'summary': 'This is a summary of the sample news article.',\n",
    "        'content': 'This is the full content of the sample news article.'\n",
    "    }\n",
    "]\n",
    "\n",
    "news.insert_many(documents)"
   ]
  },
  {
   "cell_type": "code",
   "execution_count": 22,
   "metadata": {},
   "outputs": [
    {
     "data": {
      "text/plain": [
       "float"
      ]
     },
     "execution_count": 22,
     "metadata": {},
     "output_type": "execute_result"
    }
   ],
   "source": [
    "import random\n",
    "\n",
    "a = float(random.uniform(0.5, 2))\n",
    "type(a)"
   ]
  },
  {
   "cell_type": "code",
   "execution_count": 6,
   "metadata": {},
   "outputs": [
    {
     "data": {
      "text/plain": [
       "'2024.05.20.19'"
      ]
     },
     "execution_count": 6,
     "metadata": {},
     "output_type": "execute_result"
    }
   ],
   "source": [
    "from datetime import datetime\n",
    "datetime.now().strftime(\"%Y.%m.%d.%H\")"
   ]
  },
  {
   "cell_type": "code",
   "execution_count": null,
   "metadata": {},
   "outputs": [],
   "source": []
  }
 ],
 "metadata": {
  "kernelspec": {
   "display_name": "ais",
   "language": "python",
   "name": "python3"
  },
  "language_info": {
   "codemirror_mode": {
    "name": "ipython",
    "version": 3
   },
   "file_extension": ".py",
   "mimetype": "text/x-python",
   "name": "python",
   "nbconvert_exporter": "python",
   "pygments_lexer": "ipython3",
   "version": "3.10.14"
  }
 },
 "nbformat": 4,
 "nbformat_minor": 2
}
